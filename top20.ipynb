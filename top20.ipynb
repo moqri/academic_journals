{
 "cells": [
  {
   "cell_type": "code",
   "execution_count": 2,
   "metadata": {
    "collapsed": false
   },
   "outputs": [],
   "source": [
    "%matplotlib inline\n",
    "import os, io, json, urllib, numpy as np, codecs\n",
    "import glob, pandas as pd\n",
    "pd.options.display.max_rows = 999"
   ]
  },
  {
   "cell_type": "code",
   "execution_count": 3,
   "metadata": {
    "collapsed": true
   },
   "outputs": [],
   "source": [
    "def h_(citation):\n",
    "    citation=list(citation)\n",
    "    h=0\n",
    "    citation.sort(reverse=True)\n",
    "    for i in range(1,len(citation)+1):\n",
    "        if citation[i-1] >= i:\n",
    "            h=i\n",
    "    return h"
   ]
  },
  {
   "cell_type": "code",
   "execution_count": 188,
   "metadata": {
    "collapsed": false
   },
   "outputs": [
    {
     "ename": "NameError",
     "evalue": "name 'data_path' is not defined",
     "output_type": "error",
     "traceback": [
      "\u001b[1;31m\u001b[0m",
      "\u001b[1;31mNameError\u001b[0mTraceback (most recent call last)",
      "\u001b[1;32m<ipython-input-188-3800f1e7a360>\u001b[0m in \u001b[0;36m<module>\u001b[1;34m()\u001b[0m\n\u001b[0;32m      5\u001b[0m \u001b[0my14\u001b[0m \u001b[1;33m=\u001b[0m \u001b[0mglob\u001b[0m\u001b[1;33m.\u001b[0m\u001b[0mglob\u001b[0m\u001b[1;33m(\u001b[0m\u001b[1;34m'data/August/2014/*.txt'\u001b[0m\u001b[1;33m)\u001b[0m\u001b[1;33m\u001b[0m\u001b[0m\n\u001b[0;32m      6\u001b[0m \u001b[0my14_17\u001b[0m\u001b[1;33m=\u001b[0m\u001b[0my14\u001b[0m\u001b[1;33m+\u001b[0m\u001b[0my15\u001b[0m\u001b[1;33m+\u001b[0m\u001b[0my16\u001b[0m\u001b[1;33m+\u001b[0m\u001b[0my17\u001b[0m\u001b[1;33m\u001b[0m\u001b[0m\n\u001b[1;32m----> 7\u001b[1;33m \u001b[1;32mwith\u001b[0m \u001b[0mopen\u001b[0m\u001b[1;33m(\u001b[0m\u001b[0mdata_path\u001b[0m\u001b[1;33m+\u001b[0m\u001b[1;34m'/merged.txt'\u001b[0m\u001b[1;33m,\u001b[0m \u001b[1;34m\"wb\"\u001b[0m\u001b[1;33m)\u001b[0m \u001b[1;32mas\u001b[0m \u001b[0moutfile\u001b[0m\u001b[1;33m:\u001b[0m\u001b[1;33m\u001b[0m\u001b[0m\n\u001b[0m\u001b[0;32m      8\u001b[0m     \u001b[1;32mfor\u001b[0m \u001b[0mf\u001b[0m \u001b[1;32min\u001b[0m \u001b[0my14_17\u001b[0m\u001b[1;33m:\u001b[0m\u001b[1;33m\u001b[0m\u001b[0m\n\u001b[0;32m      9\u001b[0m         \u001b[1;32mwith\u001b[0m \u001b[0mopen\u001b[0m\u001b[1;33m(\u001b[0m\u001b[0mf\u001b[0m\u001b[1;33m,\u001b[0m \u001b[1;34m\"rb\"\u001b[0m\u001b[1;33m)\u001b[0m \u001b[1;32mas\u001b[0m \u001b[0minfile\u001b[0m\u001b[1;33m:\u001b[0m\u001b[1;33m\u001b[0m\u001b[0m\n",
      "\u001b[1;31mNameError\u001b[0m: name 'data_path' is not defined"
     ]
    }
   ],
   "source": [
    "# skip if result.txt exists\n",
    "y17 = glob.glob('data/August/2017/*.txt')\n",
    "y16 = glob.glob('data/August/2016/*.txt')\n",
    "y15 = glob.glob('data/August/2015/*.txt')\n",
    "y14 = glob.glob('data/August/2014/*.txt')\n",
    "y14_17=y14+y15+y16+y17\n",
    "with open(\"data/August/data.txt\", \"wb\") as outfile:\n",
    "    for f in y14_17:\n",
    "        with open(f, \"rb\") as infile:\n",
    "            lines=infile.read().split('\\n')\n",
    "            for line in lines:\n",
    "                if len(line.split('\\t'))==10:\n",
    "                    outfile.write(line+'\\n')"
   ]
  },
  {
   "cell_type": "code",
   "execution_count": 173,
   "metadata": {
    "collapsed": false
   },
   "outputs": [
    {
     "data": {
      "text/plain": [
       "(11316994, 10)"
      ]
     },
     "execution_count": 173,
     "metadata": {},
     "output_type": "execute_result"
    }
   ],
   "source": [
    "df=pd.read_table(data_path+'/data.txt',header=None)\n",
    "df.columns=['doi','year','ref','citation','issnp','issne','journal','publisher','author','lic']\n",
    "df.shape"
   ]
  },
  {
   "cell_type": "code",
   "execution_count": 174,
   "metadata": {
    "collapsed": false
   },
   "outputs": [],
   "source": [
    "df['yy']=df.year.str[1:5]\n",
    "df['mm']=df.year.apply(lambda x: int(x.replace(']','').split(', ')[1]) if len(x.split(', '))>1 else 0)"
   ]
  },
  {
   "cell_type": "code",
   "execution_count": 175,
   "metadata": {
    "collapsed": false
   },
   "outputs": [
    {
     "data": {
      "text/plain": [
       "(9293675, 12)"
      ]
     },
     "execution_count": 175,
     "metadata": {},
     "output_type": "execute_result"
    }
   ],
   "source": [
    "df=df[~((df.yy=='2014') & (df.mm<9))]\n",
    "df.shape"
   ]
  },
  {
   "cell_type": "code",
   "execution_count": 177,
   "metadata": {
    "collapsed": false
   },
   "outputs": [],
   "source": [
    "df['year']=df['yy'].astype(int)"
   ]
  },
  {
   "cell_type": "code",
   "execution_count": 178,
   "metadata": {
    "collapsed": false
   },
   "outputs": [
    {
     "data": {
      "text/plain": [
       "(9219121, 12)"
      ]
     },
     "execution_count": 178,
     "metadata": {},
     "output_type": "execute_result"
    }
   ],
   "source": [
    "df=df[(df['year']<=2017) & (df['year']>=2014)]\n",
    "df.shape"
   ]
  },
  {
   "cell_type": "code",
   "execution_count": 179,
   "metadata": {
    "collapsed": false
   },
   "outputs": [],
   "source": [
    "df['count']=1\n",
    "df['cited']=df['citation'].apply(lambda x: 1 if x>0 else 0)\n",
    "df['un-cited']=df['citation'].apply(lambda x: 0 if x>0 else 1)"
   ]
  },
  {
   "cell_type": "code",
   "execution_count": 180,
   "metadata": {
    "collapsed": false
   },
   "outputs": [
    {
     "data": {
      "text/plain": [
       "(9210602, 15)"
      ]
     },
     "execution_count": 180,
     "metadata": {},
     "output_type": "execute_result"
    }
   ],
   "source": [
    "df=df[(~df.issnp.isnull()) | (~df.issne.isnull())]\n",
    "df.shape"
   ]
  },
  {
   "cell_type": "code",
   "execution_count": 181,
   "metadata": {
    "collapsed": false
   },
   "outputs": [],
   "source": [
    "#df=df[['doi','year','mm','citation','issnp','issne']].fillna('_')\n",
    "df=df.fillna('_')\n",
    "df['issn']=df.issnp+','+df.issne\n",
    "df['issn']=df.issn.str.replace(',_','')\n",
    "df['issn']=df.issn.str.replace('_,','')"
   ]
  },
  {
   "cell_type": "code",
   "execution_count": 182,
   "metadata": {
    "collapsed": false
   },
   "outputs": [],
   "source": [
    "df['issn']=df.issn.apply(lambda x:x[0:9] if x[10:19]==x[0:9] else x)"
   ]
  },
  {
   "cell_type": "code",
   "execution_count": 183,
   "metadata": {
    "collapsed": false
   },
   "outputs": [],
   "source": [
    "s=df.issn.str.split(',',expand=True).stack()"
   ]
  },
  {
   "cell_type": "code",
   "execution_count": 184,
   "metadata": {
    "collapsed": true
   },
   "outputs": [],
   "source": [
    "i = s.index.get_level_values(0)"
   ]
  },
  {
   "cell_type": "code",
   "execution_count": 185,
   "metadata": {
    "collapsed": true
   },
   "outputs": [],
   "source": [
    "df2 = df.loc[i].copy()"
   ]
  },
  {
   "cell_type": "code",
   "execution_count": 186,
   "metadata": {
    "collapsed": false
   },
   "outputs": [],
   "source": [
    "df2[\"@id\"] = s.values"
   ]
  },
  {
   "cell_type": "code",
   "execution_count": 24,
   "metadata": {
    "collapsed": false
   },
   "outputs": [],
   "source": [
    "import json\n",
    "\n",
    "with open('journals.json') as data_file:    \n",
    "    id_subject_dic = json.load(data_file)"
   ]
  },
  {
   "cell_type": "code",
   "execution_count": 25,
   "metadata": {
    "collapsed": false
   },
   "outputs": [],
   "source": [
    "df2['subjects']=df2['@id'].apply(lambda x: ';'.join(id_subject_dic[x]['e:subjects']) if x in id_subject_dic else '')"
   ]
  },
  {
   "cell_type": "code",
   "execution_count": 88,
   "metadata": {
    "collapsed": false
   },
   "outputs": [],
   "source": [
    "unique_subjects=[]\n",
    "all_subjects=df2['subjects'].values\n",
    "for journal_subjects in all_subjects:\n",
    "    subjects=journal_subjects.split(';')\n",
    "    for subject in subjects:\n",
    "        if subject not in unique_subjects: unique_subjects.append(subject)"
   ]
  },
  {
   "cell_type": "code",
   "execution_count": 89,
   "metadata": {
    "collapsed": false
   },
   "outputs": [
    {
     "data": {
      "text/plain": [
       "329"
      ]
     },
     "execution_count": 89,
     "metadata": {},
     "output_type": "execute_result"
    }
   ],
   "source": [
    "len(unique_subjects)"
   ]
  },
  {
   "cell_type": "code",
   "execution_count": 170,
   "metadata": {
    "collapsed": false
   },
   "outputs": [
    {
     "name": "stdout",
     "output_type": "stream",
     "text": [
      "\n"
     ]
    }
   ],
   "source": [
    "for subject in unique_subjects[0:1]:\n",
    "    subject=''\n",
    "    print subject\n",
    "    if subject=='':\n",
    "        df_subject=df2.sort_values('citation', ascending= False)[:20]\n",
    "    else:\n",
    "        df_subject=df2[df2.subjects.apply(lambda x: subject in x.split(';'))].sort_values('citation', ascending= False)[:20]\n",
    "    top_dois=df_subject[['doi','@id','citation']].to_dict('list')\n",
    "    zips=zip(top_dois['doi'],top_dois['@id'],top_dois['citation'])\n",
    "    items=[];\n",
    "    for doi,issn,citation in zips:\n",
    "        item={}; item_cleaned={}\n",
    "        url='http://api.crossref.org/works/'+doi\n",
    "        response = urllib.urlopen(url).read()    \n",
    "        json_result=json.loads(response)\n",
    "        item = json_result['message']\n",
    "        author='0';year_print=[9999,99,99];year_online=[9999,99,99];\n",
    "        if 'title' in item:\n",
    "            title=item['title'][0]\n",
    "        if 'published-print' in item:\n",
    "            year_print=item['published-print']['date-parts'][0]                \n",
    "        if 'published-online' in item:\n",
    "            year_online=item['published-online']['date-parts'][0]\n",
    "        year=min(year_print,year_online)\n",
    "        if 'DOI' in item: doi=item['DOI']\n",
    "        if 'container-title' in item: journal=','.join(item['container-title'])\n",
    "        if 'publisher' in item: pub=item['publisher']; pub=''if pub==None else pub\n",
    "        if 'references-count' in item: ref=str(item['references-count'])\n",
    "        if 'author' in item: authors=item['author']\n",
    "        if len(year)>1 :\n",
    "            month=str(year[1]) \n",
    "        else: month=''\n",
    "        item_cleaned={'doi':doi,\n",
    "                      'title':title,\n",
    "                      'year':str(year[0])+'-'+month,\n",
    "                      'cite':str(citation),\n",
    "                      'issn':issn, \n",
    "                      'journal':journal,\n",
    "                      'pub':pub,\n",
    "                      'authors':authors}\n",
    "        items.append(item_cleaned)  \n",
    "    with open('sjdb/top_'+subject+'.json', 'w') as fp:\n",
    "        json.dump(items, fp)    "
   ]
  },
  {
   "cell_type": "code",
   "execution_count": 168,
   "metadata": {
    "collapsed": false
   },
   "outputs": [],
   "source": [
    "for subject in unique_subjects:\n",
    "    df_lic=df2[df2.subjects.apply(lambda x: subject in x.split(';'))]\n",
    "    top_lics=df_lic[['lic','count']].groupby('lic').count().sort_values('count',ascending=False).head().reset_index().to_dict('list')\n",
    "    zips=zip(top_lics['lic'],top_lics['count'])\n",
    "    total_articles=str(df_lic.shape[0])\n",
    "    items=[{'count':total_articles,'lic':'all'}];\n",
    "    for lic,count in zips:\n",
    "        item={}; \n",
    "        item={'lic':lic,'count':str(count)}\n",
    "        items.append(item)  \n",
    "    with open('sjdb/lic_'+subject+'.json', 'w') as fp:\n",
    "        json.dump(items, fp)    "
   ]
  },
  {
   "cell_type": "code",
   "execution_count": null,
   "metadata": {
    "collapsed": true
   },
   "outputs": [],
   "source": []
  }
 ],
 "metadata": {
  "anaconda-cloud": {},
  "kernelspec": {
   "display_name": "Python [Root]",
   "language": "python",
   "name": "Python [Root]"
  },
  "language_info": {
   "codemirror_mode": {
    "name": "ipython",
    "version": 2
   },
   "file_extension": ".py",
   "mimetype": "text/x-python",
   "name": "python",
   "nbconvert_exporter": "python",
   "pygments_lexer": "ipython2",
   "version": "2.7.12"
  }
 },
 "nbformat": 4,
 "nbformat_minor": 0
}
