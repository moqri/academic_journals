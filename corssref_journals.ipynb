{
 "cells": [
  {
   "cell_type": "code",
   "metadata": {
    "collapsed": true
   },
   "outputs": [],
   "source": [
    "import os, io, json, urllib, numpy as np, codecs"
   ]
  },
  {
   "cell_type": "code",
   "metadata": {
    "collapsed": true
   },
   "outputs": [],
   "source": [
    "base_url=\"https://api.crossref.org/journals?rows=1000&offset=\""
   ]
  },
  {
   "cell_type": "code",
   "metadata": {
    "collapsed": false
   },
   "outputs": [
    {
     "name": "stdout",
     "output_type": "stream",
     "text": [
     ]
    }
   ],
   "source": [
    "f=codecs.open('journals.csv','w','utf-8')\n",
    "dic=[]\n",
    "for it in range(51):\n",
    "    print it,\n",
    "    offset = it * 1000\n",
    "    url=base_url+str(offset)\n",
    "    response = urllib.urlopen(url).read()\n",
    "    json_result=json.loads(response)\n",
    "    items=json_result['message']['items']\n",
    "    for item in items:\n",
    "        title=item['title'].strip()\n",
    "        issn=item['ISSN']\n",
    "        publisher=item['publisher'] \n",
    "        if title!='' and len(issn)>0:\n",
    "            journal={}\n",
    "            journal['e:title']=title\n",
    "            journal['e:publisher']=publisher\n",
    "            journal['e:issn']=issn\n",
    "            if journal not in dic:\n",
    "                dic.append(journal)"
    "        if title!='' and len(issn)>0:\n",
    "            journal['title']=title\n",
    "            journal['publisher']=item['publisher'] \n",
    "            journal['issn']=issn\n",
    "            dic.append(journal)"
   ]
  },
  {
   "cell_type": "code",
   "metadata": {
    "collapsed": false
   },
   "outputs": [
    {
     "data": {
      "text/plain": [
       "{'e:issn': [u'2325-162X', u'2325-1638'],\n",
       " 'e:publisher': u'Common Ground Research Networks',\n",
       " 'e:title': u'The International Journal of Design Management and Professional Practice'}"
      ]
     },
       "{'issn': [u'1748-5908'],\n",
       " 'publisher': u'Springer (Biomed Central Ltd.)',\n",
       " 'title': u'Implementation Science'}"
      ]
     },
     "metadata": {},
     "output_type": "execute_result"
    }
   ],
   "source": [
    "journal"
   ]
  },
  {
   "cell_type": "code",
   "execution_count": 116,
   "metadata": {
    "collapsed": false
   },
   "outputs": [
    {
     "data": {
      "text/plain": [
       "50079"
      ]
     },
     "execution_count": 116,
     "metadata": {},
     "output_type": "execute_result"
    }
   ],
   "source": [
    "len(dic)"
   ]
  },
  {
   "cell_type": "code",
   "execution_count": 117,
   "metadata": {
    "collapsed": true
   },
   "outputs": [],
   "source": [
    "with open('journals.jsonld', 'w') as outfile:\n",
    "    json.dump(dic, outfile)"
   "source": [
    "journal"
   ]
  },
  {
   "cell_type": "code",
   "metadata": {
    "collapsed": false
   },
   "outputs": [
    {
     "data": {
      "text/plain": [
       "{'e:issn': [u'0884-4496'],\n",
       " 'e:publisher': u'Informa UK (Taylor & Francis)',\n",
       " 'e:title': u'Chinese Republican Studies Newsletter'}"
      ]
     },
       "891"
      ]
     },
     "metadata": {},
     "output_type": "execute_result"
    }
   ],
   "source": [
    "dic[100]"
   ]
  },
  {
   "cell_type": "code",
   "execution_count": 133,
   "metadata": {
    "collapsed": false
   },
   "outputs": [
    {
     "name": "stdout",
     "output_type": "stream",
     "text": [
      "{'e:publisher': u'CAIRN', 'e:issn': [u'1260-4984'], 'e:title': u'Syst\\xe8mes d information & management'}\n",
      "{'e:publisher': u'CAIRN', 'e:issn': [u'1260-4984', u'2271-7188'], 'e:title': u'Syst\\xe8mes d information & management'}\n"
     ]
    }
   ],
   "source": [
    "for i in dic:\n",
    "    if '1260-4984' in i['e:issn']:\n",
    "        print i"
   ]
  },
  {
   "cell_type": "code",
   "execution_count": 129,
   "metadata": {
    "collapsed": false
   },
   "outputs": [
    {
     "data": {
      "text/plain": [
       "True"
      ]
     },
     "execution_count": 129,
     "metadata": {},
     "output_type": "execute_result"
    }
   ],
   "source": [
    "{'e:issn': [u'0884-4496'],\n",
    " 'e:publisher': u'Informa UK (Taylor & Francis)',\n",
    " 'e:title': u'Chinese Republican Studies Newsletter'} in dic"
    "len(dic)"
   ]
  },
  {
   "cell_type": "code",
   "execution_count": null,
   "metadata": {
    "collapsed": true
   },
   "outputs": [],
   "source": []
  }
 ],
 "metadata": {
  "kernelspec": {
   "display_name": "Python [Root]",
   "language": "python",
   "name": "Python [Root]"
  }
 },
 "nbformat": 4,
 "nbformat_minor": 0
}
