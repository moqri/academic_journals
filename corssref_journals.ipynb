{
 "cells": [
  {
   "cell_type": "code",
<<<<<<< HEAD
   "execution_count": 75,
=======
   "execution_count": 4,
>>>>>>> a41da3a7eda84dad08b1b682149c4cd67519e6ef
   "metadata": {
    "collapsed": true
   },
   "outputs": [],
   "source": [
    "import os, io, json, urllib, numpy as np, codecs"
   ]
  },
  {
   "cell_type": "code",
<<<<<<< HEAD
   "execution_count": 76,
=======
   "execution_count": 5,
>>>>>>> a41da3a7eda84dad08b1b682149c4cd67519e6ef
   "metadata": {
    "collapsed": true
   },
   "outputs": [],
   "source": [
    "base_url=\"https://api.crossref.org/journals?rows=1000&offset=\""
   ]
  },
  {
   "cell_type": "code",
<<<<<<< HEAD
   "execution_count": 114,
=======
   "execution_count": null,
>>>>>>> a41da3a7eda84dad08b1b682149c4cd67519e6ef
   "metadata": {
    "collapsed": false
   },
   "outputs": [
    {
     "name": "stdout",
     "output_type": "stream",
     "text": [
<<<<<<< HEAD
      "0 1 2 3 4 5 6 7 8 9 10 11 12 13 14 15 16 17 18 19 20 21 22 23 24 25 26 27 28 29 30 31 32 33 34 35 36 37 38 39 40 41 42 43 44 45 46 47 48 49 50\n"
=======
      "0 1 2 3 4 5 6 7 8 9 10 11 12 13 14 15 16 17 18 19 20"
>>>>>>> a41da3a7eda84dad08b1b682149c4cd67519e6ef
     ]
    }
   ],
   "source": [
    "f=codecs.open('journals.csv','w','utf-8')\n",
    "dic=[]\n",
<<<<<<< HEAD
=======
    "journal={}\n",
>>>>>>> a41da3a7eda84dad08b1b682149c4cd67519e6ef
    "for it in range(51):\n",
    "    print it,\n",
    "    offset = it * 1000\n",
    "    url=base_url+str(offset)\n",
    "    response = urllib.urlopen(url).read()\n",
    "    json_result=json.loads(response)\n",
    "    items=json_result['message']['items']\n",
    "    for item in items:\n",
    "        title=item['title'].strip()\n",
    "        issn=item['ISSN']\n",
<<<<<<< HEAD
    "        publisher=item['publisher'] \n",
    "        if title!='' and len(issn)>0:\n",
    "            journal={}\n",
    "            journal['e:title']=title\n",
    "            journal['e:publisher']=publisher\n",
    "            journal['e:issn']=issn\n",
    "            if journal not in dic:\n",
    "                dic.append(journal)"
=======
    "        if title!='' and len(issn)>0:\n",
    "            journal['title']=title\n",
    "            journal['publisher']=item['publisher'] \n",
    "            journal['issn']=issn\n",
    "            dic.append(journal)"
>>>>>>> a41da3a7eda84dad08b1b682149c4cd67519e6ef
   ]
  },
  {
   "cell_type": "code",
<<<<<<< HEAD
   "execution_count": 115,
=======
   "execution_count": 22,
>>>>>>> a41da3a7eda84dad08b1b682149c4cd67519e6ef
   "metadata": {
    "collapsed": false
   },
   "outputs": [
    {
     "data": {
      "text/plain": [
<<<<<<< HEAD
       "{'e:issn': [u'2325-162X', u'2325-1638'],\n",
       " 'e:publisher': u'Common Ground Research Networks',\n",
       " 'e:title': u'The International Journal of Design Management and Professional Practice'}"
      ]
     },
     "execution_count": 115,
=======
       "{'issn': [u'1748-5908'],\n",
       " 'publisher': u'Springer (Biomed Central Ltd.)',\n",
       " 'title': u'Implementation Science'}"
      ]
     },
     "execution_count": 22,
>>>>>>> a41da3a7eda84dad08b1b682149c4cd67519e6ef
     "metadata": {},
     "output_type": "execute_result"
    }
   ],
<<<<<<< HEAD
   "source": [
    "journal"
   ]
  },
  {
   "cell_type": "code",
   "execution_count": 116,
   "metadata": {
    "collapsed": false
   },
   "outputs": [
    {
     "data": {
      "text/plain": [
       "50079"
      ]
     },
     "execution_count": 116,
     "metadata": {},
     "output_type": "execute_result"
    }
   ],
   "source": [
    "len(dic)"
   ]
  },
  {
   "cell_type": "code",
   "execution_count": 117,
   "metadata": {
    "collapsed": true
   },
   "outputs": [],
   "source": [
    "with open('journals.jsonld', 'w') as outfile:\n",
    "    json.dump(dic, outfile)"
=======
   "source": [
    "journal"
>>>>>>> a41da3a7eda84dad08b1b682149c4cd67519e6ef
   ]
  },
  {
   "cell_type": "code",
<<<<<<< HEAD
   "execution_count": 118,
=======
   "execution_count": 24,
>>>>>>> a41da3a7eda84dad08b1b682149c4cd67519e6ef
   "metadata": {
    "collapsed": false
   },
   "outputs": [
    {
     "data": {
      "text/plain": [
<<<<<<< HEAD
       "{'e:issn': [u'0884-4496'],\n",
       " 'e:publisher': u'Informa UK (Taylor & Francis)',\n",
       " 'e:title': u'Chinese Republican Studies Newsletter'}"
      ]
     },
     "execution_count": 118,
=======
       "891"
      ]
     },
     "execution_count": 24,
>>>>>>> a41da3a7eda84dad08b1b682149c4cd67519e6ef
     "metadata": {},
     "output_type": "execute_result"
    }
   ],
   "source": [
<<<<<<< HEAD
    "dic[100]"
   ]
  },
  {
   "cell_type": "code",
   "execution_count": 133,
   "metadata": {
    "collapsed": false
   },
   "outputs": [
    {
     "name": "stdout",
     "output_type": "stream",
     "text": [
      "{'e:publisher': u'CAIRN', 'e:issn': [u'1260-4984'], 'e:title': u'Syst\\xe8mes d information & management'}\n",
      "{'e:publisher': u'CAIRN', 'e:issn': [u'1260-4984', u'2271-7188'], 'e:title': u'Syst\\xe8mes d information & management'}\n"
     ]
    }
   ],
   "source": [
    "for i in dic:\n",
    "    if '1260-4984' in i['e:issn']:\n",
    "        print i"
   ]
  },
  {
   "cell_type": "code",
   "execution_count": 129,
   "metadata": {
    "collapsed": false
   },
   "outputs": [
    {
     "data": {
      "text/plain": [
       "True"
      ]
     },
     "execution_count": 129,
     "metadata": {},
     "output_type": "execute_result"
    }
   ],
   "source": [
    "{'e:issn': [u'0884-4496'],\n",
    " 'e:publisher': u'Informa UK (Taylor & Francis)',\n",
    " 'e:title': u'Chinese Republican Studies Newsletter'} in dic"
=======
    "len(dic)"
>>>>>>> a41da3a7eda84dad08b1b682149c4cd67519e6ef
   ]
  },
  {
   "cell_type": "code",
   "execution_count": null,
   "metadata": {
    "collapsed": true
   },
   "outputs": [],
   "source": []
  }
 ],
 "metadata": {
  "kernelspec": {
   "display_name": "Python [Root]",
   "language": "python",
   "name": "Python [Root]"
  }
 },
 "nbformat": 4,
 "nbformat_minor": 0
}
