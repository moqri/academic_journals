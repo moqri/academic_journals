{
 "cells": [
  {
   "cell_type": "code",
   "execution_count": 2,
   "metadata": {
    "collapsed": false
   },
   "outputs": [],
   "source": [
    "import os, io, json, urllib, numpy as np, codecs, os.path,time"
   ]
  },
  {
   "cell_type": "code",
   "execution_count": 3,
   "metadata": {
    "collapsed": false
   },
   "outputs": [],
   "source": [
    "def get_data(cursor,i,year):\n",
    "    global item, all_items, url\n",
    "    item={}; items=[];\n",
    "    p={ 'filter':'from-pub-date:'+year+',until-pub-date:'+year , 'rows' : '1000', 'cursor' :cursor}\n",
    "    parameters=urllib.urlencode(p)\n",
    "    url='http://api.crossref.org/types/journal-article/works?'+parameters\n",
    "    response = urllib.urlopen(url).read()\n",
    "    #if response=='Resource not found.': return\n",
    "    json_result=json.loads(response)\n",
    "    items = json_result['message']['items']\n",
    "    if len(items)>0:\n",
    "        f=codecs.open(year+'/'+str(i)+'.txt','a','utf-8')\n",
    "        for item in items:\n",
    "            year_print=9999;year_online=9999;\n",
    "            if 'published-print' in item:\n",
    "                year_print=item['published-print']['date-parts'][0][0]\n",
    "            if 'published-online' in item:\n",
    "                year_online=item['published-online']['date-parts'][0][0]\n",
    "            year=str(min(year_print,year_online))\n",
    "            doi=issn=journal=pub=cite=ref=''\n",
    "            author='0'\n",
    "            if 'DOI' in item: doi=item['DOI']\n",
    "            if 'ISSN' in item: issn=','.join(item['ISSN'])\n",
    "            if 'container-title' in item: journal=','.join(item['container-title'])\n",
    "            if 'publisher' in item: pub=item['publisher']; pub=''if pub==None else pub\n",
    "            if 'is-referenced-by-count' in item: cite=str(item['is-referenced-by-count'])\n",
    "            if 'references-count' in item: ref=str(item['references-count'])\n",
    "            if 'author' in item: author='1'\n",
    "            res= doi+'\\t'+year+'\\t'+ref+'\\t'+cite+'\\t'+issn+'\\t'+journal+'\\t'+pub+'\\t'+author+'\\n'\n",
    "            f.write(res)    \n",
    "        f.close()\n",
    "    next_cursor=json_result['message']['next-cursor']\n",
    "    return next_cursor"
   ]
  },
  {
   "cell_type": "code",
   "execution_count": 7,
   "metadata": {
    "collapsed": false,
    "scrolled": true
   },
   "outputs": [
    {
     "name": "stdout",
     "output_type": "stream",
     "text": [
      "10 20 30 40 50 60 70 80 90 100 110 120 130 140 150 160 170 180 190 200 210 220 230 240 250 260 270 280 290 300 310 320 330 340 350 360 370 380 390 400 410 420 430 440 450 460 470 480 490 500 510 520 530 540 550 560 570 580 590 600 610 620 630 640 650 660 670 680 690 700 710 720 730 740 750 760 770 780 790 800 810 820 830 840 850 860 870 880 890 900 910 920 930 940 950 960 970 980 990 1000 1010 1020 1030 1040 1050 1060 1070 1080 1090 1100 1110 1120 1130 1140 1150 1160 1170 1180 1190 1200 1210 1220 1230 1240 1250 1260 1270 1280 1290 1300 1310 1320 1330 1340 1350 1360 1370 1380 1390 1400 1410 1420 1430 1440 1450 1460 1470 1480 1490 1500 1510 1520 1530 1540 1550 1560 1570 1580 1590 1600 1610 1620 1630 1640 1650 1660 1670 1680 1690 1700 1710 1720 1730 1740 1750 1760 1770 1780 1790 1800 1810 1820 1830 1840 1850 1860 1870 1880 1890 1900 1910 1920 1930 1940 1950 1960 1970 1980 1990 2000 2010 2020 2030 2040 2050 2060 2070 2080 2090 2100 2110 2120 2130 2140 2150 2160 2170 2180 2190 2200 2210 2220 2230 2240 2250 2260 2270 2280 2290 2300 2310 2320 2330 2340 2350 2360 2370 2380 2390 2400 2410 2420 2430 2440 2450 2460 2470 2480 2490 2500 2510 2520 2530 2540 2550 2560 2570 2580 2590 2600 2610 2620 2630 2640 2650 2660 2670 2680 2690 2700 2710 2720 2730 2740 2750 2760 2770 2780 2790 2800 2810 2820 2830 2840 2850\n"
     ]
    }
   ],
   "source": [
    "year='2014'\n",
    "cursor=''\n",
    "next_cursor='*'\n",
    "item={}\n",
    "all_items=[]\n",
    "start=0\n",
    "f=open(year+'.txt','a')\n",
    "i=0\n",
    "while next_cursor!=cursor:\n",
    "    f.write(str(i)+' , '+cursor+'\\n')\n",
    "    cursor=next_cursor\n",
    "    while True:\n",
    "        try:\n",
    "            next_cursor=get_data(cursor,i,year)\n",
    "        except Exception,e: \n",
    "            print str(e)\n",
    "            #time.sleep(100)\n",
    "            #continue\n",
    "        break\n",
    "    i=i+1\n",
    "    if i%10==0:print i,"
   ]
  },
  {
   "cell_type": "code",
   "execution_count": 5,
   "metadata": {
    "collapsed": false
   },
   "outputs": [
    {
     "data": {
      "text/plain": [
       "'http://api.crossref.org/types/journal-article/works?filter=from-pub-date%3A2015%2Cuntil-pub-date%3A2015&cursor=&rows=1000'"
      ]
     },
     "execution_count": 5,
     "metadata": {},
     "output_type": "execute_result"
    }
   ],
   "source": [
    "url"
   ]
  },
  {
   "cell_type": "code",
   "execution_count": 6,
   "metadata": {
    "collapsed": false
   },
   "outputs": [
    {
     "data": {
      "text/plain": [
       "u'AoE/Cmh0dHA6Ly9keC5kb2kub3JnLzEwLjEwMDEvamFtYS4yMDE1LjE3MjIy'"
      ]
     },
     "execution_count": 6,
     "metadata": {},
     "output_type": "execute_result"
    }
   ],
   "source": [
    "cursor"
   ]
  }
 ],
 "metadata": {
  "anaconda-cloud": {},
  "kernelspec": {
   "display_name": "Python [Root]",
   "language": "python",
   "name": "Python [Root]"
  }
 },
 "nbformat": 4,
 "nbformat_minor": 0
}
