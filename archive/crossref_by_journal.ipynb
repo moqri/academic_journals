{
 "cells": [
  {
   "cell_type": "code",
   "execution_count": 1,
   "metadata": {
    "collapsed": false
   },
   "outputs": [],
   "source": [
    "import os, io, json, urllib, numpy as np, codecs, os.path,time\n",
    "def h_(cited):\n",
    "    h=0\n",
    "    cited.sort(reverse=True)\n",
    "    for i in range(1,len(cited)+1):\n",
    "        if cited[i-1] >= i:\n",
    "            h=i\n",
    "    return h"
   ]
  },
  {
   "cell_type": "code",
   "execution_count": 2,
   "metadata": {
    "collapsed": false
   },
   "outputs": [],
   "source": [
    "def get_citation(issn,out):\n",
    "    global item, all_items, url, url_next\n",
    "    item={}; all_items=[];\n",
    "    url='http://api.crossref.org/journals/'+issn+'/works?rows=1000&cursor=*'\n",
    "    response = urllib.urlopen(url).read()\n",
    "    if response=='Resource not found.':\n",
    "        return\n",
    "    json_result=json.loads(response)\n",
    "    publications_total = json_result['message']['total-results']\n",
    "    #from_year='2012';until_year='2016'\n",
    "    #url='http://api.crossref.org/journals/'+issn+'/works?filter=from-pub-date:'+from_year+'-01-01,until-pub-date:'+until_year+'-12-31&rows=1000&cursor=*'    \n",
    "    #response = urllib.urlopen(url).read()    \n",
    "    #json_result=json.loads(response)\n",
    "    #publications_year = json_result['message']['total-results']\n",
    "    all_items = json_result['message']['items']\n",
    "    if publications_total>1000:\n",
    "        while True:\n",
    "            next_cursor=json_result['message']['next-cursor']\n",
    "            url_next=url[:-1]+next_cursor\n",
    "            response = urllib.urlopen(url_next).read()\n",
    "            json_result=json.loads(response)\n",
    "            if 'items' not in json_result['message']: return\n",
    "            items = json_result['message']['items']\n",
    "            all_items = all_items + items\n",
    "            if len(items)==0:\n",
    "                break\n",
    "    if len(all_items)>0:\n",
    "        f=codecs.open(out+'/'+issn+'.txt','a','utf-8')\n",
    "        for item in all_items:\n",
    "            year_print=9999;year_online=9999;\n",
    "            if 'published-print' in item:\n",
    "                year_print=item['published-print']['date-parts'][0][0]\n",
    "            if 'published-online' in item:\n",
    "                year_online=item['published-online']['date-parts'][0][0]\n",
    "            year=str(min(year_print,year_online))\n",
    "            doi=item['DOI']\n",
    "            issn=','.join(item['ISSN'])\n",
    "            journal=','.join(item['container-title'])\n",
    "            pub=item['publisher']; pub=''if pub==None else pub\n",
    "            typ=item['type']\n",
    "            cite=str(item['is-referenced-by-count'])\n",
    "            res= year+'\\t'+doi+'\\t'+issn+'\\t'+journal+'\\t'+pub+'\\t'+typ+'\\t'+cite+'\\n'\n",
    "            f.write(res)    \n",
    "        f.close()"
   ]
  },
  {
   "cell_type": "code",
   "execution_count": 33,
   "metadata": {
    "collapsed": false
   },
   "outputs": [
    {
     "data": {
      "text/plain": [
       "68758"
      ]
     },
     "execution_count": 33,
     "metadata": {},
     "output_type": "execute_result"
    }
   ],
   "source": [
    "with open('queryResults.csv') as f:\n",
    "    lines = f.readlines()\n",
    "lines.remove(lines[0])\n",
    "len(lines)"
   ]
  },
  {
   "cell_type": "code",
   "execution_count": null,
   "metadata": {
    "collapsed": false,
    "scrolled": true
   },
   "outputs": [
    {
     "name": "stdout",
     "output_type": "stream",
     "text": [
      "0 10"
     ]
    }
   ],
   "source": [
    "out='journals'\n",
    "i=0\n",
    "item={}\n",
    "all_items=[]\n",
    "for line in lines:\n",
    "    issn=line[2:11]\n",
    "    if i % 10 == 0 : print i,\n",
    "    fname=out+'/'+issn+'.txt'\n",
    "    while True:\n",
    "        try:\n",
    "            get_citation(issn,out)\n",
    "        except:\n",
    "            time.sleep(100)\n",
    "            continue\n",
    "        break\n",
    "    lines.remove(line)\n",
    "    i=i+1"
   ]
  },
  {
   "cell_type": "code",
   "execution_count": 30,
   "metadata": {
    "collapsed": false
   },
   "outputs": [
    {
     "data": {
      "text/plain": [
       "'http://api.crossref.org/journals/1755-7682/works?rows=1000&cursor=*'"
      ]
     },
     "execution_count": 30,
     "metadata": {},
     "output_type": "execute_result"
    }
   ],
   "source": [
    "url"
   ]
  },
  {
   "cell_type": "code",
   "execution_count": 31,
   "metadata": {
    "collapsed": false
   },
   "outputs": [
    {
     "data": {
      "text/plain": [
       "u'http://api.crossref.org/journals/1755-7682/works?rows=1000&cursor=AoE+aHR0cDovL2R4LmRvaS5vcmcvMTAuMzgyMy8yMzI4'"
      ]
     },
     "execution_count": 31,
     "metadata": {},
     "output_type": "execute_result"
    }
   ],
   "source": [
    "url_next"
   ]
  }
 ],
 "metadata": {
  "anaconda-cloud": {},
  "kernelspec": {
   "display_name": "Python [Root]",
   "language": "python",
   "name": "Python [Root]"
  },
  "language_info": {
   "codemirror_mode": {
    "name": "ipython",
    "version": 2
   },
   "file_extension": ".py",
   "mimetype": "text/x-python",
   "name": "python",
   "nbconvert_exporter": "python",
   "pygments_lexer": "ipython2",
   "version": "2.7.12"
  }
 },
 "nbformat": 4,
 "nbformat_minor": 0
}
