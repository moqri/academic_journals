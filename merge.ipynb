{
 "cells": [
  {
   "cell_type": "code",
   "execution_count": 44,
   "metadata": {
    "collapsed": false
   },
   "outputs": [],
   "source": [
    "%matplotlib inline\n",
    "import os, io, json, urllib, numpy as np, codecs\n",
    "import glob, pandas as pd\n",
    "pd.options.display.max_rows = 999"
   ]
  },
  {
   "cell_type": "code",
   "execution_count": 45,
   "metadata": {
    "collapsed": true
   },
   "outputs": [],
   "source": [
    "def h_(citation):\n",
    "    citation=list(citation)\n",
    "    h=0\n",
    "    citation.sort(reverse=True)\n",
    "    for i in range(1,len(citation)+1):\n",
    "        if citation[i-1] >= i:\n",
    "            h=i\n",
    "    return h"
   ]
  },
  {
   "cell_type": "code",
   "execution_count": 151,
   "metadata": {
    "collapsed": false
   },
   "outputs": [],
   "source": [
    "# skip if result.txt exists\n",
    "y16 = glob.glob('data/2016'+'/*.txt')\n",
    "y15 = glob.glob('data/2015'+'/*.txt')\n",
    "y14 = glob.glob('data/2014'+'/*.txt')\n",
    "y14_16=y14+y15+y16\n",
    "with open(\"data/data.txt\", \"wb\") as outfile:\n",
    "    for f in y14_16:\n",
    "        with open(f, \"rb\") as infile:\n",
    "            lines=infile.read().split('\\n')\n",
    "            for line in lines:\n",
    "                if len(line.split('\\t'))==9:\n",
    "                    outfile.write(line+'\\n')"
   ]
  },
  {
   "cell_type": "code",
   "execution_count": 152,
   "metadata": {
    "collapsed": false
   },
   "outputs": [
    {
     "data": {
      "text/plain": [
       "(9043461, 9)"
      ]
     },
     "execution_count": 152,
     "metadata": {},
     "output_type": "execute_result"
    }
   ],
   "source": [
    "df=pd.read_table('data/data.txt',header=None)\n",
    "df.columns=['doi','year','ref','citation','issnp','issne','journal','publisher','author']\n",
    "df.shape"
   ]
  },
  {
   "cell_type": "code",
   "execution_count": 153,
   "metadata": {
    "collapsed": false
   },
   "outputs": [],
   "source": [
    "#df=df[df['author']==1]\n",
    "#df.shape"
   ]
  },
  {
   "cell_type": "code",
   "execution_count": 154,
   "metadata": {
    "collapsed": false
   },
   "outputs": [],
   "source": [
    "df['year']=df['year'].astype(int)"
   ]
  },
  {
   "cell_type": "code",
   "execution_count": 155,
   "metadata": {
    "collapsed": false
   },
   "outputs": [
    {
     "data": {
      "text/plain": [
       "(9043461, 9)"
      ]
     },
     "execution_count": 155,
     "metadata": {},
     "output_type": "execute_result"
    }
   ],
   "source": [
    "df=df[df['year']<=2017][df['year']>=1950]\n",
    "df.shape"
   ]
  },
  {
   "cell_type": "code",
   "execution_count": 156,
   "metadata": {
    "collapsed": false
   },
   "outputs": [],
   "source": [
    "df['count']=1\n",
    "df['cited']=df['citation'].apply(lambda x: 1 if x>0 else 0)\n",
    "df['un-cited']=df['citation'].apply(lambda x: 0 if x>0 else 1)"
   ]
  },
  {
   "cell_type": "code",
   "execution_count": 157,
   "metadata": {
    "collapsed": false
   },
   "outputs": [
    {
     "data": {
      "text/plain": [
       "(9038505, 12)"
      ]
     },
     "execution_count": 157,
     "metadata": {},
     "output_type": "execute_result"
    }
   ],
   "source": [
    "df=df[(~df.issnp.isnull()) | (~df.issne.isnull())]\n",
    "df.shape"
   ]
  },
  {
   "cell_type": "code",
   "execution_count": 158,
   "metadata": {
    "collapsed": false
   },
   "outputs": [],
   "source": [
    "df=df[['count','cited','citation','issnp','issne','journal']].fillna('_')\n",
    "df['issn']=df.issnp+','+df.issne\n",
    "df['issn']=df.issn.str.replace(',_','')\n",
    "df['issn']=df.issn.str.replace('_,','')"
   ]
  },
  {
   "cell_type": "code",
   "execution_count": 159,
   "metadata": {
    "collapsed": false
   },
   "outputs": [],
   "source": [
    "df['issn']=df.issn.apply(lambda x:x[0:9] if x[10:19]==x[0:9] else x)"
   ]
  },
  {
   "cell_type": "code",
   "execution_count": 160,
   "metadata": {
    "collapsed": false
   },
   "outputs": [],
   "source": [
    "s=df.issn.str.split(',',expand=True).stack()"
   ]
  },
  {
   "cell_type": "code",
   "execution_count": 161,
   "metadata": {
    "collapsed": true
   },
   "outputs": [],
   "source": [
    "i = s.index.get_level_values(0)"
   ]
  },
  {
   "cell_type": "code",
   "execution_count": 162,
   "metadata": {
    "collapsed": true
   },
   "outputs": [],
   "source": [
    "df2 = df.loc[i].copy()"
   ]
  },
  {
   "cell_type": "code",
   "execution_count": 176,
   "metadata": {
    "collapsed": false
   },
   "outputs": [],
   "source": [
    "df2[\"@id\"] = s.values"
   ]
  },
  {
   "cell_type": "code",
   "execution_count": 177,
   "metadata": {
    "collapsed": false
   },
   "outputs": [
    {
     "data": {
      "text/plain": [
       "(58863, 5)"
      ]
     },
     "execution_count": 177,
     "metadata": {},
     "output_type": "execute_result"
    }
   ],
   "source": [
    "dg=df2.groupby(['@id']).agg({'count':sum,'cited':sum,'citation':sum,'journal':max}).reset_index()\n",
    "dg.shape"
   ]
  },
  {
   "cell_type": "code",
   "execution_count": 178,
   "metadata": {
    "collapsed": false
   },
   "outputs": [],
   "source": [
    "dg2=df2[['@id','citation']].groupby(['@id']).agg(lambda x:tuple(x)).reset_index()"
   ]
  },
  {
   "cell_type": "code",
   "execution_count": 179,
   "metadata": {
    "collapsed": false
   },
   "outputs": [],
   "source": [
    "dg['h']=dg2.citation.apply(lambda x: h_(x))"
   ]
  },
  {
   "cell_type": "code",
   "execution_count": 180,
   "metadata": {
    "collapsed": false
   },
   "outputs": [
    {
     "data": {
      "text/html": [
       "<div>\n",
       "<table border=\"1\" class=\"dataframe\">\n",
       "  <thead>\n",
       "    <tr style=\"text-align: right;\">\n",
       "      <th></th>\n",
       "      <th>@id</th>\n",
       "      <th>count</th>\n",
       "      <th>cited</th>\n",
       "      <th>citation</th>\n",
       "      <th>journal</th>\n",
       "      <th>h</th>\n",
       "    </tr>\n",
       "  </thead>\n",
       "  <tbody>\n",
       "    <tr>\n",
       "      <th>19811</th>\n",
       "      <td>1533-4406</td>\n",
       "      <td>3353</td>\n",
       "      <td>2673</td>\n",
       "      <td>128792</td>\n",
       "      <td>New England Journal of Medicine</td>\n",
       "      <td>178</td>\n",
       "    </tr>\n",
       "    <tr>\n",
       "      <th>1782</th>\n",
       "      <td>0028-4793</td>\n",
       "      <td>3353</td>\n",
       "      <td>2673</td>\n",
       "      <td>128792</td>\n",
       "      <td>New England Journal of Medicine</td>\n",
       "      <td>178</td>\n",
       "    </tr>\n",
       "    <tr>\n",
       "      <th>18344</th>\n",
       "      <td>1476-4687</td>\n",
       "      <td>12087</td>\n",
       "      <td>5719</td>\n",
       "      <td>186122</td>\n",
       "      <td>NatureJobs</td>\n",
       "      <td>173</td>\n",
       "    </tr>\n",
       "    <tr>\n",
       "      <th>1760</th>\n",
       "      <td>0028-0836</td>\n",
       "      <td>10125</td>\n",
       "      <td>5509</td>\n",
       "      <td>185754</td>\n",
       "      <td>Nature</td>\n",
       "      <td>173</td>\n",
       "    </tr>\n",
       "    <tr>\n",
       "      <th>2266</th>\n",
       "      <td>0036-8075</td>\n",
       "      <td>13689</td>\n",
       "      <td>4788</td>\n",
       "      <td>168177</td>\n",
       "      <td>Science</td>\n",
       "      <td>164</td>\n",
       "    </tr>\n",
       "  </tbody>\n",
       "</table>\n",
       "</div>"
      ],
      "text/plain": [
       "             @id  count  cited  citation                          journal    h\n",
       "19811  1533-4406   3353   2673    128792  New England Journal of Medicine  178\n",
       "1782   0028-4793   3353   2673    128792  New England Journal of Medicine  178\n",
       "18344  1476-4687  12087   5719    186122                       NatureJobs  173\n",
       "1760   0028-0836  10125   5509    185754                           Nature  173\n",
       "2266   0036-8075  13689   4788    168177                          Science  164"
      ]
     },
     "execution_count": 180,
     "metadata": {},
     "output_type": "execute_result"
    }
   ],
   "source": [
    "dg.sort_values('h',ascending=False).head()"
   ]
  },
  {
   "cell_type": "code",
   "execution_count": 181,
   "metadata": {
    "collapsed": false
   },
   "outputs": [
    {
     "data": {
      "text/html": [
       "<div>\n",
       "<table border=\"1\" class=\"dataframe\">\n",
       "  <thead>\n",
       "    <tr style=\"text-align: right;\">\n",
       "      <th></th>\n",
       "      <th>@id</th>\n",
       "      <th>count</th>\n",
       "      <th>cited</th>\n",
       "      <th>citation</th>\n",
       "      <th>journal</th>\n",
       "      <th>h</th>\n",
       "      <th>impact</th>\n",
       "    </tr>\n",
       "  </thead>\n",
       "  <tbody>\n",
       "    <tr>\n",
       "      <th>447</th>\n",
       "      <td>0007-9235</td>\n",
       "      <td>146</td>\n",
       "      <td>96</td>\n",
       "      <td>19417</td>\n",
       "      <td>CA: A Cancer Journal for Clinicians</td>\n",
       "      <td>26</td>\n",
       "      <td>132.993151</td>\n",
       "    </tr>\n",
       "    <tr>\n",
       "      <th>19097</th>\n",
       "      <td>1520-6890</td>\n",
       "      <td>958</td>\n",
       "      <td>890</td>\n",
       "      <td>76926</td>\n",
       "      <td>Chemical Reviews</td>\n",
       "      <td>152</td>\n",
       "      <td>80.298539</td>\n",
       "    </tr>\n",
       "    <tr>\n",
       "      <th>525</th>\n",
       "      <td>0009-2665</td>\n",
       "      <td>958</td>\n",
       "      <td>890</td>\n",
       "      <td>76926</td>\n",
       "      <td>Chemical Reviews</td>\n",
       "      <td>152</td>\n",
       "      <td>80.298539</td>\n",
       "    </tr>\n",
       "    <tr>\n",
       "      <th>16565</th>\n",
       "      <td>1433-8351</td>\n",
       "      <td>13</td>\n",
       "      <td>12</td>\n",
       "      <td>984</td>\n",
       "      <td>Living Reviews in Relativity</td>\n",
       "      <td>7</td>\n",
       "      <td>75.692308</td>\n",
       "    </tr>\n",
       "    <tr>\n",
       "      <th>52758</th>\n",
       "      <td>2367-3613</td>\n",
       "      <td>13</td>\n",
       "      <td>12</td>\n",
       "      <td>984</td>\n",
       "      <td>Living Reviews in Relativity</td>\n",
       "      <td>7</td>\n",
       "      <td>75.692308</td>\n",
       "    </tr>\n",
       "  </tbody>\n",
       "</table>\n",
       "</div>"
      ],
      "text/plain": [
       "             @id  count  cited  citation                              journal  \\\n",
       "447    0007-9235    146     96     19417  CA: A Cancer Journal for Clinicians   \n",
       "19097  1520-6890    958    890     76926                     Chemical Reviews   \n",
       "525    0009-2665    958    890     76926                     Chemical Reviews   \n",
       "16565  1433-8351     13     12       984         Living Reviews in Relativity   \n",
       "52758  2367-3613     13     12       984         Living Reviews in Relativity   \n",
       "\n",
       "         h      impact  \n",
       "447     26  132.993151  \n",
       "19097  152   80.298539  \n",
       "525    152   80.298539  \n",
       "16565    7   75.692308  \n",
       "52758    7   75.692308  "
      ]
     },
     "execution_count": 181,
     "metadata": {},
     "output_type": "execute_result"
    }
   ],
   "source": [
    "dg['impact']=dg['citation']/dg['count']\n",
    "dg.sort_values('impact',ascending=False).head()"
   ]
  },
  {
   "cell_type": "markdown",
   "metadata": {
    "collapsed": false
   },
   "source": [
    "issnps_all=df.issnp.values\n",
    "df.loc[(df['issne'].isin(issnps_all)) & (df['issnp']==''),'issnp']=df['issne']\n",
    "issnps=df[(df.issne!='') & (df.issnp!='')].issnp.values\n",
    "issnes=df[(df.issne!='') & (df.issnp!='')].issne.values\n",
    "p={}\n",
    "i=0\n",
    "for issnp in issnps:\n",
    "    p[issnp]=issnes[i]\n",
    "    i=i+1\n",
    "e={}\n",
    "i=0\n",
    "for issne in issnes:\n",
    "    e[issne]=issnps[i]\n",
    "    i=i+1\n",
    "df['issnp2']=df.apply(lambda x: e[x['issne']] if x['issne'] in e else x['issnp'],axis=1)\n",
    "df['issne2']=df.apply(lambda x: p[x['issnp']] if x['issnp'] in p else x['issne'],axis=1)\n"
   ]
  },
  {
   "cell_type": "code",
   "execution_count": 772,
   "metadata": {
    "collapsed": false
   },
   "outputs": [
    {
     "data": {
      "text/plain": [
       "(40130, 6)"
      ]
     },
     "execution_count": 772,
     "metadata": {},
     "output_type": "execute_result"
    }
   ],
   "source": [
    "dg=df.groupby(['issnp2','issne2']).agg({'count':sum,'cited':sum,'citation':sum,'journal':max}).reset_index()\n",
    "dg.shape"
   ]
  },
  {
   "cell_type": "code",
   "execution_count": 773,
   "metadata": {
    "collapsed": true
   },
   "outputs": [],
   "source": [
    "dg2=df[['issnp2','issne2','citation']].groupby(['issnp2','issne2']).agg(lambda x:tuple(x)).reset_index()\n",
    "dg['h']=dg2.citation.apply(lambda x: h_(x))"
   ]
  },
  {
   "cell_type": "code",
   "execution_count": 778,
   "metadata": {
    "collapsed": false
   },
   "outputs": [
    {
     "data": {
      "text/html": [
       "<div>\n",
       "<table border=\"1\" class=\"dataframe\">\n",
       "  <thead>\n",
       "    <tr style=\"text-align: right;\">\n",
       "      <th></th>\n",
       "      <th>issnp2</th>\n",
       "      <th>issne2</th>\n",
       "      <th>count</th>\n",
       "      <th>cited</th>\n",
       "      <th>citation</th>\n",
       "      <th>journal</th>\n",
       "      <th>h</th>\n",
       "      <th>impact</th>\n",
       "      <th>@id</th>\n",
       "    </tr>\n",
       "  </thead>\n",
       "  <tbody>\n",
       "    <tr>\n",
       "      <th>9839</th>\n",
       "      <td>0028-4793</td>\n",
       "      <td>1533-4406</td>\n",
       "      <td>3353</td>\n",
       "      <td>2673</td>\n",
       "      <td>128792</td>\n",
       "      <td>New England Journal of Medicine</td>\n",
       "      <td>178</td>\n",
       "      <td>38.410975</td>\n",
       "      <td>0028-4793</td>\n",
       "    </tr>\n",
       "    <tr>\n",
       "      <th>9817</th>\n",
       "      <td>0028-0836</td>\n",
       "      <td>1476-4687</td>\n",
       "      <td>12088</td>\n",
       "      <td>5720</td>\n",
       "      <td>186123</td>\n",
       "      <td>NatureJobs</td>\n",
       "      <td>173</td>\n",
       "      <td>15.397336</td>\n",
       "      <td>0028-0836</td>\n",
       "    </tr>\n",
       "    <tr>\n",
       "      <th>10310</th>\n",
       "      <td>0036-8075</td>\n",
       "      <td>1095-9203</td>\n",
       "      <td>14342</td>\n",
       "      <td>4802</td>\n",
       "      <td>168192</td>\n",
       "      <td>Science</td>\n",
       "      <td>164</td>\n",
       "      <td>11.727235</td>\n",
       "      <td>0036-8075</td>\n",
       "    </tr>\n",
       "    <tr>\n",
       "      <th>8594</th>\n",
       "      <td>0009-2665</td>\n",
       "      <td>1520-6890</td>\n",
       "      <td>958</td>\n",
       "      <td>890</td>\n",
       "      <td>76926</td>\n",
       "      <td>Chemical Reviews</td>\n",
       "      <td>152</td>\n",
       "      <td>80.298539</td>\n",
       "      <td>0009-2665</td>\n",
       "    </tr>\n",
       "    <tr>\n",
       "      <th>13819</th>\n",
       "      <td>0306-0012</td>\n",
       "      <td>1460-4744</td>\n",
       "      <td>1377</td>\n",
       "      <td>1074</td>\n",
       "      <td>82084</td>\n",
       "      <td>Chemical Society Reviews</td>\n",
       "      <td>149</td>\n",
       "      <td>59.610748</td>\n",
       "      <td>0306-0012</td>\n",
       "    </tr>\n",
       "  </tbody>\n",
       "</table>\n",
       "</div>"
      ],
      "text/plain": [
       "          issnp2     issne2  count  cited  citation  \\\n",
       "9839   0028-4793  1533-4406   3353   2673    128792   \n",
       "9817   0028-0836  1476-4687  12088   5720    186123   \n",
       "10310  0036-8075  1095-9203  14342   4802    168192   \n",
       "8594   0009-2665  1520-6890    958    890     76926   \n",
       "13819  0306-0012  1460-4744   1377   1074     82084   \n",
       "\n",
       "                               journal    h     impact        @id  \n",
       "9839   New England Journal of Medicine  178  38.410975  0028-4793  \n",
       "9817                        NatureJobs  173  15.397336  0028-0836  \n",
       "10310                          Science  164  11.727235  0036-8075  \n",
       "8594                  Chemical Reviews  152  80.298539  0009-2665  \n",
       "13819         Chemical Society Reviews  149  59.610748  0306-0012  "
      ]
     },
     "execution_count": 778,
     "metadata": {},
     "output_type": "execute_result"
    }
   ],
   "source": [
    "dg.sort_values('h',ascending=False).head()"
   ]
  },
  {
   "cell_type": "code",
   "execution_count": 775,
   "metadata": {
    "collapsed": false,
    "scrolled": true
   },
   "outputs": [
    {
     "data": {
      "text/html": [
       "<div>\n",
       "<table border=\"1\" class=\"dataframe\">\n",
       "  <thead>\n",
       "    <tr style=\"text-align: right;\">\n",
       "      <th></th>\n",
       "      <th>issnp2</th>\n",
       "      <th>issne2</th>\n",
       "      <th>count</th>\n",
       "      <th>cited</th>\n",
       "      <th>citation</th>\n",
       "      <th>journal</th>\n",
       "      <th>h</th>\n",
       "      <th>impact</th>\n",
       "    </tr>\n",
       "  </thead>\n",
       "  <tbody>\n",
       "    <tr>\n",
       "      <th>8516</th>\n",
       "      <td>0007-9235</td>\n",
       "      <td></td>\n",
       "      <td>146</td>\n",
       "      <td>96</td>\n",
       "      <td>19417</td>\n",
       "      <td>CA: A Cancer Journal for Clinicians</td>\n",
       "      <td>26</td>\n",
       "      <td>132.993151</td>\n",
       "    </tr>\n",
       "    <tr>\n",
       "      <th>8594</th>\n",
       "      <td>0009-2665</td>\n",
       "      <td>1520-6890</td>\n",
       "      <td>958</td>\n",
       "      <td>890</td>\n",
       "      <td>76926</td>\n",
       "      <td>Chemical Reviews</td>\n",
       "      <td>152</td>\n",
       "      <td>80.298539</td>\n",
       "    </tr>\n",
       "    <tr>\n",
       "      <th>38328</th>\n",
       "      <td>2367-3613</td>\n",
       "      <td>1433-8351</td>\n",
       "      <td>13</td>\n",
       "      <td>12</td>\n",
       "      <td>984</td>\n",
       "      <td>Living Reviews in Relativity</td>\n",
       "      <td>7</td>\n",
       "      <td>75.692308</td>\n",
       "    </tr>\n",
       "    <tr>\n",
       "      <th>13819</th>\n",
       "      <td>0306-0012</td>\n",
       "      <td>1460-4744</td>\n",
       "      <td>1377</td>\n",
       "      <td>1074</td>\n",
       "      <td>82084</td>\n",
       "      <td>Chemical Society Reviews</td>\n",
       "      <td>149</td>\n",
       "      <td>59.610748</td>\n",
       "    </tr>\n",
       "    <tr>\n",
       "      <th>10199</th>\n",
       "      <td>0034-6861</td>\n",
       "      <td>1539-0756</td>\n",
       "      <td>124</td>\n",
       "      <td>120</td>\n",
       "      <td>7322</td>\n",
       "      <td>Reviews of Modern Physics</td>\n",
       "      <td>47</td>\n",
       "      <td>59.048387</td>\n",
       "    </tr>\n",
       "  </tbody>\n",
       "</table>\n",
       "</div>"
      ],
      "text/plain": [
       "          issnp2     issne2  count  cited  citation  \\\n",
       "8516   0007-9235               146     96     19417   \n",
       "8594   0009-2665  1520-6890    958    890     76926   \n",
       "38328  2367-3613  1433-8351     13     12       984   \n",
       "13819  0306-0012  1460-4744   1377   1074     82084   \n",
       "10199  0034-6861  1539-0756    124    120      7322   \n",
       "\n",
       "                                   journal    h      impact  \n",
       "8516   CA: A Cancer Journal for Clinicians   26  132.993151  \n",
       "8594                      Chemical Reviews  152   80.298539  \n",
       "38328         Living Reviews in Relativity    7   75.692308  \n",
       "13819             Chemical Society Reviews  149   59.610748  \n",
       "10199            Reviews of Modern Physics   47   59.048387  "
      ]
     },
     "execution_count": 775,
     "metadata": {},
     "output_type": "execute_result"
    }
   ],
   "source": [
    "dg['impact']=dg['citation']/dg['count']\n",
    "dg.sort_values('impact',ascending=False).head()"
   ]
  },
  {
   "cell_type": "code",
   "execution_count": 776,
   "metadata": {
    "collapsed": false
   },
   "outputs": [],
   "source": [
    "dg['@id']=dg.apply(lambda x:x['issne2'] if x['issnp2']=='' else x['issnp2'],1)"
   ]
  },
  {
   "cell_type": "code",
   "execution_count": 182,
   "metadata": {
    "collapsed": false
   },
   "outputs": [],
   "source": [
    "dic=[]\n",
    "for index, i in dg.iterrows():\n",
    "    journal={}\n",
    "    journal['@id']=i['@id']\n",
    "    #issn_list=[i['@id']]\n",
    "    #if (i['issne2']!='') and (i['issne2']!=i['@id']):\n",
    "        #issn_list.append(i['issne2'])\n",
    "    #journal['e:issn']=issn_list\n",
    "    journal['e:count']=i['count']\n",
    "    journal['e:cited']=i['cited']\n",
    "    journal['e:citation']=i['citation']\n",
    "    journal['e:h']=i['h']\n",
    "    journal['e:impact']=round(i['impact'],2)\n",
    "    if journal not in dic:\n",
    "        dic.append(journal)"
   ]
  },
  {
   "cell_type": "code",
   "execution_count": 183,
   "metadata": {
    "collapsed": false
   },
   "outputs": [],
   "source": [
    "with open('journals_stats.jsonld', 'w') as outfile:\n",
    "    json.dump(dic, outfile)"
   ]
  },
  {
   "cell_type": "code",
   "execution_count": 184,
   "metadata": {
    "collapsed": false
   },
   "outputs": [
    {
     "data": {
      "text/plain": [
       "{'@id': '0000-992X',\n",
       " 'e:citation': 0L,\n",
       " 'e:cited': 0L,\n",
       " 'e:count': 4L,\n",
       " 'e:h': 0L,\n",
       " 'e:impact': 0.0}"
      ]
     },
     "execution_count": 184,
     "metadata": {},
     "output_type": "execute_result"
    }
   ],
   "source": [
    "dic[0]"
   ]
  },
  {
   "cell_type": "code",
   "execution_count": null,
   "metadata": {
    "collapsed": true
   },
   "outputs": [],
   "source": []
  }
 ],
 "metadata": {
  "anaconda-cloud": {},
  "kernelspec": {
   "display_name": "Python [Root]",
   "language": "python",
   "name": "Python [Root]"
  },
  "language_info": {
   "codemirror_mode": {
    "name": "ipython",
    "version": 2
   },
   "file_extension": ".py",
   "mimetype": "text/x-python",
   "name": "python",
   "nbconvert_exporter": "python",
   "pygments_lexer": "ipython2",
   "version": "2.7.12"
  }
 },
 "nbformat": 4,
 "nbformat_minor": 0
}
