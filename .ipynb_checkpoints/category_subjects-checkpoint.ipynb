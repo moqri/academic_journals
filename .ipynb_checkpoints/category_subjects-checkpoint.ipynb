{
 "cells": [
  {
   "cell_type": "code",
   "execution_count": 19,
   "metadata": {
    "collapsed": true
   },
   "outputs": [],
   "source": [
    "import os, io, json, urllib, numpy as np, codecs\n",
    "import pandas as pd\n",
    "from ast import literal_eval"
   ]
  },
  {
   "cell_type": "code",
   "execution_count": 20,
   "metadata": {
    "collapsed": false
   },
   "outputs": [],
   "source": [
    "unique_subjects=pd.read_csv('d/unique_subjects.csv',header=None)\n",
    "unique_subjects=unique_subjects[0].values"
   ]
  },
  {
   "cell_type": "code",
   "execution_count": 9,
   "metadata": {
    "collapsed": false
   },
   "outputs": [],
   "source": [
    "with open ('d/ASJC.txt','r') as myfile:\n",
    "    ASJC=myfile.read()"
   ]
  },
  {
   "cell_type": "code",
   "execution_count": 10,
   "metadata": {
    "collapsed": false
   },
   "outputs": [],
   "source": [
    "ASJC=ASJC.replace('General','Multidisciplinary')\n",
    "ASJC=ASJC.replace('veterinary','Veterinary')\n",
    "ASJC=ASJC.replace('General veterinary','General Veterinary')\n",
    "ASJC=ASJC.replace('veterinary (miscalleneous','Veterinary (miscalleneous)')"
   ]
  },
  {
   "cell_type": "code",
   "execution_count": 11,
   "metadata": {
    "collapsed": false
   },
   "outputs": [],
   "source": [
    "from StringIO import StringIO\n",
    "subject_cats=pd.read_table(StringIO(ASJC),delimiter=';')#from github\n",
    "subject_cats.shape \n",
    "subject_cats['Low']=subject_cats.Low.apply(lambda x: 'General '+x.replace('(all)','') if '(all)' in x else x)"
   ]
  },
  {
   "cell_type": "code",
   "execution_count": 12,
   "metadata": {
    "collapsed": false
   },
   "outputs": [
    {
     "name": "stdout",
     "output_type": "stream",
     "text": [
      "Pathophysiology\n",
      "Medical Terminology\n",
      "Respiratory Care\n"
     ]
    }
   ],
   "source": [
    "for i in subject_cats.Low.values:\n",
    "    if i not in unique_subjects:\n",
    "        print i"
   ]
  },
  {
   "cell_type": "code",
   "execution_count": 13,
   "metadata": {
    "collapsed": false
   },
   "outputs": [],
   "source": [
    "for i in unique_subjects:\n",
    "    if i not in subject_cats.Low.values:\n",
    "        print i"
   ]
  },
  {
   "cell_type": "code",
   "execution_count": 14,
   "metadata": {
    "collapsed": false
   },
   "outputs": [],
   "source": [
    "cats={}\n",
    "for i, row in subject_cats.iterrows():\n",
    "    cat=row.Middle.strip()\n",
    "    subject=(row.Low).strip()\n",
    "    if cat in cats:\n",
    "        cats[cat]=cats[cat]+';'+subject\n",
    "    else:\n",
    "        cats[cat]=subject"
   ]
  },
  {
   "cell_type": "code",
   "execution_count": 15,
   "metadata": {
    "collapsed": false
   },
   "outputs": [],
   "source": [
    "Middles=cats.keys()\n",
    "Middles.sort()"
   ]
  },
  {
   "cell_type": "code",
   "execution_count": 16,
   "metadata": {
    "collapsed": false,
    "scrolled": true
   },
   "outputs": [
    {
     "name": "stdout",
     "output_type": "stream",
     "text": [
      "<option value=\"Agricultural and Biological Sciences\">Agricultural and Biological Sciences</option>\n",
      "<option value=\"Arts and Humanities\">Arts and Humanities</option>\n",
      "<option value=\"Biochemistry, Genetics and Molecular Biology\">Biochemistry, Genetics and Molecular Biology</option>\n",
      "<option value=\"Business, Management and Accounting\">Business, Management and Accounting</option>\n",
      "<option value=\"Chemical Engineering\">Chemical Engineering</option>\n",
      "<option value=\"Chemistry\">Chemistry</option>\n",
      "<option value=\"Computer Science\">Computer Science</option>\n",
      "<option value=\"Decision Sciences\">Decision Sciences</option>\n",
      "<option value=\"Dentistry\">Dentistry</option>\n",
      "<option value=\"Earth and Planetary Sciences\">Earth and Planetary Sciences</option>\n",
      "<option value=\"Economics, Econometrics and Finance\">Economics, Econometrics and Finance</option>\n",
      "<option value=\"Energy\">Energy</option>\n",
      "<option value=\"Engineering\">Engineering</option>\n",
      "<option value=\"Environmental Science\">Environmental Science</option>\n",
      "<option value=\"Health Professions\">Health Professions</option>\n",
      "<option value=\"Immunology and Microbiology\">Immunology and Microbiology</option>\n",
      "<option value=\"Materials Science\">Materials Science</option>\n",
      "<option value=\"Mathematics\">Mathematics</option>\n",
      "<option value=\"Medicine\">Medicine</option>\n",
      "<option value=\"Multidisciplinary\">Multidisciplinary</option>\n",
      "<option value=\"Neuroscience\">Neuroscience</option>\n",
      "<option value=\"Nursing\">Nursing</option>\n",
      "<option value=\"Pharmacology, Toxicology and Pharmaceutics\">Pharmacology, Toxicology and Pharmaceutics</option>\n",
      "<option value=\"Physics and Astronomy\">Physics and Astronomy</option>\n",
      "<option value=\"Psychology\">Psychology</option>\n",
      "<option value=\"Social Sciences\">Social Sciences</option>\n",
      "<option value=\"Veterinary\">Veterinary</option>\n"
     ]
    }
   ],
   "source": [
    "for key in Middles:\n",
    "    print '<option value=\"'+key+'\">'+key+'</option>'"
   ]
  },
  {
   "cell_type": "code",
   "execution_count": 17,
   "metadata": {
    "collapsed": false,
    "scrolled": true
   },
   "outputs": [
    {
     "name": "stdout",
     "output_type": "stream",
     "text": [
      "case \"Agricultural and Biological Sciences\":\n",
      "\tvals = data[\"Agricultural and Biological Sciences\"].split(\";\");\n",
      "\tbreak;\n",
      "case \"Arts and Humanities\":\n",
      "\tvals = data[\"Arts and Humanities\"].split(\";\");\n",
      "\tbreak;\n",
      "case \"Biochemistry, Genetics and Molecular Biology\":\n",
      "\tvals = data[\"Biochemistry, Genetics and Molecular Biology\"].split(\";\");\n",
      "\tbreak;\n",
      "case \"Business, Management and Accounting\":\n",
      "\tvals = data[\"Business, Management and Accounting\"].split(\";\");\n",
      "\tbreak;\n",
      "case \"Chemical Engineering\":\n",
      "\tvals = data[\"Chemical Engineering\"].split(\";\");\n",
      "\tbreak;\n",
      "case \"Chemistry\":\n",
      "\tvals = data[\"Chemistry\"].split(\";\");\n",
      "\tbreak;\n",
      "case \"Computer Science\":\n",
      "\tvals = data[\"Computer Science\"].split(\";\");\n",
      "\tbreak;\n",
      "case \"Decision Sciences\":\n",
      "\tvals = data[\"Decision Sciences\"].split(\";\");\n",
      "\tbreak;\n",
      "case \"Dentistry\":\n",
      "\tvals = data[\"Dentistry\"].split(\";\");\n",
      "\tbreak;\n",
      "case \"Earth and Planetary Sciences\":\n",
      "\tvals = data[\"Earth and Planetary Sciences\"].split(\";\");\n",
      "\tbreak;\n",
      "case \"Economics, Econometrics and Finance\":\n",
      "\tvals = data[\"Economics, Econometrics and Finance\"].split(\";\");\n",
      "\tbreak;\n",
      "case \"Energy\":\n",
      "\tvals = data[\"Energy\"].split(\";\");\n",
      "\tbreak;\n",
      "case \"Engineering\":\n",
      "\tvals = data[\"Engineering\"].split(\";\");\n",
      "\tbreak;\n",
      "case \"Environmental Science\":\n",
      "\tvals = data[\"Environmental Science\"].split(\";\");\n",
      "\tbreak;\n",
      "case \"Health Professions\":\n",
      "\tvals = data[\"Health Professions\"].split(\";\");\n",
      "\tbreak;\n",
      "case \"Immunology and Microbiology\":\n",
      "\tvals = data[\"Immunology and Microbiology\"].split(\";\");\n",
      "\tbreak;\n",
      "case \"Materials Science\":\n",
      "\tvals = data[\"Materials Science\"].split(\";\");\n",
      "\tbreak;\n",
      "case \"Mathematics\":\n",
      "\tvals = data[\"Mathematics\"].split(\";\");\n",
      "\tbreak;\n",
      "case \"Medicine\":\n",
      "\tvals = data[\"Medicine\"].split(\";\");\n",
      "\tbreak;\n",
      "case \"Multidisciplinary\":\n",
      "\tvals = data[\"Multidisciplinary\"].split(\";\");\n",
      "\tbreak;\n",
      "case \"Neuroscience\":\n",
      "\tvals = data[\"Neuroscience\"].split(\";\");\n",
      "\tbreak;\n",
      "case \"Nursing\":\n",
      "\tvals = data[\"Nursing\"].split(\";\");\n",
      "\tbreak;\n",
      "case \"Pharmacology, Toxicology and Pharmaceutics\":\n",
      "\tvals = data[\"Pharmacology, Toxicology and Pharmaceutics\"].split(\";\");\n",
      "\tbreak;\n",
      "case \"Physics and Astronomy\":\n",
      "\tvals = data[\"Physics and Astronomy\"].split(\";\");\n",
      "\tbreak;\n",
      "case \"Psychology\":\n",
      "\tvals = data[\"Psychology\"].split(\";\");\n",
      "\tbreak;\n",
      "case \"Social Sciences\":\n",
      "\tvals = data[\"Social Sciences\"].split(\";\");\n",
      "\tbreak;\n",
      "case \"Veterinary\":\n",
      "\tvals = data[\"Veterinary\"].split(\";\");\n",
      "\tbreak;\n"
     ]
    }
   ],
   "source": [
    "for key in Middles:\n",
    "\tprint 'case \"'+key +'\":'\n",
    "\tprint '\\tvals = data[\"'+key+'\"].split(\";\");'\n",
    "\tprint '\\tbreak;'"
   ]
  },
  {
   "cell_type": "code",
   "execution_count": 18,
   "metadata": {
    "collapsed": false
   },
   "outputs": [],
   "source": [
    "import json\n",
    "with open('sjdb\\cats.json', 'w') as outfile:\n",
    "    json.dump(cats, outfile)"
   ]
  }
 ],
 "metadata": {
  "anaconda-cloud": {},
  "kernelspec": {
   "display_name": "Python [Root]",
   "language": "python",
   "name": "Python [Root]"
  }
 },
 "nbformat": 4,
 "nbformat_minor": 0
}
