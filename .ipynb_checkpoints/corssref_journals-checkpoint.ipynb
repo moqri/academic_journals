{
 "cells": [
  {
   "cell_type": "code",
<<<<<<< HEAD
   "execution_count": 75,
=======
   "execution_count": 4,
>>>>>>> a41da3a7eda84dad08b1b682149c4cd67519e6ef
   "metadata": {
    "collapsed": true
   },
   "outputs": [],
   "source": [
    "import os, io, json, urllib, numpy as np, codecs"
   ]
  },
  {
   "cell_type": "code",
<<<<<<< HEAD
   "execution_count": 76,
=======
   "execution_count": 5,
>>>>>>> a41da3a7eda84dad08b1b682149c4cd67519e6ef
   "metadata": {
    "collapsed": true
   },
   "outputs": [],
   "source": [
    "base_url=\"https://api.crossref.org/journals?rows=1000&offset=\""
   ]
  },
  {
   "cell_type": "code",
   "execution_count": null,
   "metadata": {
    "collapsed": false
   },
   "outputs": [
    {
     "name": "stdout",
     "output_type": "stream",
     "text": [
      "0 1 2 3 4 5 6 7 8 9 10 11 12 13 14 15 16 17 18 19 20"
     ]
    }
   ],
   "source": [
    "f=codecs.open('journals.csv','w','utf-8')\n",
    "dic=[]\n",
<<<<<<< HEAD
=======
    "journal={}\n",
>>>>>>> a41da3a7eda84dad08b1b682149c4cd67519e6ef
    "for it in range(51):\n",
    "    print it,\n",
    "    offset = it * 1000\n",
    "    url=base_url+str(offset)\n",
    "    response = urllib.urlopen(url).read()\n",
    "    json_result=json.loads(response)\n",
    "    items=json_result['message']['items']\n",
    "    for item in items:\n",
    "        title=item['title'].strip()\n",
    "        issn=item['ISSN']\n",
<<<<<<< HEAD
    "        publisher=item['publisher'] \n",
    "        if title!='' and len(issn)>0:\n",
    "            journal={}\n",
    "            journal['e:title']=title\n",
    "            journal['e:publisher']=publisher\n",
    "            journal['e:issn']=issn\n",
=======
    "        if title!='' and len(issn)>0:\n",
    "            journal['title']=title\n",
    "            journal['publisher']=item['publisher'] \n",
    "            journal['issn']=issn\n",
>>>>>>> a41da3a7eda84dad08b1b682149c4cd67519e6ef
    "            dic.append(journal)"
   ]
  },
  {
   "cell_type": "code",
<<<<<<< HEAD
   "execution_count": null,
   "metadata": {
    "collapsed": false
   },
   "outputs": [],
=======
   "execution_count": 22,
   "metadata": {
    "collapsed": false
   },
   "outputs": [
    {
     "data": {
      "text/plain": [
       "{'issn': [u'1748-5908'],\n",
       " 'publisher': u'Springer (Biomed Central Ltd.)',\n",
       " 'title': u'Implementation Science'}"
      ]
     },
     "execution_count": 22,
     "metadata": {},
     "output_type": "execute_result"
    }
   ],
>>>>>>> a41da3a7eda84dad08b1b682149c4cd67519e6ef
   "source": [
    "journal"
   ]
  },
  {
   "cell_type": "code",
<<<<<<< HEAD
   "execution_count": null,
   "metadata": {
    "collapsed": false
   },
   "outputs": [],
=======
   "execution_count": 24,
   "metadata": {
    "collapsed": false
   },
   "outputs": [
    {
     "data": {
      "text/plain": [
       "891"
      ]
     },
     "execution_count": 24,
     "metadata": {},
     "output_type": "execute_result"
    }
   ],
>>>>>>> a41da3a7eda84dad08b1b682149c4cd67519e6ef
   "source": [
    "len(dic)"
   ]
  },
  {
   "cell_type": "code",
   "execution_count": null,
   "metadata": {
    "collapsed": true
   },
   "outputs": [],
<<<<<<< HEAD
   "source": [
    "with open('journals.jsonld', 'w') as outfile:\n",
    "    json.dump(dic, outfile)"
   ]
=======
   "source": []
>>>>>>> a41da3a7eda84dad08b1b682149c4cd67519e6ef
  }
 ],
 "metadata": {
  "kernelspec": {
   "display_name": "Python [Root]",
   "language": "python",
   "name": "Python [Root]"
<<<<<<< HEAD
  },
  "language_info": {
   "codemirror_mode": {
    "name": "ipython",
    "version": 2
   },
   "file_extension": ".py",
   "mimetype": "text/x-python",
   "name": "python",
   "nbconvert_exporter": "python",
   "pygments_lexer": "ipython2",
   "version": "2.7.12"
=======
>>>>>>> a41da3a7eda84dad08b1b682149c4cd67519e6ef
  }
 },
 "nbformat": 4,
 "nbformat_minor": 0
}
