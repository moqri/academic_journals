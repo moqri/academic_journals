{
 "cells": [
  {
   "cell_type": "code",
   "execution_count": 651,
   "metadata": {
    "collapsed": false
   },
   "outputs": [],
   "source": [
    "%matplotlib inline\n",
    "import os, io, json, urllib, numpy as np, codecs\n",
    "import glob, pandas as pd\n",
    "pd.options.display.max_rows = 999"
   ]
  },
  {
   "cell_type": "code",
   "execution_count": 608,
   "metadata": {
    "collapsed": true
   },
   "outputs": [],
   "source": [
    "def h_(citation):\n",
    "    citation=list(citation)\n",
    "    h=0\n",
    "    citation.sort(reverse=True)\n",
    "    for i in range(1,len(citation)+1):\n",
    "        if citation[i-1] >= i:\n",
    "            h=i\n",
    "    return h"
   ]
  },
  {
   "cell_type": "code",
   "execution_count": 406,
   "metadata": {
    "collapsed": true
   },
   "outputs": [],
   "source": [
    "# skip if result.txt exists\n",
    "y16 = glob.glob('data/2016'+'/*.txt')\n",
    "y15 = glob.glob('data/2015'+'/*.txt')\n",
    "y14 = glob.glob('data/2014'+'/*.txt')\n",
    "y14_16=y14+y15+y16\n",
    "with open(\"result.txt\", \"wb\") as outfile:\n",
    "    for f in y14_16:\n",
    "        with open(f, \"rb\") as infile:\n",
    "            lines=infile.read().split('\\n')\n",
    "            for line in lines:\n",
    "                if len(line.split('\\t'))==9:\n",
    "                    outfile.write(line+'\\n')"
   ]
  },
  {
   "cell_type": "code",
   "execution_count": 621,
   "metadata": {
    "collapsed": false
   },
   "outputs": [
    {
     "data": {
      "text/plain": [
       "(9036478, 9)"
      ]
     },
     "execution_count": 621,
     "metadata": {},
     "output_type": "execute_result"
    }
   ],
   "source": [
    "df=pd.read_table('data\\result.txt',header=None)\n",
    "df.shape"
   ]
  },
  {
   "cell_type": "code",
   "execution_count": null,
   "metadata": {
    "collapsed": true
   },
   "outputs": [],
   "source": [
    "df.columns=['doi','year','ref','citation','issnp','issne','journal','publisher','author']"
   ]
  },
  {
   "cell_type": "code",
   "execution_count": 626,
   "metadata": {
    "collapsed": false
   },
   "outputs": [
    {
     "data": {
      "text/plain": [
       "(8441035, 9)"
      ]
     },
     "execution_count": 626,
     "metadata": {},
     "output_type": "execute_result"
    }
   ],
   "source": [
    "df=df[df['author']==1]\n",
    "df.shape"
   ]
  },
  {
   "cell_type": "code",
   "execution_count": 410,
   "metadata": {
    "collapsed": false
   },
   "outputs": [],
   "source": [
    "df['year']=df['year'].astype(int)"
   ]
  },
  {
   "cell_type": "code",
   "execution_count": 411,
   "metadata": {
    "collapsed": false
   },
   "outputs": [
    {
     "data": {
      "text/plain": [
       "(8441035, 9)"
      ]
     },
     "execution_count": 411,
     "metadata": {},
     "output_type": "execute_result"
    }
   ],
   "source": [
    "df=df[df['year']<=2017][df['year']>=1950]\n",
    "df.shape"
   ]
  },
  {
   "cell_type": "code",
   "execution_count": 412,
   "metadata": {
    "collapsed": false
   },
   "outputs": [],
   "source": [
    "df['count']=1\n",
    "df['cited']=df['citation'].apply(lambda x: 1 if x>0 else 0)\n",
    "df['un-cited']=df['citation'].apply(lambda x: 0 if x>0 else 1)"
   ]
  },
  {
   "cell_type": "code",
   "execution_count": 413,
   "metadata": {
    "collapsed": false
   },
   "outputs": [
    {
     "data": {
      "text/plain": [
       "(8436442, 12)"
      ]
     },
     "execution_count": 413,
     "metadata": {},
     "output_type": "execute_result"
    }
   ],
   "source": [
    "df=df[(~df.issnp.isnull()) | (~df.issne.isnull())]\n",
    "df.shape"
   ]
  },
  {
   "cell_type": "code",
   "execution_count": 414,
   "metadata": {
    "collapsed": true
   },
   "outputs": [],
   "source": [
    "df=df[['count','cited','citation','issnp','issne','journal']].fillna('')"
   ]
  },
  {
   "cell_type": "code",
   "execution_count": 415,
   "metadata": {
    "collapsed": false
   },
   "outputs": [],
   "source": [
    "issnps=df[(df.issne!='') & (df.issnp!='')].issnp.values\n",
    "issnes=df[(df.issne!='') & (df.issnp!='')].issne.values"
   ]
  },
  {
   "cell_type": "code",
   "execution_count": 416,
   "metadata": {
    "collapsed": false
   },
   "outputs": [],
   "source": [
    "p={}\n",
    "i=0\n",
    "for issnp in issnps:\n",
    "    p[issnp]=issnes[i]\n",
    "    i=i+1\n",
    "e={}\n",
    "i=0\n",
    "for issne in issnes:\n",
    "    e[issne]=issnps[i]\n",
    "    i=i+1"
   ]
  },
  {
   "cell_type": "code",
   "execution_count": 417,
   "metadata": {
    "collapsed": true
   },
   "outputs": [],
   "source": [
    "df['issnp2']=df.apply(lambda x: e[x['issne']] if x['issne'] in e else x['issnp'],axis=1)\n",
    "df['issne2']=df.apply(lambda x: p[x['issnp']] if x['issnp'] in p else x['issne'],axis=1)"
   ]
  },
  {
   "cell_type": "code",
   "execution_count": 419,
   "metadata": {
    "collapsed": false
   },
   "outputs": [],
   "source": [
    "#dg=dg.groupby(['issnp','issne']).agg({'count':sum,'cited':sum,'citation':sum,'journal':max}).reset_index()\n",
    "#dg['issnp2']=dg.apply(lambda x: e[x['issne']] if x['issne'] in e else x['issnp'],axis=1)\n",
    "#dg['issne2']=dg.apply(lambda x: p[x['issnp']] if x['issnp'] in p else x['issne'],axis=1)"
   ]
  },
  {
   "cell_type": "code",
   "execution_count": 610,
   "metadata": {
    "collapsed": false
   },
   "outputs": [
    {
     "data": {
      "text/plain": [
       "(40303, 6)"
      ]
     },
     "execution_count": 610,
     "metadata": {},
     "output_type": "execute_result"
    }
   ],
   "source": [
    "dg=df.groupby(['issnp2','issne2']).agg({'count':sum,'cited':sum,'citation':sum,'journal':max}).reset_index()\n",
    "dg.shape"
   ]
  },
  {
   "cell_type": "code",
   "execution_count": 611,
   "metadata": {
    "collapsed": true
   },
   "outputs": [],
   "source": [
    "dg2=df[['issnp2','issne2','citation']].groupby(['issnp2','issne2']).agg(lambda x:tuple(x)).reset_index()\n",
    "dg['h']=dg2.citation.apply(lambda x: h_(x))"
   ]
  },
  {
   "cell_type": "code",
   "execution_count": 614,
   "metadata": {
    "collapsed": false
   },
   "outputs": [
    {
     "data": {
      "text/html": [
       "<div>\n",
       "<table border=\"1\" class=\"dataframe\">\n",
       "  <thead>\n",
       "    <tr style=\"text-align: right;\">\n",
       "      <th></th>\n",
       "      <th>issnp2</th>\n",
       "      <th>issne2</th>\n",
       "      <th>count</th>\n",
       "      <th>cited</th>\n",
       "      <th>citation</th>\n",
       "      <th>journal</th>\n",
       "      <th>h</th>\n",
       "    </tr>\n",
       "  </thead>\n",
       "  <tbody>\n",
       "    <tr>\n",
       "      <th>2855</th>\n",
       "      <td></td>\n",
       "      <td>2045-2322</td>\n",
       "      <td>36016</td>\n",
       "      <td>19899</td>\n",
       "      <td>140079</td>\n",
       "      <td>Scientific Reports</td>\n",
       "      <td>65</td>\n",
       "    </tr>\n",
       "    <tr>\n",
       "      <th>10285</th>\n",
       "      <td>0028-4793</td>\n",
       "      <td>1533-4406</td>\n",
       "      <td>2599</td>\n",
       "      <td>2170</td>\n",
       "      <td>123217</td>\n",
       "      <td>New England Journal of Medicine</td>\n",
       "      <td>178</td>\n",
       "    </tr>\n",
       "    <tr>\n",
       "      <th>10263</th>\n",
       "      <td>0028-0836</td>\n",
       "      <td>1476-4687</td>\n",
       "      <td>9399</td>\n",
       "      <td>3027</td>\n",
       "      <td>122663</td>\n",
       "      <td>Nature</td>\n",
       "      <td>161</td>\n",
       "    </tr>\n",
       "    <tr>\n",
       "      <th>2182</th>\n",
       "      <td></td>\n",
       "      <td>1932-6203</td>\n",
       "      <td>84715</td>\n",
       "      <td>13301</td>\n",
       "      <td>111701</td>\n",
       "      <td>PLoS ONE</td>\n",
       "      <td>60</td>\n",
       "    </tr>\n",
       "    <tr>\n",
       "      <th>10753</th>\n",
       "      <td>0036-8075</td>\n",
       "      <td>1095-9203</td>\n",
       "      <td>13214</td>\n",
       "      <td>2552</td>\n",
       "      <td>109775</td>\n",
       "      <td>Science</td>\n",
       "      <td>156</td>\n",
       "    </tr>\n",
       "  </tbody>\n",
       "</table>\n",
       "</div>"
      ],
      "text/plain": [
       "          issnp2     issne2  count  cited  citation  \\\n",
       "2855              2045-2322  36016  19899    140079   \n",
       "10285  0028-4793  1533-4406   2599   2170    123217   \n",
       "10263  0028-0836  1476-4687   9399   3027    122663   \n",
       "2182              1932-6203  84715  13301    111701   \n",
       "10753  0036-8075  1095-9203  13214   2552    109775   \n",
       "\n",
       "                               journal    h  \n",
       "2855                Scientific Reports   65  \n",
       "10285  New England Journal of Medicine  178  \n",
       "10263                           Nature  161  \n",
       "2182                          PLoS ONE   60  \n",
       "10753                          Science  156  "
      ]
     },
     "execution_count": 614,
     "metadata": {},
     "output_type": "execute_result"
    }
   ],
   "source": [
    "dg.sort_values('citation',ascending=False).head()"
   ]
  },
  {
   "cell_type": "code",
   "execution_count": 620,
   "metadata": {
    "collapsed": false
   },
   "outputs": [
    {
     "data": {
      "text/plain": [
       "(2599, 8)"
      ]
     },
     "execution_count": 620,
     "metadata": {},
     "output_type": "execute_result"
    }
   ],
   "source": [
    "df[df.journal=='New England Journal of Medicine'].shape"
   ]
  },
  {
   "cell_type": "code",
   "execution_count": 627,
   "metadata": {
    "collapsed": false,
    "scrolled": true
   },
   "outputs": [
    {
     "data": {
      "text/html": [
       "<div>\n",
       "<table border=\"1\" class=\"dataframe\">\n",
       "  <thead>\n",
       "    <tr style=\"text-align: right;\">\n",
       "      <th></th>\n",
       "      <th>issnp2</th>\n",
       "      <th>issne2</th>\n",
       "      <th>count</th>\n",
       "      <th>cited</th>\n",
       "      <th>citation</th>\n",
       "      <th>journal</th>\n",
       "      <th>h</th>\n",
       "      <th>impact</th>\n",
       "    </tr>\n",
       "  </thead>\n",
       "  <tbody>\n",
       "    <tr>\n",
       "      <th>8974</th>\n",
       "      <td>0007-9235</td>\n",
       "      <td></td>\n",
       "      <td>116</td>\n",
       "      <td>44</td>\n",
       "      <td>18297</td>\n",
       "      <td>CA: A Cancer Journal for Clinicians</td>\n",
       "      <td>18</td>\n",
       "      <td>157.732759</td>\n",
       "    </tr>\n",
       "    <tr>\n",
       "      <th>38540</th>\n",
       "      <td>2367-3613</td>\n",
       "      <td>1433-8351</td>\n",
       "      <td>13</td>\n",
       "      <td>10</td>\n",
       "      <td>939</td>\n",
       "      <td>Living Reviews in Relativity</td>\n",
       "      <td>7</td>\n",
       "      <td>72.230769</td>\n",
       "    </tr>\n",
       "    <tr>\n",
       "      <th>9051</th>\n",
       "      <td>0009-2665</td>\n",
       "      <td>1520-6890</td>\n",
       "      <td>910</td>\n",
       "      <td>494</td>\n",
       "      <td>58230</td>\n",
       "      <td>Chemical Reviews</td>\n",
       "      <td>144</td>\n",
       "      <td>63.989011</td>\n",
       "    </tr>\n",
       "    <tr>\n",
       "      <th>14245</th>\n",
       "      <td>0306-0012</td>\n",
       "      <td>1460-4744</td>\n",
       "      <td>1064</td>\n",
       "      <td>487</td>\n",
       "      <td>53390</td>\n",
       "      <td>Chemical Society Reviews</td>\n",
       "      <td>134</td>\n",
       "      <td>50.178571</td>\n",
       "    </tr>\n",
       "    <tr>\n",
       "      <th>19111</th>\n",
       "      <td>1057-5987</td>\n",
       "      <td>1545-8601</td>\n",
       "      <td>8</td>\n",
       "      <td>7</td>\n",
       "      <td>390</td>\n",
       "      <td>MMWR. Recommendations and Reports</td>\n",
       "      <td>6</td>\n",
       "      <td>48.750000</td>\n",
       "    </tr>\n",
       "  </tbody>\n",
       "</table>\n",
       "</div>"
      ],
      "text/plain": [
       "          issnp2     issne2  count  cited  citation  \\\n",
       "8974   0007-9235               116     44     18297   \n",
       "38540  2367-3613  1433-8351     13     10       939   \n",
       "9051   0009-2665  1520-6890    910    494     58230   \n",
       "14245  0306-0012  1460-4744   1064    487     53390   \n",
       "19111  1057-5987  1545-8601      8      7       390   \n",
       "\n",
       "                                   journal    h      impact  \n",
       "8974   CA: A Cancer Journal for Clinicians   18  157.732759  \n",
       "38540         Living Reviews in Relativity    7   72.230769  \n",
       "9051                      Chemical Reviews  144   63.989011  \n",
       "14245             Chemical Society Reviews  134   50.178571  \n",
       "19111    MMWR. Recommendations and Reports    6   48.750000  "
      ]
     },
     "execution_count": 627,
     "metadata": {},
     "output_type": "execute_result"
    }
   ],
   "source": [
    "dg['impact']=dg['citation']/dg['count']\n",
    "dg.sort_values('impact',ascending=False).head()"
   ]
  },
  {
   "cell_type": "code",
   "execution_count": 635,
   "metadata": {
    "collapsed": false
   },
   "outputs": [],
   "source": [
    "dg['@id']=dg.apply(lambda x:x['issne2'] if x['issnp2']=='' else x['issnp2'],1)"
   ]
  },
  {
   "cell_type": "code",
   "execution_count": 655,
   "metadata": {
    "collapsed": false
   },
   "outputs": [],
   "source": [
    "dic=[]\n",
    "for index, i in dg.iterrows():\n",
    "    journal={}\n",
    "    journal['@id']=i['@id']\n",
    "    issn_list=[i['@id']]\n",
    "    if (i['issne2']!='') and (i['issne2']!=i['@id']):\n",
    "        issn_list.append(i['issne2'])\n",
    "    journal['e:issn']=issn_list\n",
    "    journal['e:count']=i['count']\n",
    "    journal['e:cited']=i['cited']\n",
    "    journal['e:citation']=i['citation']\n",
    "    journal['e:h']=i['h']\n",
    "    journal['e:impact']=round(i['impact'],2)\n",
    "    if journal not in dic:\n",
    "        dic.append(journal)"
   ]
  },
  {
   "cell_type": "code",
   "execution_count": 656,
   "metadata": {
    "collapsed": false
   },
   "outputs": [],
   "source": [
    "with open('journals_stats.jsonld', 'w') as outfile:\n",
    "    json.dump(dic, outfile)"
   ]
  }
 ],
 "metadata": {
  "anaconda-cloud": {},
  "kernelspec": {
   "display_name": "Python [Root]",
   "language": "python",
   "name": "Python [Root]"
  },
  "language_info": {
   "codemirror_mode": {
    "name": "ipython",
    "version": 2
   },
   "file_extension": ".py",
   "mimetype": "text/x-python",
   "name": "python",
   "nbconvert_exporter": "python",
   "pygments_lexer": "ipython2",
   "version": "2.7.12"
  }
 },
 "nbformat": 4,
 "nbformat_minor": 0
}
