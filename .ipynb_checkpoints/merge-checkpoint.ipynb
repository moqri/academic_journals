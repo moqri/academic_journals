{
 "cells": [
  {
   "cell_type": "code",
   "execution_count": 38,
   "metadata": {
    "collapsed": false
   },
   "outputs": [],
   "source": [
    "%matplotlib inline\n",
    "import os, io, json, urllib, numpy as np, codecs\n",
    "import glob, pandas as pd\n",
    "pd.options.display.max_rows = 999"
   ]
  },
  {
   "cell_type": "code",
   "execution_count": 39,
   "metadata": {
    "collapsed": true
   },
   "outputs": [],
   "source": [
    "def h_(citation):\n",
    "    citation=list(citation)\n",
    "    h=0\n",
    "    citation.sort(reverse=True)\n",
    "    for i in range(1,len(citation)+1):\n",
    "        if citation[i-1] >= i:\n",
    "            h=i\n",
    "    return h"
   ]
  },
  {
   "cell_type": "code",
   "execution_count": null,
   "metadata": {
    "collapsed": false
   },
   "outputs": [],
   "source": [
    "# skip if result.txt exists\n",
    "y17 = glob.glob('data/2017/*.txt')\n",
    "y16 = glob.glob('data/2016/*.txt')\n",
    "y15 = glob.glob('data/2015/*.txt')\n",
    "y14 = glob.glob('data/2014/*.txt')\n",
    "y14_17=y14+y15+y16+y17\n",
    "with open(\"data/data.txt\", \"wb\") as outfile:\n",
    "    for f in y14_16:\n",
    "        with open(f, \"rb\") as infile:\n",
    "            lines=infile.read().split('\\n')\n",
    "            for line in lines:\n",
    "                if len(line.split('\\t'))==10:\n",
    "                    outfile.write(line+'\\n')"
   ]
  },
  {
   "cell_type": "code",
   "execution_count": null,
   "metadata": {
    "collapsed": false
   },
   "outputs": [],
   "source": [
    "df=pd.read_table('data/data.txt',header=None)\n",
    "df.columns=['doi','year','ref','citation','issnp','issne','journal','publisher','author','lic']\n",
    "df.shape"
   ]
  },
  {
   "cell_type": "code",
   "execution_count": null,
   "metadata": {
    "collapsed": false
   },
   "outputs": [],
   "source": [
    "#df=df[df['author']==1]\n",
    "#df.shape"
   ]
  },
  {
   "cell_type": "code",
   "execution_count": null,
   "metadata": {
    "collapsed": false
   },
   "outputs": [],
   "source": [
    "df['year']=df['year'].astype(int)"
   ]
  },
  {
   "cell_type": "code",
   "execution_count": null,
   "metadata": {
    "collapsed": false
   },
   "outputs": [],
   "source": [
    "df=df[df['year']<=2017][df['year']>=2014]\n",
    "df.shape"
   ]
  },
  {
   "cell_type": "code",
   "execution_count": null,
   "metadata": {
    "collapsed": false
   },
   "outputs": [],
   "source": [
    "df['count']=1\n",
    "df['cited']=df['citation'].apply(lambda x: 1 if x>0 else 0)\n",
    "df['un-cited']=df['citation'].apply(lambda x: 0 if x>0 else 1)"
   ]
  },
  {
   "cell_type": "code",
   "execution_count": null,
   "metadata": {
    "collapsed": false
   },
   "outputs": [],
   "source": [
    "df=df[(~df.issnp.isnull()) | (~df.issne.isnull())]\n",
    "df.shape"
   ]
  },
  {
   "cell_type": "code",
   "execution_count": null,
   "metadata": {
    "collapsed": false
   },
   "outputs": [],
   "source": [
    "df=df[['year','count','citation','issnp','issne']].fillna('_')\n",
    "df['issn']=df.issnp+','+df.issne\n",
    "df['issn']=df.issn.str.replace(',_','')\n",
    "df['issn']=df.issn.str.replace('_,','')"
   ]
  },
  {
   "cell_type": "code",
   "execution_count": null,
   "metadata": {
    "collapsed": false
   },
   "outputs": [],
   "source": [
    "df['issn']=df.issn.apply(lambda x:x[0:9] if x[10:19]==x[0:9] else x)"
   ]
  },
  {
   "cell_type": "code",
   "execution_count": null,
   "metadata": {
    "collapsed": false
   },
   "outputs": [],
   "source": [
    "s=df.issn.str.split(',',expand=True).stack()"
   ]
  },
  {
   "cell_type": "code",
   "execution_count": null,
   "metadata": {
    "collapsed": true
   },
   "outputs": [],
   "source": [
    "i = s.index.get_level_values(0)"
   ]
  },
  {
   "cell_type": "code",
   "execution_count": null,
   "metadata": {
    "collapsed": true
   },
   "outputs": [],
   "source": [
    "df2 = df.loc[i].copy()"
   ]
  },
  {
   "cell_type": "code",
   "execution_count": null,
   "metadata": {
    "collapsed": false
   },
   "outputs": [],
   "source": [
    "df2[\"@id\"] = s.values"
   ]
  },
  {
   "cell_type": "code",
   "execution_count": null,
   "metadata": {
    "collapsed": false
   },
   "outputs": [],
   "source": [
    "dg=df2.groupby(['@id','year']).agg({'count':sum,'citation':sum}).reset_index()\n",
    "dg['impact']=dg['citation'].div(dg['count']).round(2)\n",
    "dg.shape"
   ]
  },
  {
   "cell_type": "code",
   "execution_count": null,
   "metadata": {
    "collapsed": false
   },
   "outputs": [],
   "source": [
    "dg_h=df2[['@id','citation']].groupby(['@id']).agg(lambda x:tuple(x)).reset_index()\n",
    "dg_h['h']=dg_h.citation.apply(lambda x: h_(x))\n",
    "dg_h.shape"
   ]
  },
  {
   "cell_type": "code",
   "execution_count": null,
   "metadata": {
    "collapsed": false
   },
   "outputs": [],
   "source": [
    "dg_i=df2.groupby(['@id']).agg({'count':sum,'citation':sum}).reset_index()\n",
    "dg_i['impact']=dg_i['citation'].div(dg_i['count']).round(2)\n",
    "dg_i.shape"
   ]
  },
  {
   "cell_type": "code",
   "execution_count": null,
   "metadata": {
    "collapsed": false
   },
   "outputs": [],
   "source": [
    "dg_flat=dg.pivot(index='@id',columns='year')\n",
    "dg_flat.columns = [col[0]+'_'+str(col[1])[3] for col in dg_flat.columns.values]\n",
    "dg_flat=dg_flat.reset_index()"
   ]
  },
  {
   "cell_type": "code",
   "execution_count": null,
   "metadata": {
    "collapsed": false
   },
   "outputs": [],
   "source": [
    "dg_merge=dg_flat.merge(dg_i[['@id','count','citation','impact']])\\\n",
    ".merge(dg_h[['@id','h']]).fillna(0,downcast='infer')\n",
    "dg_merge.shape"
   ]
  },
  {
   "cell_type": "code",
   "execution_count": null,
   "metadata": {
    "collapsed": false
   },
   "outputs": [],
   "source": [
    "for s in range(10):\n",
    "    dic=[]\n",
    "    for index, i in dg_merge[10000*s:10000*(s+1)].iterrows():\n",
    "        journal={}\n",
    "        journal['@id']=i['@id']\n",
    "        for y in range(5,8):  \n",
    "            journal['e:count_'+str(y)]=i['count_'+str(y)]\n",
    "            journal['e:citation_'+str(y)]=i['citation_'+str(y)]\n",
    "            journal['e:impact_'+str(y)]=round(i['impact_'+str(y)],2)\n",
    "        journal['e:count']=i['count']\n",
    "        journal['e:citation']=i['citation']\n",
    "        journal['e:impact']=round(i['impact'],2)\n",
    "        journal['e:h']=i['h']\n",
    "        if journal not in dic:\n",
    "            dic.append(journal)\n",
    "    with open('jsonld/'+str(s)+'journals_stats.jsonld', 'w') as outfile:\n",
    "        json.dump(dic, outfile)"
   ]
  }
 ],
 "metadata": {
  "anaconda-cloud": {},
  "kernelspec": {
   "display_name": "Python [Root]",
   "language": "python",
   "name": "Python [Root]"
  },
  "language_info": {
   "codemirror_mode": {
    "name": "ipython",
    "version": 2
   },
   "file_extension": ".py",
   "mimetype": "text/x-python",
   "name": "python",
   "nbconvert_exporter": "python",
   "pygments_lexer": "ipython2",
   "version": "2.7.12"
  }
 },
 "nbformat": 4,
 "nbformat_minor": 0
}
