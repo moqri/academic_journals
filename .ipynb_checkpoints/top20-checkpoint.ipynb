{
 "cells": [
  {
   "cell_type": "code",
   "execution_count": 2,
   "metadata": {
    "collapsed": false
   },
   "outputs": [],
   "source": [
    "%matplotlib inline\n",
    "import os, io, json, urllib, numpy as np, codecs\n",
    "import glob, pandas as pd\n",
    "pd.options.display.max_rows = 999"
   ]
  },
  {
   "cell_type": "code",
   "execution_count": 3,
   "metadata": {
    "collapsed": true
   },
   "outputs": [],
   "source": [
    "def h_(citation):\n",
    "    citation=list(citation)\n",
    "    h=0\n",
    "    citation.sort(reverse=True)\n",
    "    for i in range(1,len(citation)+1):\n",
    "        if citation[i-1] >= i:\n",
    "            h=i\n",
    "    return h"
   ]
  },
  {
   "cell_type": "code",
   "execution_count": 4,
   "metadata": {
    "collapsed": false
   },
   "outputs": [],
   "source": [
    "# skip if result.txt exists\n",
    "y17 = glob.glob('data/August/2017/*.txt')\n",
    "y16 = glob.glob('data/August/2016/*.txt')\n",
    "y15 = glob.glob('data/August/2015/*.txt')\n",
    "y14 = glob.glob('data/August/2014/*.txt')\n",
    "y14_17=y14+y15+y16+y17\n",
    "with open(\"data/August/data.txt\", \"wb\") as outfile:\n",
    "    for f in y14_17:\n",
    "        with open(f, \"rb\") as infile:\n",
    "            lines=infile.read().split('\\n')\n",
    "            for line in lines:\n",
    "                if len(line.split('\\t'))==10:\n",
    "                    outfile.write(line+'\\n')"
   ]
  },
  {
   "cell_type": "code",
   "execution_count": 7,
   "metadata": {
    "collapsed": false
   },
   "outputs": [
    {
     "data": {
      "text/plain": [
       "(11296959, 10)"
      ]
     },
     "execution_count": 7,
     "metadata": {},
     "output_type": "execute_result"
    }
   ],
   "source": [
    "df=pd.read_table('data/August/data.txt',header=None)\n",
    "df.columns=['doi','year','ref','citation','issnp','issne','journal','publisher','author','lic']\n",
    "df.shape"
   ]
  },
  {
   "cell_type": "code",
   "execution_count": 8,
   "metadata": {
    "collapsed": false
   },
   "outputs": [],
   "source": [
    "df['yy']=df.year.str[1:5]\n",
    "df['mm']=df.year.apply(lambda x: int(x.replace(']','').split(', ')[1]) if len(x.split(', '))>1 else 0)"
   ]
  },
  {
   "cell_type": "code",
   "execution_count": 9,
   "metadata": {
    "collapsed": false
   },
   "outputs": [
    {
     "data": {
      "text/plain": [
       "(9274208, 12)"
      ]
     },
     "execution_count": 9,
     "metadata": {},
     "output_type": "execute_result"
    }
   ],
   "source": [
    "df=df[~((df.yy=='2014') & (df.mm<9))]\n",
    "df.shape"
   ]
  },
  {
   "cell_type": "code",
   "execution_count": 10,
   "metadata": {
    "collapsed": false
   },
   "outputs": [
    {
     "data": {
      "text/html": [
       "<div>\n",
       "<table border=\"1\" class=\"dataframe\">\n",
       "  <thead>\n",
       "    <tr style=\"text-align: right;\">\n",
       "      <th></th>\n",
       "      <th>doi</th>\n",
       "      <th>year</th>\n",
       "      <th>ref</th>\n",
       "      <th>citation</th>\n",
       "      <th>issnp</th>\n",
       "      <th>issne</th>\n",
       "      <th>journal</th>\n",
       "      <th>publisher</th>\n",
       "      <th>author</th>\n",
       "      <th>lic</th>\n",
       "      <th>yy</th>\n",
       "    </tr>\n",
       "    <tr>\n",
       "      <th>mm</th>\n",
       "      <th></th>\n",
       "      <th></th>\n",
       "      <th></th>\n",
       "      <th></th>\n",
       "      <th></th>\n",
       "      <th></th>\n",
       "      <th></th>\n",
       "      <th></th>\n",
       "      <th></th>\n",
       "      <th></th>\n",
       "      <th></th>\n",
       "    </tr>\n",
       "  </thead>\n",
       "  <tbody>\n",
       "    <tr>\n",
       "      <th>0</th>\n",
       "      <td>1160173</td>\n",
       "      <td>1160173</td>\n",
       "      <td>1160173</td>\n",
       "      <td>1160173</td>\n",
       "      <td>878196</td>\n",
       "      <td>760001</td>\n",
       "      <td>1160173</td>\n",
       "      <td>1160171</td>\n",
       "      <td>1160173</td>\n",
       "      <td>169413</td>\n",
       "      <td>1160173</td>\n",
       "    </tr>\n",
       "    <tr>\n",
       "      <th>1</th>\n",
       "      <td>789559</td>\n",
       "      <td>789559</td>\n",
       "      <td>789559</td>\n",
       "      <td>789559</td>\n",
       "      <td>661652</td>\n",
       "      <td>489909</td>\n",
       "      <td>789559</td>\n",
       "      <td>789553</td>\n",
       "      <td>789559</td>\n",
       "      <td>329151</td>\n",
       "      <td>789559</td>\n",
       "    </tr>\n",
       "    <tr>\n",
       "      <th>2</th>\n",
       "      <td>572077</td>\n",
       "      <td>572077</td>\n",
       "      <td>572077</td>\n",
       "      <td>572077</td>\n",
       "      <td>499841</td>\n",
       "      <td>324205</td>\n",
       "      <td>572077</td>\n",
       "      <td>572070</td>\n",
       "      <td>572077</td>\n",
       "      <td>277487</td>\n",
       "      <td>572077</td>\n",
       "    </tr>\n",
       "    <tr>\n",
       "      <th>3</th>\n",
       "      <td>683514</td>\n",
       "      <td>683514</td>\n",
       "      <td>683514</td>\n",
       "      <td>683514</td>\n",
       "      <td>590943</td>\n",
       "      <td>397342</td>\n",
       "      <td>683514</td>\n",
       "      <td>683491</td>\n",
       "      <td>683514</td>\n",
       "      <td>316217</td>\n",
       "      <td>683514</td>\n",
       "    </tr>\n",
       "    <tr>\n",
       "      <th>4</th>\n",
       "      <td>663332</td>\n",
       "      <td>663332</td>\n",
       "      <td>663332</td>\n",
       "      <td>663332</td>\n",
       "      <td>575679</td>\n",
       "      <td>368009</td>\n",
       "      <td>663332</td>\n",
       "      <td>663311</td>\n",
       "      <td>663332</td>\n",
       "      <td>321061</td>\n",
       "      <td>663332</td>\n",
       "    </tr>\n",
       "    <tr>\n",
       "      <th>5</th>\n",
       "      <td>632449</td>\n",
       "      <td>632449</td>\n",
       "      <td>632449</td>\n",
       "      <td>632449</td>\n",
       "      <td>548507</td>\n",
       "      <td>355692</td>\n",
       "      <td>632449</td>\n",
       "      <td>632415</td>\n",
       "      <td>632449</td>\n",
       "      <td>304477</td>\n",
       "      <td>632449</td>\n",
       "    </tr>\n",
       "    <tr>\n",
       "      <th>6</th>\n",
       "      <td>705415</td>\n",
       "      <td>705415</td>\n",
       "      <td>705415</td>\n",
       "      <td>705415</td>\n",
       "      <td>599763</td>\n",
       "      <td>412234</td>\n",
       "      <td>705415</td>\n",
       "      <td>705400</td>\n",
       "      <td>705415</td>\n",
       "      <td>317896</td>\n",
       "      <td>705415</td>\n",
       "    </tr>\n",
       "    <tr>\n",
       "      <th>7</th>\n",
       "      <td>638252</td>\n",
       "      <td>638252</td>\n",
       "      <td>638252</td>\n",
       "      <td>638252</td>\n",
       "      <td>553223</td>\n",
       "      <td>382972</td>\n",
       "      <td>638252</td>\n",
       "      <td>638252</td>\n",
       "      <td>638252</td>\n",
       "      <td>307035</td>\n",
       "      <td>638252</td>\n",
       "    </tr>\n",
       "    <tr>\n",
       "      <th>8</th>\n",
       "      <td>580588</td>\n",
       "      <td>580588</td>\n",
       "      <td>580588</td>\n",
       "      <td>580588</td>\n",
       "      <td>499564</td>\n",
       "      <td>329094</td>\n",
       "      <td>580588</td>\n",
       "      <td>580588</td>\n",
       "      <td>580588</td>\n",
       "      <td>292511</td>\n",
       "      <td>580588</td>\n",
       "    </tr>\n",
       "    <tr>\n",
       "      <th>9</th>\n",
       "      <td>747831</td>\n",
       "      <td>747831</td>\n",
       "      <td>747831</td>\n",
       "      <td>747831</td>\n",
       "      <td>660942</td>\n",
       "      <td>388524</td>\n",
       "      <td>747831</td>\n",
       "      <td>747817</td>\n",
       "      <td>747831</td>\n",
       "      <td>355338</td>\n",
       "      <td>747831</td>\n",
       "    </tr>\n",
       "    <tr>\n",
       "      <th>10</th>\n",
       "      <td>682696</td>\n",
       "      <td>682696</td>\n",
       "      <td>682696</td>\n",
       "      <td>682696</td>\n",
       "      <td>599017</td>\n",
       "      <td>371819</td>\n",
       "      <td>682696</td>\n",
       "      <td>682682</td>\n",
       "      <td>682696</td>\n",
       "      <td>324908</td>\n",
       "      <td>682696</td>\n",
       "    </tr>\n",
       "    <tr>\n",
       "      <th>11</th>\n",
       "      <td>626481</td>\n",
       "      <td>626481</td>\n",
       "      <td>626481</td>\n",
       "      <td>626481</td>\n",
       "      <td>549973</td>\n",
       "      <td>339288</td>\n",
       "      <td>626481</td>\n",
       "      <td>626453</td>\n",
       "      <td>626481</td>\n",
       "      <td>314369</td>\n",
       "      <td>626481</td>\n",
       "    </tr>\n",
       "    <tr>\n",
       "      <th>12</th>\n",
       "      <td>717287</td>\n",
       "      <td>717287</td>\n",
       "      <td>717287</td>\n",
       "      <td>717287</td>\n",
       "      <td>608595</td>\n",
       "      <td>401728</td>\n",
       "      <td>717287</td>\n",
       "      <td>717281</td>\n",
       "      <td>717287</td>\n",
       "      <td>306627</td>\n",
       "      <td>717287</td>\n",
       "    </tr>\n",
       "    <tr>\n",
       "      <th>99</th>\n",
       "      <td>74554</td>\n",
       "      <td>74554</td>\n",
       "      <td>74554</td>\n",
       "      <td>74554</td>\n",
       "      <td>22</td>\n",
       "      <td>74553</td>\n",
       "      <td>74554</td>\n",
       "      <td>74554</td>\n",
       "      <td>74554</td>\n",
       "      <td>0</td>\n",
       "      <td>74554</td>\n",
       "    </tr>\n",
       "  </tbody>\n",
       "</table>\n",
       "</div>"
      ],
      "text/plain": [
       "        doi     year      ref  citation   issnp   issne  journal  publisher  \\\n",
       "mm                                                                            \n",
       "0   1160173  1160173  1160173   1160173  878196  760001  1160173    1160171   \n",
       "1    789559   789559   789559    789559  661652  489909   789559     789553   \n",
       "2    572077   572077   572077    572077  499841  324205   572077     572070   \n",
       "3    683514   683514   683514    683514  590943  397342   683514     683491   \n",
       "4    663332   663332   663332    663332  575679  368009   663332     663311   \n",
       "5    632449   632449   632449    632449  548507  355692   632449     632415   \n",
       "6    705415   705415   705415    705415  599763  412234   705415     705400   \n",
       "7    638252   638252   638252    638252  553223  382972   638252     638252   \n",
       "8    580588   580588   580588    580588  499564  329094   580588     580588   \n",
       "9    747831   747831   747831    747831  660942  388524   747831     747817   \n",
       "10   682696   682696   682696    682696  599017  371819   682696     682682   \n",
       "11   626481   626481   626481    626481  549973  339288   626481     626453   \n",
       "12   717287   717287   717287    717287  608595  401728   717287     717281   \n",
       "99    74554    74554    74554     74554      22   74553    74554      74554   \n",
       "\n",
       "     author     lic       yy  \n",
       "mm                            \n",
       "0   1160173  169413  1160173  \n",
       "1    789559  329151   789559  \n",
       "2    572077  277487   572077  \n",
       "3    683514  316217   683514  \n",
       "4    663332  321061   663332  \n",
       "5    632449  304477   632449  \n",
       "6    705415  317896   705415  \n",
       "7    638252  307035   638252  \n",
       "8    580588  292511   580588  \n",
       "9    747831  355338   747831  \n",
       "10   682696  324908   682696  \n",
       "11   626481  314369   626481  \n",
       "12   717287  306627   717287  \n",
       "99    74554       0    74554  "
      ]
     },
     "execution_count": 10,
     "metadata": {},
     "output_type": "execute_result"
    }
   ],
   "source": [
    "df.groupby('mm').count()"
   ]
  },
  {
   "cell_type": "code",
   "execution_count": 11,
   "metadata": {
    "collapsed": false
   },
   "outputs": [],
   "source": [
    "df['year']=df['yy'].astype(int)"
   ]
  },
  {
   "cell_type": "code",
   "execution_count": 12,
   "metadata": {
    "collapsed": false
   },
   "outputs": [
    {
     "data": {
      "text/plain": [
       "(9199654, 12)"
      ]
     },
     "execution_count": 12,
     "metadata": {},
     "output_type": "execute_result"
    }
   ],
   "source": [
    "df=df[(df['year']<=2017) & (df['year']>=2014)]\n",
    "df.shape"
   ]
  },
  {
   "cell_type": "code",
   "execution_count": 13,
   "metadata": {
    "collapsed": false
   },
   "outputs": [],
   "source": [
    "df['count']=1\n",
    "df['cited']=df['citation'].apply(lambda x: 1 if x>0 else 0)\n",
    "df['un-cited']=df['citation'].apply(lambda x: 0 if x>0 else 1)"
   ]
  },
  {
   "cell_type": "code",
   "execution_count": 14,
   "metadata": {
    "collapsed": false
   },
   "outputs": [
    {
     "data": {
      "text/plain": [
       "(9191193, 15)"
      ]
     },
     "execution_count": 14,
     "metadata": {},
     "output_type": "execute_result"
    }
   ],
   "source": [
    "df=df[(~df.issnp.isnull()) | (~df.issne.isnull())]\n",
    "df.shape"
   ]
  },
  {
   "cell_type": "code",
   "execution_count": 15,
   "metadata": {
    "collapsed": false
   },
   "outputs": [],
   "source": [
    "#df=df[['doi','year','mm','citation','issnp','issne']].fillna('_')\n",
    "df=df.fillna('_')\n",
    "df['issn']=df.issnp+','+df.issne\n",
    "df['issn']=df.issn.str.replace(',_','')\n",
    "df['issn']=df.issn.str.replace('_,','')"
   ]
  },
  {
   "cell_type": "code",
   "execution_count": 16,
   "metadata": {
    "collapsed": false
   },
   "outputs": [],
   "source": [
    "df['issn']=df.issn.apply(lambda x:x[0:9] if x[10:19]==x[0:9] else x)"
   ]
  },
  {
   "cell_type": "code",
   "execution_count": 17,
   "metadata": {
    "collapsed": false
   },
   "outputs": [],
   "source": [
    "s=df.issn.str.split(',',expand=True).stack()"
   ]
  },
  {
   "cell_type": "code",
   "execution_count": 18,
   "metadata": {
    "collapsed": true
   },
   "outputs": [],
   "source": [
    "i = s.index.get_level_values(0)"
   ]
  },
  {
   "cell_type": "code",
   "execution_count": 19,
   "metadata": {
    "collapsed": true
   },
   "outputs": [],
   "source": [
    "df2 = df.loc[i].copy()"
   ]
  },
  {
   "cell_type": "code",
   "execution_count": 20,
   "metadata": {
    "collapsed": false
   },
   "outputs": [],
   "source": [
    "df2[\"@id\"] = s.values"
   ]
  },
  {
   "cell_type": "code",
   "execution_count": 24,
   "metadata": {
    "collapsed": false
   },
   "outputs": [],
   "source": [
    "import json\n",
    "\n",
    "with open('journals.json') as data_file:    \n",
    "    id_subject_dic = json.load(data_file)"
   ]
  },
  {
   "cell_type": "code",
   "execution_count": 25,
   "metadata": {
    "collapsed": false
   },
   "outputs": [],
   "source": [
    "df2['subjects']=df2['@id'].apply(lambda x: ';'.join(id_subject_dic[x]['e:subjects']) if x in id_subject_dic else '')"
   ]
  },
  {
   "cell_type": "code",
   "execution_count": 88,
   "metadata": {
    "collapsed": false
   },
   "outputs": [],
   "source": [
    "unique_subjects=[]\n",
    "all_subjects=df2['subjects'].values\n",
    "for journal_subjects in all_subjects:\n",
    "    subjects=journal_subjects.split(';')\n",
    "    for subject in subjects:\n",
    "        if subject not in unique_subjects: unique_subjects.append(subject)"
   ]
  },
  {
   "cell_type": "code",
   "execution_count": 89,
   "metadata": {
    "collapsed": false
   },
   "outputs": [
    {
     "data": {
      "text/plain": [
       "329"
      ]
     },
     "execution_count": 89,
     "metadata": {},
     "output_type": "execute_result"
    }
   ],
   "source": [
    "len(unique_subjects)"
   ]
  },
  {
   "cell_type": "code",
   "execution_count": 100,
   "metadata": {
    "collapsed": false
   },
   "outputs": [
    {
     "name": "stdout",
     "output_type": "stream",
     "text": [
      "Mechanical Engineering\n"
     ]
    }
   ],
   "source": [
    "for subject in unique_subjects:\n",
    "    print subject\n",
    "    df_subject=df2[df2.subjects.apply(lambda x: subject in x.split(';'))].sort_values('citation', ascending= False)[:20]\n",
    "    top_dois=df_subject[['doi','@id','citation']].to_dict('list')\n",
    "    zips=zip(top_dois['doi'],top_dois['@id'],top_dois['citation'])\n",
    "    items=[];\n",
    "    for doi,issn,citation in zips:\n",
    "        item={}; item_cleaned={}\n",
    "        url='http://api.crossref.org/works/'+doi\n",
    "        response = urllib.urlopen(url).read()    \n",
    "        json_result=json.loads(response)\n",
    "        item = json_result['message']\n",
    "        author='0';year_print=[9999,99,99];year_online=[9999,99,99];\n",
    "        if 'title' in item:\n",
    "            title=item['title'][0]\n",
    "        if 'published-print' in item:\n",
    "            year_print=item['published-print']['date-parts'][0]                \n",
    "        if 'published-online' in item:\n",
    "            year_online=item['published-online']['date-parts'][0]\n",
    "        year=min(year_print,year_online)\n",
    "        if 'DOI' in item: doi=item['DOI']\n",
    "        if 'container-title' in item: journal=','.join(item['container-title'])\n",
    "        if 'publisher' in item: pub=item['publisher']; pub=''if pub==None else pub\n",
    "        if 'references-count' in item: ref=str(item['references-count'])\n",
    "        if 'author' in item: authors=item['author']\n",
    "        if len(year)>1 :\n",
    "            month=str(year[1]) \n",
    "        else: month=''\n",
    "        item_cleaned={'doi':doi,\n",
    "                      'title':title,\n",
    "                      'year':str(year[0])+'-'+month,\n",
    "                      'cite':str(citation),\n",
    "                      'issn':issn, \n",
    "                      'journal':journal,\n",
    "                      'pub':pub,\n",
    "                      'authors':authors}\n",
    "        items.append(item_cleaned)  \n",
    "    with open('sjdb/top_'+subject+'.json', 'w') as fp:\n",
    "        json.dump(items, fp)    "
   ]
  },
  {
   "cell_type": "code",
   "execution_count": 144,
   "metadata": {
    "collapsed": false
   },
   "outputs": [],
   "source": [
    "for subject in unique_subjects:\n",
    "    df_lic=df2[df2.subjects.apply(lambda x: subject in x.split(';'))]\n",
    "    top_lics=df_lic[['lic','count']].groupby('lic').count().sort_values('count',ascending=False).head().reset_index().to_dict('list')\n"
   ]
  },
  {
   "cell_type": "code",
   "execution_count": 147,
   "metadata": {
    "collapsed": false
   },
   "outputs": [
    {
     "data": {
      "text/plain": [
       "{'count': [377237, 207442, 108713, 74443, 56595],\n",
       " 'lic': ['_',\n",
       "  'www.elsevier.com',\n",
       "  'creativecommons.org',\n",
       "  'doi.wiley.com',\n",
       "  'www.springer.com']}"
      ]
     },
     "execution_count": 147,
     "metadata": {},
     "output_type": "execute_result"
    }
   ],
   "source": [
    "top_lics"
   ]
  },
  {
   "cell_type": "code",
   "execution_count": 151,
   "metadata": {
    "collapsed": false
   },
   "outputs": [],
   "source": [
    "    zips=zip(top_lics['lic'],top_lics['count'])\n",
    "    items=[];\n",
    "    for lic,count in zips:\n",
    "        item={}; item_cleaned={}\n",
    "        item_cleaned={'lic':lic,\n",
    "                      'count':str(count)}\n",
    "        items.append(item_cleaned)  \n",
    "    with open('sjdb/lic_'+subject+'.json', 'w') as fp:\n",
    "        json.dump(items, fp)    "
   ]
  },
  {
   "cell_type": "code",
   "execution_count": 153,
   "metadata": {
    "collapsed": false
   },
   "outputs": [
    {
     "data": {
      "text/plain": [
       "[{'count': '377237', 'lic': '_'},\n",
       " {'count': '207442', 'lic': 'www.elsevier.com'},\n",
       " {'count': '108713', 'lic': 'creativecommons.org'},\n",
       " {'count': '74443', 'lic': 'doi.wiley.com'},\n",
       " {'count': '56595', 'lic': 'www.springer.com'}]"
      ]
     },
     "execution_count": 153,
     "metadata": {},
     "output_type": "execute_result"
    }
   ],
   "source": [
    "items"
   ]
  },
  {
   "cell_type": "code",
   "execution_count": null,
   "metadata": {
    "collapsed": true
   },
   "outputs": [],
   "source": []
  }
 ],
 "metadata": {
  "anaconda-cloud": {},
  "kernelspec": {
   "display_name": "Python [Root]",
   "language": "python",
   "name": "Python [Root]"
  },
  "language_info": {
   "codemirror_mode": {
    "name": "ipython",
    "version": 2
   },
   "file_extension": ".py",
   "mimetype": "text/x-python",
   "name": "python",
   "nbconvert_exporter": "python",
   "pygments_lexer": "ipython2",
   "version": "2.7.12"
  }
 },
 "nbformat": 4,
 "nbformat_minor": 0
}
