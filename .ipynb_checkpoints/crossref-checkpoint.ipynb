{
 "cells": [
  {
   "cell_type": "code",
   "execution_count": 1,
   "metadata": {
    "collapsed": false
   },
   "outputs": [],
   "source": [
    "import os, io, json, urllib, numpy as np, codecs, os.path\n",
    "def h_(cited):\n",
    "    h=0\n",
    "    cited.sort(reverse=True)\n",
    "    for i in range(1,len(cited)+1):\n",
    "        if cited[i-1] >= i:\n",
    "            h=i\n",
    "    return h"
   ]
  },
  {
   "cell_type": "code",
   "execution_count": 2,
   "metadata": {
    "collapsed": false
   },
   "outputs": [],
   "source": [
    "def get_citation(issn,out):\n",
    "    global item, all_items, url, url_next\n",
    "    item={}; all_items=[];\n",
    "    url='http://api.crossref.org/journals/'+issn+'/works?rows=1000&cursor=*'\n",
    "    response = urllib.urlopen(url).read()\n",
    "    if response=='Resource not found.':\n",
    "        return\n",
    "    json_result=json.loads(response)\n",
    "    publications_total = json_result['message']['total-results']\n",
    "    #from_year='2012';until_year='2016'\n",
    "    #url='http://api.crossref.org/journals/'+issn+'/works?filter=from-pub-date:'+from_year+'-01-01,until-pub-date:'+until_year+'-12-31&rows=1000&cursor=*'    \n",
    "    #response = urllib.urlopen(url).read()    \n",
    "    #json_result=json.loads(response)\n",
    "    #publications_year = json_result['message']['total-results']\n",
    "    all_items = json_result['message']['items']\n",
    "    if publications_total>1000:\n",
    "        while True:\n",
    "            next_cursor=json_result['message']['next-cursor']\n",
    "            url_next=url[:-1]+next_cursor\n",
    "            response = urllib.urlopen(url_next).read()\n",
    "            json_result=json.loads(response)\n",
    "            items = json_result['message']['items']\n",
    "            all_items = all_items + items\n",
    "            if len(items)==0:\n",
    "                break\n",
    "    if len(all_items)>0:\n",
    "        f=codecs.open(out+'/'+issn+'.txt','a','utf-8')\n",
    "        for item in all_items:\n",
    "            year_print=9999;year_online=9999;\n",
    "            if 'published-print' in item:\n",
    "                year_print=item['published-print']['date-parts'][0][0]\n",
    "            if 'published-online' in item:\n",
    "                year_online=item['published-online']['date-parts'][0][0]\n",
    "            year=str(min(year_print,year_online))\n",
    "            doi=item['DOI']\n",
    "            issn=','.join(item['ISSN'])\n",
    "            journal=','.join(item['container-title'])\n",
    "            pub=item['publisher']; pub=''if pub==None else pub\n",
    "            typ=item['type']\n",
    "            cite=str(item['is-referenced-by-count'])\n",
    "            res= year+'\\t'+doi+'\\t'+issn+'\\t'+journal+'\\t'+pub+'\\t'+typ+'\\t'+cite+'\\n'\n",
    "            f.write(res)    \n",
    "        f.close()"
   ]
  },
  {
   "cell_type": "code",
   "execution_count": 3,
   "metadata": {
    "collapsed": false
   },
   "outputs": [
    {
     "data": {
      "text/plain": [
       "68758"
      ]
     },
     "execution_count": 3,
     "metadata": {},
     "output_type": "execute_result"
    }
   ],
   "source": [
    "with open('queryResults.csv') as f:\n",
    "    lines = f.readlines()\n",
    "lines.remove(lines[0])\n",
    "len(lines)"
   ]
  },
  {
   "cell_type": "code",
   "execution_count": 4,
   "metadata": {
    "collapsed": false,
    "scrolled": true
   },
   "outputs": [
    {
     "name": "stdout",
     "output_type": "stream",
     "text": [
      "0 10 20 30 40 50 60 70 80 90 100 110 120 130 140 150 160 170 180 190 200 210 220 230 240 250 260 270 280 290 300 310 320 330 340 350 360 370 380 390 400 410 420 430 440 450 460 470 480 490 500 510 520 530 540 550 560 570 580 590 600 610 620 630 640 650 660 670 680 690 700 710 720 730 740 750 760 770 780 790 800 810 820 830 840 850 860 870 880 890 900 910 920 930 940 950 960 970 980 990 1000 1010 1020 1030 1040 1050 1060 1070 1080 1090 1100 1110 1120 1130 1140 1150 1160 1170 1180 1190 1200 1210 1220 1230 1240 1250 1260 1270 1280 1290 1300 1310 1320 1330 1340 1350 1360 1370 1380 1390 1400 1410 1420 1430 1440 1450 1460 1470 1480 1490 1500 1510 1520 1530 1540 1550 1560 1570 1580 1590 1600 1610 1620 1630 1640 1650 1660 1670 1680 1690 1700 1710 1720 1730 1740 1750 1760 1770 1780 1790 1800 1810 1820 1830 1840 1850 1860 1870 1880 1890 1900 1910 1920 1930 1940 1950 1960 1970 1980 1990 2000 2010 2020 2030 2040"
     ]
    },
    {
     "ename": "KeyError",
     "evalue": "'items'",
     "output_type": "error",
     "traceback": [
      "\u001b[1;31m\u001b[0m",
      "\u001b[1;31mKeyError\u001b[0mTraceback (most recent call last)",
      "\u001b[1;32m<ipython-input-4-6b6f1d5cd69a>\u001b[0m in \u001b[0;36m<module>\u001b[1;34m()\u001b[0m\n\u001b[0;32m      7\u001b[0m     \u001b[1;32mif\u001b[0m \u001b[0mi\u001b[0m \u001b[1;33m%\u001b[0m \u001b[1;36m10\u001b[0m \u001b[1;33m==\u001b[0m \u001b[1;36m0\u001b[0m \u001b[1;33m:\u001b[0m \u001b[1;32mprint\u001b[0m \u001b[0mi\u001b[0m\u001b[1;33m,\u001b[0m\u001b[1;33m\u001b[0m\u001b[0m\n\u001b[0;32m      8\u001b[0m     \u001b[0mfname\u001b[0m\u001b[1;33m=\u001b[0m\u001b[0mout\u001b[0m\u001b[1;33m+\u001b[0m\u001b[1;34m'/'\u001b[0m\u001b[1;33m+\u001b[0m\u001b[0missn\u001b[0m\u001b[1;33m+\u001b[0m\u001b[1;34m'.txt'\u001b[0m\u001b[1;33m\u001b[0m\u001b[0m\n\u001b[1;32m----> 9\u001b[1;33m     \u001b[0mget_citation\u001b[0m\u001b[1;33m(\u001b[0m\u001b[0missn\u001b[0m\u001b[1;33m,\u001b[0m\u001b[0mout\u001b[0m\u001b[1;33m)\u001b[0m\u001b[1;33m\u001b[0m\u001b[0m\n\u001b[0m\u001b[0;32m     10\u001b[0m     \u001b[0mlines\u001b[0m\u001b[1;33m.\u001b[0m\u001b[0mremove\u001b[0m\u001b[1;33m(\u001b[0m\u001b[0mline\u001b[0m\u001b[1;33m)\u001b[0m\u001b[1;33m\u001b[0m\u001b[0m\n\u001b[0;32m     11\u001b[0m     \u001b[0mi\u001b[0m\u001b[1;33m=\u001b[0m\u001b[0mi\u001b[0m\u001b[1;33m+\u001b[0m\u001b[1;36m1\u001b[0m\u001b[1;33m\u001b[0m\u001b[0m\n",
      "\u001b[1;32m<ipython-input-2-e41fe9c17c0f>\u001b[0m in \u001b[0;36mget_citation\u001b[1;34m(issn, out)\u001b[0m\n\u001b[0;32m     20\u001b[0m             \u001b[0mresponse\u001b[0m \u001b[1;33m=\u001b[0m \u001b[0murllib\u001b[0m\u001b[1;33m.\u001b[0m\u001b[0murlopen\u001b[0m\u001b[1;33m(\u001b[0m\u001b[0murl_next\u001b[0m\u001b[1;33m)\u001b[0m\u001b[1;33m.\u001b[0m\u001b[0mread\u001b[0m\u001b[1;33m(\u001b[0m\u001b[1;33m)\u001b[0m\u001b[1;33m\u001b[0m\u001b[0m\n\u001b[0;32m     21\u001b[0m             \u001b[0mjson_result\u001b[0m\u001b[1;33m=\u001b[0m\u001b[0mjson\u001b[0m\u001b[1;33m.\u001b[0m\u001b[0mloads\u001b[0m\u001b[1;33m(\u001b[0m\u001b[0mresponse\u001b[0m\u001b[1;33m)\u001b[0m\u001b[1;33m\u001b[0m\u001b[0m\n\u001b[1;32m---> 22\u001b[1;33m             \u001b[0mitems\u001b[0m \u001b[1;33m=\u001b[0m \u001b[0mjson_result\u001b[0m\u001b[1;33m[\u001b[0m\u001b[1;34m'message'\u001b[0m\u001b[1;33m]\u001b[0m\u001b[1;33m[\u001b[0m\u001b[1;34m'items'\u001b[0m\u001b[1;33m]\u001b[0m\u001b[1;33m\u001b[0m\u001b[0m\n\u001b[0m\u001b[0;32m     23\u001b[0m             \u001b[0myear_items\u001b[0m \u001b[1;33m=\u001b[0m \u001b[0myear_items\u001b[0m \u001b[1;33m+\u001b[0m \u001b[0mitems\u001b[0m\u001b[1;33m\u001b[0m\u001b[0m\n\u001b[0;32m     24\u001b[0m             \u001b[1;32mif\u001b[0m \u001b[0mlen\u001b[0m\u001b[1;33m(\u001b[0m\u001b[0mitems\u001b[0m\u001b[1;33m)\u001b[0m\u001b[1;33m==\u001b[0m\u001b[1;36m0\u001b[0m\u001b[1;33m:\u001b[0m\u001b[1;33m\u001b[0m\u001b[0m\n",
      "\u001b[1;31mKeyError\u001b[0m: 'items'"
     ]
    }
   ],
   "source": [
    "out='journals'\n",
    "i=0\n",
    "item={}\n",
    "all_items=[]\n",
    "for line in lines:\n",
    "    issn=line[2:11]\n",
    "    if i % 10 == 0 : print i,\n",
    "    fname=out+'/'+issn+'.txt'\n",
    "    get_citation(issn,out)\n",
    "    lines.remove(line)\n",
    "    i=i+1"
   ]
  },
  {
   "cell_type": "code",
   "execution_count": null,
   "metadata": {
    "collapsed": false
   },
   "outputs": [],
   "source": [
    "url"
   ]
  },
  {
   "cell_type": "code",
   "execution_count": null,
   "metadata": {
    "collapsed": false
   },
   "outputs": [],
   "source": [
    "url_next"
   ]
  },
  {
   "cell_type": "code",
   "execution_count": null,
   "metadata": {
    "collapsed": false
   },
   "outputs": [],
   "source": [
    "i"
   ]
  },
  {
   "cell_type": "code",
   "execution_count": 90,
   "metadata": {
    "collapsed": false,
    "scrolled": true
   },
   "outputs": [
    {
     "data": {
      "text/plain": [
       "2011"
      ]
     },
     "execution_count": 90,
     "metadata": {},
     "output_type": "execute_result"
    }
   ],
   "source": [
    "item['published-online']['date-parts'][0][0]"
   ]
  },
  {
   "cell_type": "code",
   "execution_count": 89,
   "metadata": {
    "collapsed": false
   },
   "outputs": [
    {
     "data": {
      "text/plain": [
       "{u'DOI': u'10.4172/2155-9546.1000116',\n",
       " u'ISSN': [u'2155-9546'],\n",
       " u'URL': u'http://dx.doi.org/10.4172/2155-9546.1000116',\n",
       " u'author': [{u'affiliation': [],\n",
       "   u'family': u'Joseph Rasowo',\n",
       "   u'given': u'Grace A Ssanyu'}],\n",
       " u'container-title': [u'Journal of Aquaculture Research & Development'],\n",
       " u'content-domain': {u'crossmark-restriction': False, u'domain': []},\n",
       " u'created': {u'date-parts': [[2011, 12, 29]],\n",
       "  u'date-time': u'2011-12-29T05:54:24Z',\n",
       "  u'timestamp': 1325138064000L},\n",
       " u'deposited': {u'date-parts': [[2017, 4, 13]],\n",
       "  u'date-time': u'2017-04-13T17:59:50Z',\n",
       "  u'timestamp': 1492106390000L},\n",
       " u'indexed': {u'date-parts': [[2017, 5, 27]],\n",
       "  u'date-time': u'2017-05-27T04:20:11Z',\n",
       "  u'timestamp': 1495858811965L},\n",
       " u'is-referenced-by-count': 0,\n",
       " u'issn-type': [{u'type': u'electronic', u'value': u'2155-9546'}],\n",
       " u'issue': u'04',\n",
       " u'issued': {u'date-parts': [[2011]]},\n",
       " u'member': u'2674',\n",
       " u'original-title': [],\n",
       " u'prefix': u'10.4172',\n",
       " u'published-online': {u'date-parts': [[2011]]},\n",
       " u'publisher': u'OMICS Publishing Group',\n",
       " u'reference-count': 0,\n",
       " u'references-count': 0,\n",
       " u'relation': {},\n",
       " u'score': 1.0,\n",
       " u'short-container-title': [u'J Aquac Res Development'],\n",
       " u'short-title': [],\n",
       " u'source': u'Crossref',\n",
       " u'subtitle': [],\n",
       " u'title': [u'Evaluation of Plankton Community Structure in Fish Refugia Acting as Oreochromic niloticus Propagation and Nursery Units for Rice/Fish Trials, Uganda'],\n",
       " u'type': u'journal-article',\n",
       " u'volume': u'02'}"
      ]
     },
     "execution_count": 89,
     "metadata": {},
     "output_type": "execute_result"
    },
    {
     "name": "stdout",
     "output_type": "stream",
     "text": [
      "\n"
     ]
    }
   ],
   "source": [
    "item"
   ]
  },
  {
   "cell_type": "code",
   "execution_count": null,
   "metadata": {
    "collapsed": true
   },
   "outputs": [],
   "source": []
  }
 ],
 "metadata": {
  "anaconda-cloud": {},
  "kernelspec": {
   "display_name": "Python [Root]",
   "language": "python",
   "name": "Python [Root]"
  },
  "language_info": {
   "codemirror_mode": {
    "name": "ipython",
    "version": 2
   },
   "file_extension": ".py",
   "mimetype": "text/x-python",
   "name": "python",
   "nbconvert_exporter": "python",
   "pygments_lexer": "ipython2",
   "version": "2.7.12"
  }
 },
 "nbformat": 4,
 "nbformat_minor": 0
}
