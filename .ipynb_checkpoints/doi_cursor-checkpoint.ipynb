{
 "cells": [
  {
   "cell_type": "code",
   "execution_count": 2,
   "metadata": {
    "collapsed": false
   },
   "outputs": [],
   "source": [
    "import os, io, json, urllib, numpy as np, codecs, os.path,time"
   ]
  },
  {
   "cell_type": "code",
   "execution_count": 3,
   "metadata": {
    "collapsed": false
   },
   "outputs": [],
   "source": [
    "def get_data(cursor,i,year):\n",
    "    global item, all_items, url\n",
    "    item={}; items=[];\n",
    "    p={ 'filter':'from-pub-date:'+year+',until-pub-date:'+year , 'rows' : '1000', 'cursor' :cursor}\n",
    "    parameters=urllib.urlencode(p)\n",
    "    url='http://api.crossref.org/types/journal-article/works?'+parameters\n",
    "    response = urllib.urlopen(url).read()\n",
    "    #if response=='Resource not found.': return\n",
    "    json_result=json.loads(response)\n",
    "    items = json_result['message']['items']\n",
    "    if len(items)>0:\n",
    "        f=codecs.open(year+'/'+str(i)+'.txt','a','utf-8')\n",
    "        for item in items:\n",
    "            year_print=9999;year_online=9999;\n",
    "            if 'published-print' in item:\n",
    "                year_print=item['published-print']['date-parts'][0][0]\n",
    "            if 'published-online' in item:\n",
    "                year_online=item['published-online']['date-parts'][0][0]\n",
    "            year=str(min(year_print,year_online))\n",
    "            doi=issn=journal=pub=cite=ref=''\n",
    "            author='0'\n",
    "            if 'DOI' in item: doi=item['DOI']\n",
    "            if 'ISSN' in item: issn=','.join(item['ISSN'])\n",
    "            if 'container-title' in item: journal=','.join(item['container-title'])\n",
    "            if 'publisher' in item: pub=item['publisher']; pub=''if pub==None else pub\n",
    "            if 'is-referenced-by-count' in item: cite=str(item['is-referenced-by-count'])\n",
    "            if 'references-count' in item: ref=str(item['references-count'])\n",
    "            if 'author' in item: author='1'\n",
    "            res= doi+'\\t'+year+'\\t'+ref+'\\t'+cite+'\\t'+issn+'\\t'+journal+'\\t'+pub+'\\t'+author+'\\n'\n",
    "            f.write(res)    \n",
    "        f.close()\n",
    "    next_cursor=json_result['message']['next-cursor']\n",
    "    return next_cursor"
   ]
  },
  {
   "cell_type": "code",
   "execution_count": 4,
   "metadata": {
    "collapsed": false,
    "scrolled": true
   },
   "outputs": [],
   "source": [
    "year='2015'\n",
    "cursor='*'\n",
    "next_cursor=''\n",
    "item={}\n",
    "all_items=[]\n",
    "start=0\n",
    "f=open(year+'.txt','a')\n",
    "i=0\n",
    "while next_cursor!=cursor:\n",
    "    while True:\n",
    "        try:\n",
    "            next_cursor=get_data(cursor,i,year)\n",
    "        except:\n",
    "            time.sleep(100)\n",
    "            continue\n",
    "        break\n",
    "    cursor=next_cursor\n",
    "    i=i+1\n",
    "    if i%10==0:print i,"
   ]
  },
  {
   "cell_type": "code",
   "execution_count": 5,
   "metadata": {
    "collapsed": false
   },
   "outputs": [
    {
     "data": {
      "text/plain": [
       "'http://api.crossref.org/types/journal-article/works?filter=from-pub-date%3A2015%2Cuntil-pub-date%3A2015&cursor=%2A&rows=1000'"
      ]
     },
     "execution_count": 5,
     "metadata": {},
     "output_type": "execute_result"
    }
   ],
   "source": [
    "url"
   ]
  },
  {
   "cell_type": "code",
   "execution_count": 6,
   "metadata": {
    "collapsed": false
   },
   "outputs": [
    {
     "data": {
      "text/plain": [
       "u'AoE/Cmh0dHA6Ly9keC5kb2kub3JnLzEwLjEwMDEvamFtYS4yMDE1LjE3MjIy'"
      ]
     },
     "execution_count": 6,
     "metadata": {},
     "output_type": "execute_result"
    }
   ],
   "source": [
    "cursor"
   ]
  }
 ],
 "metadata": {
  "anaconda-cloud": {},
  "kernelspec": {
   "display_name": "Python [Root]",
   "language": "python",
   "name": "Python [Root]"
  },
  "language_info": {
   "codemirror_mode": {
    "name": "ipython",
    "version": 2
   },
   "file_extension": ".py",
   "mimetype": "text/x-python",
   "name": "python",
   "nbconvert_exporter": "python",
   "pygments_lexer": "ipython2",
   "version": "2.7.12"
  }
 },
 "nbformat": 4,
 "nbformat_minor": 0
}
