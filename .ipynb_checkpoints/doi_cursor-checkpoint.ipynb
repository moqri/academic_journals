{
 "cells": [
  {
   "cell_type": "code",
   "execution_count": 1,
   "metadata": {
    "collapsed": false
   },
   "outputs": [],
   "source": [
    "import os, io, json, urllib, numpy as np, codecs, os.path,time"
   ]
  },
  {
   "cell_type": "code",
   "execution_count": null,
   "metadata": {
    "collapsed": false
   },
   "outputs": [],
   "source": [
    "def get_data(cursor,i,year,year2):\n",
    "    global item, all_items, url\n",
    "    item={}; items=[];\n",
    "    p={ 'filter':'from-pub-date:'+year+',until-pub-date:'+year2 , 'rows' : '1000', 'cursor' :cursor}\n",
    "    parameters=urllib.urlencode(p)\n",
    "    url='http://api.crossref.org/types/journal-article/works?'+parameters\n",
    "    response = urllib.urlopen(url).read()\n",
    "    #if response=='Resource not found.': return\n",
    "    json_result=json.loads(response)\n",
    "    items = json_result['message']['items']\n",
    "    if len(items)>0:\n",
    "        f=codecs.open('data/'+year+'/'+str(i)+'.txt','a','utf-8')\n",
    "        for item in items:\n",
    "            year_print=9999;year_online=9999;\n",
    "            if 'published-print' in item:\n",
    "                year_print=item['published-print']['date-parts'][0][0]\n",
    "            if 'published-online' in item:\n",
    "                year_online=item['published-online']['date-parts'][0][0]\n",
    "            year=str(min(year_print,year_online))\n",
    "            doi=issn=journal=pub=cite=ref=''\n",
    "            author='0'\n",
    "            if 'DOI' in item: doi=item['DOI']\n",
    "            issnp=issne=''\n",
    "            if 'issn-type' in item: \n",
    "                for i in item['issn-type']:\n",
    "                    if i['type']=='print': \n",
    "                        issnp=i['value']\n",
    "                    elif i['type']=='electronic':\n",
    "                        issne=i['value']\n",
    "            if 'container-title' in item: journal=','.join(item['container-title'])\n",
    "            if 'publisher' in item: pub=item['publisher']; pub=''if pub==None else pub\n",
    "            if 'is-referenced-by-count' in item: cite=str(item['is-referenced-by-count'])\n",
    "            if 'references-count' in item: ref=str(item['references-count'])\n",
    "            if 'author' in item: author='1'\n",
    "            res= doi+'\\t'+year+'\\t'+ref+'\\t'+cite+'\\t'+issnp+'\\t'+issne+'\\t'+journal+'\\t'+pub+'\\t'+author+'\\n'\n",
    "            f.write(res)    \n",
    "        f.close()\n",
    "    next_cursor=json_result['message']['next-cursor']\n",
    "    return next_cursor"
   ]
  },
  {
   "cell_type": "code",
   "execution_count": null,
   "metadata": {
    "collapsed": false,
    "scrolled": false
   },
   "outputs": [],
   "source": [
    "year='2013'\n",
    "year2='2014'\n",
    "cursor=''\n",
    "next_cursor='*'\n",
    "item={}\n",
    "all_items=[]\n",
    "f=open('log/'+year+'.txt','a')\n",
    "i=0\n",
    "while next_cursor!=cursor:\n",
    "    cursor=next_cursor\n",
    "    f.write(str(i)+' , '+cursor+'\\n')\n",
    "    while True:\n",
    "        try:\n",
    "            next_cursor=get_data(cursor,i,year,year2)\n",
    "        except Exception,e: \n",
    "            print str(e)\n",
    "            time.sleep(100)\n",
    "            continue\n",
    "        break\n",
    "    i=i+1\n",
    "    if i%10==0:print i,"
   ]
  },
  {
   "cell_type": "code",
   "execution_count": null,
   "metadata": {
    "collapsed": false
   },
   "outputs": [],
   "source": [
    "url"
   ]
  },
  {
   "cell_type": "code",
   "execution_count": null,
   "metadata": {
    "collapsed": false
   },
   "outputs": [],
   "source": [
    "cursor"
   ]
  }
 ],
 "metadata": {
  "anaconda-cloud": {},
  "kernelspec": {
   "display_name": "Python [Root]",
   "language": "python",
   "name": "Python [Root]"
  },
  "language_info": {
   "codemirror_mode": {
    "name": "ipython",
    "version": 2
   },
   "file_extension": ".py",
   "mimetype": "text/x-python",
   "name": "python",
   "nbconvert_exporter": "python",
   "pygments_lexer": "ipython2",
   "version": "2.7.12"
  }
 },
 "nbformat": 4,
 "nbformat_minor": 0
}
