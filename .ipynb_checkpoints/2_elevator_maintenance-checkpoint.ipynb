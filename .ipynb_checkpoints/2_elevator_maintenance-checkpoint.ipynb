{
 "cells": [
  {
   "cell_type": "code",
   "execution_count": 158,
   "metadata": {
    "collapsed": false
   },
   "outputs": [],
   "source": [
    "def if_min(a,b):\n",
    "    ans=1\n",
    "    al=[int(i) for i in a.split('.')];bl=[int(i) for i in b.split('.')]\n",
    "    if len(al)==1:\n",
    "        al.append(0)\n",
    "        al.append(0)\n",
    "    elif len(al)==2:\n",
    "        al.append(0)    \n",
    "    if len(bl)==1:\n",
    "        bl.append(0)\n",
    "        bl.append(0)\n",
    "    elif len(bl)==2:\n",
    "        bl.append(0)\n",
    "    \n",
    "    if al[0]<bl[0] or (al[0]==bl[0] and al[1]<bl[1]) or (al[0]==bl[0] and al[1]==bl[1] and al[2]<bl[2]):\n",
    "        ans=0\n",
    "    if al==bl:\n",
    "        if len(a)<=len(b):\n",
    "            ans=0\n",
    "    return ans\n",
    "def answer(l):\n",
    "    ln=len(l)\n",
    "    sorted_l=[]\n",
    "    for i in range(ln):\n",
    "        for i in l:\n",
    "            mult=0\n",
    "            for j in l:\n",
    "                if i!=j: mult=mult+if_min(i,j)\n",
    "                #if mult>0: break\n",
    "            if mult == 0:\n",
    "                sorted_l.append(i)\n",
    "                l.remove(i)\n",
    "                break\n",
    "        #print sorted_l\n",
    "    return sorted_l"
   ]
  }
 ],
 "metadata": {
  "anaconda-cloud": {},
  "kernelspec": {
   "display_name": "Python [Root]",
   "language": "python",
   "name": "Python [Root]"
  },
  "language_info": {
   "codemirror_mode": {
    "name": "ipython",
    "version": 2
   },
   "file_extension": ".py",
   "mimetype": "text/x-python",
   "name": "python",
   "nbconvert_exporter": "python",
   "pygments_lexer": "ipython2",
   "version": "2.7.12"
  }
 },
 "nbformat": 4,
 "nbformat_minor": 0
}
