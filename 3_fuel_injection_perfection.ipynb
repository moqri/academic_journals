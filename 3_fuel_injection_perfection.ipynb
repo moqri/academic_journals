{
 "cells": [
  {
   "cell_type": "code",
   "execution_count": 1,
   "metadata": {
    "collapsed": false
   },
   "outputs": [],
   "source": [
    "t={}\n",
    "def answer(n):\n",
    "    global t\n",
    "    n=int(n)\n",
    "    if n==1:\n",
    "        return 0\n",
    "    elif n%2==0:\n",
    "        if n in t:\n",
    "            ans=t[n]\n",
    "        else:\n",
    "            ans=1+answer(n/2)\n",
    "            t[n]=ans\n",
    "        return ans\n",
    "    else:\n",
    "        up=(n+1)/2\n",
    "        if up in t:\n",
    "            ansu=t[up]\n",
    "        else:\n",
    "            ansu=answer(up)\n",
    "        down=(n-1)/2\n",
    "        if down in t:\n",
    "            ansd=t[down]\n",
    "        else:\n",
    "            ansd=answer(down)\n",
    "        ans=2+min(ansu,ansd)\n",
    "        return ans"
   ]
  }
 ],
 "metadata": {
  "anaconda-cloud": {},
  "kernelspec": {
   "display_name": "Python [Root]",
   "language": "python",
   "name": "Python [Root]"
  },
  "language_info": {
   "codemirror_mode": {
    "name": "ipython",
    "version": 2
   },
   "file_extension": ".py",
   "mimetype": "text/x-python",
   "name": "python",
   "nbconvert_exporter": "python",
   "pygments_lexer": "ipython2",
   "version": "2.7.12"
  }
 },
 "nbformat": 4,
 "nbformat_minor": 0
}
