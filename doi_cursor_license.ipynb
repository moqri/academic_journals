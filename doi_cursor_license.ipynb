{
 "cells": [
  {
   "cell_type": "code",
   "execution_count": 1,
   "metadata": {
    "collapsed": false
   },
   "outputs": [],
   "source": [
    "import os, io, json, urllib, numpy as np, codecs, os.path,time"
   ]
  },
  {
   "cell_type": "code",
   "execution_count": null,
   "metadata": {
    "collapsed": false
   },
   "outputs": [],
   "source": [
    "def get_data(cursor,i,year):\n",
    "    global item, all_items, url\n",
    "    item={}; items=[]; \n",
    "    p={ 'filter':'from-pub-date:'+year+',until-pub-date:'+year , 'rows' : '1000', 'cursor' :cursor}\n",
    "    parameters=urllib.urlencode(p)\n",
    "    url='http://api.crossref.org/types/journal-article/works?'+parameters\n",
    "    response = urllib.urlopen(url).read()\n",
    "    #if response=='Resource not found.': return\n",
    "    json_result=json.loads(response)\n",
    "    items = json_result['message']['items']\n",
    "    if len(items)>0:\n",
    "        f=codecs.open('data/'+year+'/'+str(i)+'.txt','a','utf-8')\n",
    "        for item in items:\n",
    "            author='0';year_print=9999;year_online=9999; doi=issn=journal=pub=cite=ref=issnp=issne=lic=''\n",
    "            if 'published-print' in item:\n",
    "                year_print=item['published-print']['date-parts'][0][0]\n",
    "            if 'published-online' in item:\n",
    "                year_online=item['published-online']['date-parts'][0][0]\n",
    "            year=str(min(year_print,year_online))\n",
    "            if 'DOI' in item: doi=item['DOI']\n",
    "            if 'issn-type' in item: \n",
    "                for i in item['issn-type']:\n",
    "                    if i['type']=='print': \n",
    "                        issnp=i['value']\n",
    "                    elif i['type']=='electronic':\n",
    "                        issne=i['value']\n",
    "            if 'container-title' in item: journal=','.join(item['container-title'])\n",
    "            if 'publisher' in item: pub=item['publisher']; pub=''if pub==None else pub\n",
    "            if 'is-referenced-by-count' in item: cite=str(item['is-referenced-by-count'])\n",
    "            if 'references-count' in item: ref=str(item['references-count'])\n",
    "            if 'author' in item: author='1'\n",
    "            if 'license' in item: \n",
    "                lic=item['license'][0]['URL'].split('://')[1].split('/')[0]\n",
    "                #print lic\n",
    "            res= doi+'\\t'+year+'\\t'+ref+'\\t'+cite+'\\t'+issnp+'\\t'+issne+'\\t'+journal+'\\t'+pub+'\\t'+author+'\\t'+lic+'\\n'\n",
    "            f.write(res)    \n",
    "        f.close()\n",
    "    next_cursor=json_result['message']['next-cursor']\n",
    "    return next_cursor"
   ]
  },
  {
   "cell_type": "code",
   "execution_count": null,
   "metadata": {
    "collapsed": false,
    "scrolled": false
   },
   "outputs": [
    {
     "name": "stdout",
     "output_type": "stream",
     "text": [
      "10"
     ]
    }
   ],
   "source": [
    "for year in range(2015,2018):\n",
    "    year=str(year)\n",
    "    if not os.path.exists('data/'+year):\n",
    "        os.makedirs('data/'+year)    \n",
    "    cursor=''\n",
    "    next_cursor='*'\n",
    "    item={}\n",
    "    all_items=[]\n",
    "    f=open('log/'+year+'.txt','a')\n",
    "    i=0\n",
    "    while next_cursor!=cursor:\n",
    "        cursor=next_cursor\n",
    "        f.write(str(i)+' , '+cursor+'\\n')\n",
    "        while True:\n",
    "            try:\n",
    "                next_cursor=get_data(cursor,i,year)\n",
    "            except Exception,e: \n",
    "                print str(e)\n",
    "                time.sleep(1)\n",
    "                continue\n",
    "            break\n",
    "        i=i+1\n",
    "        if i%10==0:print i,"
   ]
  },
  {
   "cell_type": "code",
   "execution_count": null,
   "metadata": {
    "collapsed": false
   },
   "outputs": [],
   "source": [
    "url"
   ]
  },
  {
   "cell_type": "code",
   "execution_count": null,
   "metadata": {
    "collapsed": false
   },
   "outputs": [],
   "source": [
    "cursor"
   ]
  },
  {
   "cell_type": "code",
   "execution_count": null,
   "metadata": {
    "collapsed": true
   },
   "outputs": [],
   "source": []
  }
 ],
 "metadata": {
  "anaconda-cloud": {},
  "kernelspec": {
   "display_name": "Python [Root]",
   "language": "python",
   "name": "Python [Root]"
  },
  "language_info": {
   "codemirror_mode": {
    "name": "ipython",
    "version": 2
   },
   "file_extension": ".py",
   "mimetype": "text/x-python",
   "name": "python",
   "nbconvert_exporter": "python",
   "pygments_lexer": "ipython2",
   "version": "2.7.12"
  }
 },
 "nbformat": 4,
 "nbformat_minor": 0
}
