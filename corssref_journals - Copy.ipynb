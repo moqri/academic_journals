{
 "cells": [
  {
   "cell_type": "code",
   "execution_count": 36,
   "metadata": {
    "collapsed": true
   },
   "outputs": [],
   "source": [
    "import os, io, json, urllib, numpy as np, codecs\n",
    "import pandas as pd"
   ]
  },
  {
   "cell_type": "code",
   "execution_count": 30,
   "metadata": {
    "collapsed": true
   },
   "outputs": [],
   "source": [
    "base_url=\"https://api.crossref.org/journals?rows=1000&offset=\""
   ]
  },
  {
   "cell_type": "code",
   "execution_count": 35,
   "metadata": {
    "collapsed": false
   },
   "outputs": [
    {
     "name": "stdout",
     "output_type": "stream",
     "text": [
      "0 https://api.crossref.org/journals?rows=1000&offset=0\n"
     ]
    },
    {
     "ename": "KeyError",
     "evalue": "'items'",
     "output_type": "error",
     "traceback": [
      "\u001b[1;31m\u001b[0m",
      "\u001b[1;31mKeyError\u001b[0mTraceback (most recent call last)",
      "\u001b[1;32m<ipython-input-35-013b1067df99>\u001b[0m in \u001b[0;36m<module>\u001b[1;34m()\u001b[0m\n\u001b[0;32m      8\u001b[0m     \u001b[0mresponse\u001b[0m \u001b[1;33m=\u001b[0m \u001b[0murllib\u001b[0m\u001b[1;33m.\u001b[0m\u001b[0murlopen\u001b[0m\u001b[1;33m(\u001b[0m\u001b[0murl\u001b[0m\u001b[1;33m)\u001b[0m\u001b[1;33m.\u001b[0m\u001b[0mread\u001b[0m\u001b[1;33m(\u001b[0m\u001b[1;33m)\u001b[0m\u001b[1;33m\u001b[0m\u001b[0m\n\u001b[0;32m      9\u001b[0m     \u001b[0mjson_result\u001b[0m\u001b[1;33m=\u001b[0m\u001b[0mjson\u001b[0m\u001b[1;33m.\u001b[0m\u001b[0mloads\u001b[0m\u001b[1;33m(\u001b[0m\u001b[0mresponse\u001b[0m\u001b[1;33m)\u001b[0m\u001b[1;33m\u001b[0m\u001b[0m\n\u001b[1;32m---> 10\u001b[1;33m     \u001b[0mitems\u001b[0m\u001b[1;33m=\u001b[0m\u001b[0mjson_result\u001b[0m\u001b[1;33m[\u001b[0m\u001b[1;34m'message'\u001b[0m\u001b[1;33m]\u001b[0m\u001b[1;33m[\u001b[0m\u001b[1;34m'items'\u001b[0m\u001b[1;33m]\u001b[0m\u001b[1;33m\u001b[0m\u001b[0m\n\u001b[0m\u001b[0;32m     11\u001b[0m     \u001b[1;32mfor\u001b[0m \u001b[0mitem\u001b[0m \u001b[1;32min\u001b[0m \u001b[0mitems\u001b[0m\u001b[1;33m:\u001b[0m\u001b[1;33m\u001b[0m\u001b[0m\n\u001b[0;32m     12\u001b[0m         \u001b[1;32mif\u001b[0m \u001b[0mtitle\u001b[0m\u001b[1;33m!=\u001b[0m\u001b[1;34m''\u001b[0m \u001b[1;32mand\u001b[0m \u001b[0mlen\u001b[0m\u001b[1;33m(\u001b[0m\u001b[0missn\u001b[0m\u001b[1;33m)\u001b[0m\u001b[1;33m>\u001b[0m\u001b[1;36m0\u001b[0m\u001b[1;33m:\u001b[0m\u001b[1;33m\u001b[0m\u001b[0m\n",
      "\u001b[1;31mKeyError\u001b[0m: 'items'"
     ]
    }
   ],
   "source": [
    "f=codecs.open('journals.csv','w','utf-8')\n",
    "dic=[]\n",
    "for it in range(53): # change\n",
    "    print it,\n",
    "    offset = it * 1000\n",
    "    url=base_url+str(offset)\n",
    "    print url\n",
    "    response = urllib.urlopen(url).read()\n",
    "    json_result=json.loads(response)\n",
    "    items=json_result['message']['items']\n",
    "    for item in items:\n",
    "        if title!='' and len(issn)>0:            \n",
    "            journal={}\n",
    "            #journal['e:title']=item['title'].strip()\n",
    "            #journal['e:publisher']=item['publisher'] \n",
    "            #journal['e:issn']=item['ISSN']\n",
    "            journal['@id']=item['ISSN'][0]\n",
    "            journal['subject']=item['subject']\n",
    "            if journal not in dic:\n",
    "                dic.append(journal)"
   ]
  },
  {
   "cell_type": "code",
   "execution_count": 34,
   "metadata": {
    "collapsed": false
   },
   "outputs": [
    {
     "data": {
      "text/plain": [
       "'{\"status\":\"error\",\"message-type\":\"exception\",\"message-version\":\"1.0.0\",\"message\":{\"name\":\"class com.mongodb.MongoException\",\"description\":\"com.mongodb.MongoException: Can\\'t canonicalize query: BadValue $in needs an array\",\"message\":\"Can\\'t canonicalize query: BadValue $in needs an array\",\"stack\":[\"com.mongodb.MongoException.parse(MongoException.java:82)\",\"com.mongodb.DBApiLayer$MyCollection.__find(DBApiLayer.java:314)\",\"com.mongodb.DBApiLayer$MyCollection.__find(DBApiLayer.java:295)\",\"com.mongodb.DBCursor._check(DBCursor.java:368)\",\"com.mongodb.DBCursor._hasNext(DBCursor.java:459)\",\"com.mongodb.DBCursor.hasNext(DBCursor.java:484)\",\"clojure.lang.RT.chunkIteratorSeq(RT.java:503)\",\"clojure.lang.RT.seqFrom(RT.java:532)\",\"clojure.lang.RT.seq(RT.java:523)\",\"clojure.core$seq__4357.invokeStatic(core.clj:137)\",\"clojure.core$map$fn__4785.invoke(core.clj:2637)\",\"clojure.lang.LazySeq.sval(LazySeq.java:40)\",\"clojure.lang.LazySeq.seq(LazySeq.java:56)\",\"clojure.lang.RT.seq(RT.java:521)\",\"clojure.core$seq__4357.invokeStatic(core.clj:137)\",\"clojure.core$map$fn__4785.invoke(core.clj:2637)\",\"clojure.lang.LazySeq.sval(LazySeq.java:40)\",\"clojure.lang.LazySeq.seq(LazySeq.java:49)\",\"clojure.lang.LazySeq.equiv(LazySeq.java:100)\",\"clojure.lang.Util.pcequiv(Util.java:125)\",\"clojure.lang.Util.equiv(Util.java:32)\",\"clojure.data.json$write_object.invokeStatic(json.clj:317)\",\"clojure.data.json$write_object.invoke(json.clj:308)\",\"clojure.data.json$eval162$fn__163$G__153__170.invoke(json.clj:279)\",\"clojure.data.json$write_array.invokeStatic(json.clj:333)\",\"clojure.data.json$write_array.invoke(json.clj:327)\",\"clojure.data.json$eval162$fn__163$G__153__170.invoke(json.clj:279)\",\"clojure.data.json$write_object.invokeStatic(json.clj:320)\",\"clojure.data.json$write_object.invoke(json.clj:308)\",\"clojure.data.json$eval162$fn__163$G__153__170.invoke(json.clj:279)\",\"clojure.data.json$write_object.invokeStatic(json.clj:320)\",\"clojure.data.json$write_object.invoke(json.clj:308)\",\"clojure.data.json$eval162$fn__163$G__153__170.invoke(json.clj:279)\",\"clojure.data.json$write.invokeStatic(json.clj:423)\",\"clojure.data.json$write.doInvoke(json.clj:381)\",\"clojure.lang.RestFn.invoke(RestFn.java:425)\",\"clojure.lang.AFn.applyToHelper(AFn.java:156)\",\"clojure.lang.RestFn.applyTo(RestFn.java:132)\",\"clojure.core$apply.invokeStatic(core.clj:650)\",\"clojure.core$apply.invoke(core.clj:641)\",\"clojure.data.json$write_str.invokeStatic(json.clj:430)\",\"clojure.data.json$write_str.doInvoke(json.clj:425)\",\"clojure.lang.RestFn.invoke(RestFn.java:410)\",\"liberator.representation$eval20479$fn__20480.invoke(representation.clj:74)\",\"clojure.lang.MultiFn.invoke(MultiFn.java:233)\",\"liberator.representation$eval20620$fn__20621.invoke(representation.clj:210)\",\"liberator.representation$eval20370$fn__20371$G__20361__20378.invoke(representation.clj:23)\",\"liberator.core$run_handler.invokeStatic(core.clj:191)\",\"liberator.core$run_handler.invoke(core.clj:147)\",\"liberator.core$handle_ok.invokeStatic(core.clj:244)\",\"liberator.core$handle_ok.invoke(core.clj:244)\",\"liberator.core$decide.invokeStatic(core.clj:103)\",\"liberator.core$decide.invoke(core.clj:91)\",\"liberator.core$multiple_representations_QMARK_.invokeStatic(core.clj:250)\",\"liberator.core$multiple_representations_QMARK_.invoke(core.clj:250)\",\"liberator.core$decide.invokeStatic(core.clj:103)\",\"liberator.core$decide.invoke(core.clj:91)\",\"liberator.core$put_to_existing_QMARK_.invokeStatic(core.clj:317)\",\"liberator.core$put_to_existing_QMARK_.invoke(core.clj:317)\",\"liberator.core$decide.invokeStatic(core.clj:103)\",\"liberator.core$decide.invoke(core.clj:91)\",\"liberator.core$post_to_existing_QMARK_.invokeStatic(core.clj:320)\",\"liberator.core$post_to_existing_QMARK_.invoke(core.clj:320)\",\"liberator.core$decide.invokeStatic(core.clj:103)\",\"liberator.core$decide.invoke(core.clj:91)\",\"liberator.core$method_patch_QMARK_.invokeStatic(core.clj:329)\",\"liberator.core$method_patch_QMARK_.invoke(core.clj:329)\",\"liberator.core$decide.invokeStatic(core.clj:103)\",\"liberator.core$decide.invoke(core.clj:91)\",\"liberator.core$method_delete_QMARK_.invokeStatic(core.clj:331)\",\"liberator.core$method_delete_QMARK_.invoke(core.clj:331)\",\"liberator.core$decide.invokeStatic(core.clj:103)\",\"liberator.core$decide.invoke(core.clj:91)\",\"liberator.core$if_modified_since_exists_QMARK_.invokeStatic(core.clj:351)\",\"liberator.core$if_modified_since_exists_QMARK_.invoke(core.clj:351)\",\"liberator.core$decide.invokeStatic(core.clj:103)\",\"liberator.core$decide.invoke(core.clj:91)\",\"liberator.core$if_none_match_exists_QMARK_.invokeStatic(core.clj:369)\",\"liberator.core$if_none_match_exists_QMARK_.invoke(core.clj:369)\",\"liberator.core$decide.invokeStatic(core.clj:103)\",\"liberator.core$decide.invoke(core.clj:91)\",\"liberator.core$if_unmodified_since_exists_QMARK_.invokeStatic(core.clj:389)\",\"liberator.core$if_unmodified_since_exists_QMARK_.invoke(core.clj:389)\",\"liberator.core$decide.invokeStatic(core.clj:103)\",\"liberator.core$decide.invoke(core.clj:91)\",\"liberator.core$if_match_exists_QMARK_.invokeStatic(core.clj:403)\",\"liberator.core$if_match_exists_QMARK_.invoke(core.clj:403)\",\"liberator.core$decide.invokeStatic(core.clj:103)\",\"liberator.core$decide.invoke(core.clj:91)\",\"liberator.core$exists_QMARK_.invokeStatic(core.clj:406)\",\"liberator.core$exists_QMARK_.invoke(core.clj:406)\",\"liberator.core$decide.invokeStatic(core.clj:103)\",\"liberator.core$decide.invoke(core.clj:91)\",\"liberator.core$processable_QMARK_.invokeStatic(core.clj:409)\",\"liberator.core$processable_QMARK_.invoke(core.clj:409)\",\"liberator.core$decide.invokeStatic(core.clj:103)\",\"liberator.core$decide.invoke(core.clj:91)\",\"liberator.core$accept_encoding_exists_QMARK_.invokeStatic(core.clj:428)\",\"liberator.core$accept_encoding_exists_QMARK_.invoke(core.clj:428)\",\"liberator.core$decide.invokeStatic(core.clj:103)\",\"liberator.core$decide.invoke(core.clj:91)\",\"liberator.core$accept_charset_exists_QMARK_.invokeStatic(core.clj:441)\",\"liberator.core$accept_charset_exists_QMARK_.invoke(core.clj:441)\",\"liberator.core$decide.invokeStatic(core.clj:103)\",\"liberator.core$decide.invoke(core.clj:91)\",\"liberator.core$accept_language_exists_QMARK_.invokeStatic(core.clj:455)\",\"liberator.core$accept_language_exists_QMARK_.invoke(core.clj:455)\",\"liberator.core$decide.invokeStatic(core.clj:103)\",\"liberator.core$decide.invoke(core.clj:91)\",\"liberator.core$media_type_available_QMARK_.invokeStatic(core.clj:465)\",\"liberator.core$media_type_available_QMARK_.invoke(core.clj:465)\",\"liberator.core$decide.invokeStatic(core.clj:103)\",\"liberator.core$decide.invoke(core.clj:91)\",\"liberator.core$accept_exists_QMARK_.invokeStatic(core.clj:468)\",\"liberator.core$accept_exists_QMARK_.invoke(core.clj:468)\",\"liberator.core$decide.invokeStatic(core.clj:103)\",\"liberator.core$decide.invoke(core.clj:91)\",\"liberator.core$is_options_QMARK_.invokeStatic(core.clj:485)\",\"liberator.core$is_options_QMARK_.invoke(core.clj:485)\",\"liberator.core$decide.invokeStatic(core.clj:103)\",\"liberator.core$decide.invoke(core.clj:91)\",\"liberator.core$valid_entity_length_QMARK_.invokeStatic(core.clj:488)\",\"liberator.core$valid_entity_length_QMARK_.invoke(core.clj:488)\",\"liberator.core$decide.invokeStatic(core.clj:103)\",\"liberator.core$decide.invoke(core.clj:91)\",\"liberator.core$known_content_type_QMARK_.invokeStatic(core.clj:491)\",\"liberator.core$known_content_type_QMARK_.invoke(core.clj:491)\",\"liberator.core$decide.invokeStatic(core.clj:103)\",\"liberator.core$decide.invoke(core.clj:91)\",\"liberator.core$valid_content_header_QMARK_.invokeStatic(core.clj:493)\",\"liberator.core$valid_content_header_QMARK_.invoke(core.clj:493)\",\"liberator.core$decide.invokeStatic(core.clj:103)\",\"liberator.core$decide.invoke(core.clj:91)\",\"liberator.core$allowed_QMARK_.invokeStatic(core.clj:496)\",\"liberator.core$allowed_QMARK_.invoke(core.clj:496)\",\"liberator.core$decide.invokeStatic(core.clj:103)\",\"liberator.core$decide.invoke(core.clj:91)\",\"liberator.core$authorized_QMARK_.invokeStatic(core.clj:499)\",\"liberator.core$authorized_QMARK_.invoke(core.clj:499)\",\"liberator.core$decide.invokeStatic(core.clj:103)\",\"liberator.core$decide.invoke(core.clj:91)\",\"liberator.core$malformed_QMARK_.invokeStatic(core.clj:502)\",\"liberator.core$malformed_QMARK_.invoke(core.clj:502)\",\"liberator.core$decide.invokeStatic(core.clj:103)\",\"liberator.core$decide.invoke(core.clj:91)\",\"liberator.core$method_allowed_QMARK_.invokeStatic(core.clj:505)\",\"liberator.core$method_allowed_QMARK_.invoke(core.clj:505)\",\"liberator.core$decide.invokeStatic(core.clj:103)\",\"liberator.core$decide.invoke(core.clj:91)\",\"liberator.core$uri_too_long_QMARK_.invokeStatic(core.clj:508)\",\"liberator.core$uri_too_long_QMARK_.invoke(core.clj:508)\",\"liberator.core$decide.invokeStatic(core.clj:103)\",\"liberator.core$decide.invoke(core.clj:91)\",\"liberator.core$known_method_QMARK_.invokeStatic(core.clj:511)\",\"liberator.core$known_method_QMARK_.invoke(core.clj:511)\",\"liberator.core$decide.invokeStatic(core.clj:103)\",\"liberator.core$decide.invoke(core.clj:91)\",\"liberator.core$service_available_QMARK_.invokeStatic(core.clj:514)\",\"liberator.core$service_available_QMARK_.invoke(core.clj:514)\",\"liberator.core$run_resource.invokeStatic(core.clj:599)\",\"liberator.core$run_resource.invoke(core.clj:597)\",\"cayenne.api.v1.routes$journals_resource.invokeStatic(routes.clj:371)\",\"cayenne.api.v1.routes$journals_resource.invoke(routes.clj:371)\",\"compojure.response$eval21232$fn__21233.invoke(response.clj:47)\",\"compojure.response$eval21154$fn__21155$G__21145__21162.invoke(response.clj:7)\",\"compojure.core$wrap_response$fn__21824.invoke(core.clj:158)\",\"compojure.core$wrap_route_middleware$fn__21808.invoke(core.clj:128)\",\"compojure.core$wrap_route_info$fn__21813.invoke(core.clj:137)\",\"compojure.core$wrap_route_matches$fn__21817.invoke(core.clj:146)\",\"compojure.core$routing$fn__21832.invoke(core.clj:185)\",\"clojure.core$some.invokeStatic(core.clj:2592)\",\"clojure.core$some.invoke(core.clj:2583)\",\"compojure.core$routing.invokeStatic(core.clj:185)\",\"compojure.core$routing.doInvoke(core.clj:182)\",\"clojure.lang.RestFn.applyTo(RestFn.java:139)\",\"clojure.core$apply.invokeStatic(core.clj:648)\",\"clojure.core$apply.invoke(core.clj:641)\",\"compojure.core$routes$fn__21836.invoke(core.clj:192)\",\"compojure.core$routing$fn__21832.invoke(core.clj:185)\",\"clojure.core$some.invokeStatic(core.clj:2592)\",\"clojure.core$some.invoke(core.clj:2583)\",\"compojure.core$routing.invokeStatic(core.clj:185)\",\"compojure.core$routing.doInvoke(core.clj:182)\",\"clojure.lang.RestFn.applyTo(RestFn.java:139)\",\"clojure.core$apply.invokeStatic(core.clj:648)\",\"clojure.core$apply.invoke(core.clj:641)\",\"compojure.core$routes$fn__21836.invoke(core.clj:192)\",\"compojure.core$routing$fn__21832.invoke(core.clj:185)\",\"clojure.core$some.invokeStatic(core.clj:2592)\",\"clojure.core$some.invoke(core.clj:2583)\",\"compojure.core$routing.invokeStatic(core.clj:185)\",\"compojure.core$routing.doInvoke(core.clj:182)\",\"clojure.lang.RestFn.applyTo(RestFn.java:139)\",\"clojure.core$apply.invokeStatic(core.clj:648)\",\"clojure.core$apply.invoke(core.clj:641)\",\"compojure.core$routes$fn__21836.invoke(core.clj:192)\",\"ring.middleware.logstash$wrap_logstash$fn__23153.invoke(logstash.clj:110)\",\"ring.middleware.keyword_params$wrap_keyword_params$fn__24015.invoke(keyword_params.clj:36)\",\"ring.middleware.nested_params$wrap_nested_params$fn__24063.invoke(nested_params.clj:89)\",\"ring.middleware.params$wrap_params$fn__23979.invoke(params.clj:67)\",\"cayenne.api.route$wrap_cors$fn__24596.invoke(route.clj:87)\",\"metrics.ring.expose$expose_metrics_as_json$fn__23539.invoke(expose.clj:94)\",\"metrics.ring.instrument$instrument$fn__23555$fn__23556.invoke(instrument.clj:44)\",\"metrics.ring.instrument.proxy$java.lang.Object$Callable$7da976d4.call(Unknown Source)\",\"com.yammer.metrics.core.Timer.time(Timer.java:91)\",\"metrics.ring.instrument$instrument$fn__23555.invoke(instrument.clj:43)\",\"heartbeat.ring$wrap_heartbeat$fn__23241.invoke(ring.clj:18)\",\"cayenne.api.conneg$wrap_accept$fn__19695.invoke(conneg.clj:54)\",\"cayenne.api.route$wrap_exception_handler$fn__24601.invoke(route.clj:96)\",\"cayenne.api.route$wrap_ignore_trailing_slash$fn__24609.invoke(route.clj:122)\",\"org.httpkit.server.HttpHandler.run(RingHandler.java:91)\",\"java.util.concurrent.Executors$RunnableAdapter.call(Executors.java:511)\",\"java.util.concurrent.FutureTask.run(FutureTask.java:266)\",\"java.util.concurrent.ThreadPoolExecutor.runWorker(ThreadPoolExecutor.java:1142)\",\"java.util.concurrent.ThreadPoolExecutor$Worker.run(ThreadPoolExecutor.java:617)\",\"java.lang.Thread.run(Thread.java:745)\"],\"cause\":null}}'"
      ]
     },
     "execution_count": 34,
     "metadata": {},
     "output_type": "execute_result"
    }
   ],
   "source": [
    "urllib.urlopen(url).read()"
   ]
  },
  {
   "cell_type": "code",
   "execution_count": 21,
   "metadata": {
    "collapsed": false
   },
   "outputs": [
    {
     "data": {
      "text/plain": [
       "50079"
      ]
     },
     "execution_count": 21,
     "metadata": {},
     "output_type": "execute_result"
    }
   ],
   "source": [
    "len(dic)"
   ]
  },
  {
   "cell_type": "code",
   "execution_count": 22,
   "metadata": {
    "collapsed": true
   },
   "outputs": [],
   "source": [
    "with open('journals.jsonld', 'w') as outfile:\n",
    "    json.dump(dic, outfile)"
   ]
  },
  {
   "cell_type": "code",
   "execution_count": 23,
   "metadata": {
    "collapsed": false
   },
   "outputs": [
    {
     "data": {
      "text/plain": [
       "{'@id': u'0884-4496',\n",
       " 'e:issn': [u'0884-4496'],\n",
       " 'e:publisher': u'Informa UK (Taylor & Francis)',\n",
       " 'e:title': u'Chinese Republican Studies Newsletter'}"
      ]
     },
     "execution_count": 23,
     "metadata": {},
     "output_type": "execute_result"
    }
   ],
   "source": [
    "dic[100]"
   ]
  },
  {
   "cell_type": "code",
   "execution_count": 24,
   "metadata": {
    "collapsed": false
   },
   "outputs": [
    {
     "name": "stdout",
     "output_type": "stream",
     "text": [
      "{'e:publisher': u'CAIRN', 'e:issn': [u'1260-4984'], 'e:title': u'Syst\\xe8mes d information & management', '@id': u'1260-4984'}\n",
      "{'e:publisher': u'CAIRN', 'e:issn': [u'1260-4984', u'2271-7188'], 'e:title': u'Syst\\xe8mes d information & management', '@id': u'1260-4984'}\n"
     ]
    }
   ],
   "source": [
    "for i in dic:\n",
    "    if '1260-4984' in i['e:issn']:\n",
    "        print i"
   ]
  },
  {
   "cell_type": "code",
   "execution_count": 129,
   "metadata": {
    "collapsed": false
   },
   "outputs": [
    {
     "data": {
      "text/plain": [
       "True"
      ]
     },
     "execution_count": 129,
     "metadata": {},
     "output_type": "execute_result"
    }
   ],
   "source": [
    "{'e:issn': [u'0884-4496'],\n",
    " 'e:publisher': u'Informa UK (Taylor & Francis)',\n",
    " 'e:title': u'Chinese Republican Studies Newsletter'} in dic"
   ]
  },
  {
   "cell_type": "code",
   "execution_count": null,
   "metadata": {
    "collapsed": true
   },
   "outputs": [],
   "source": []
  }
 ],
 "metadata": {
  "kernelspec": {
   "display_name": "Python [Root]",
   "language": "python",
   "name": "Python [Root]"
  },
  "language_info": {
   "codemirror_mode": {
    "name": "ipython",
    "version": 2
   },
   "file_extension": ".py",
   "mimetype": "text/x-python",
   "name": "python",
   "nbconvert_exporter": "python",
   "pygments_lexer": "ipython2",
   "version": "2.7.12"
  }
 },
 "nbformat": 4,
 "nbformat_minor": 0
}
