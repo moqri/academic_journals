{
 "cells": [
  {
   "cell_type": "code",
   "execution_count": 4,
   "metadata": {
    "collapsed": true
   },
   "outputs": [],
   "source": [
    "import os, io, json, urllib, numpy as np, codecs\n",
    "import pandas as pd"
   ]
  },
  {
   "cell_type": "code",
   "execution_count": 5,
   "metadata": {
    "collapsed": true
   },
   "outputs": [],
   "source": [
    "    url=\"https://api.crossref.org/journals?rows=1\"\n",
    "    response = urllib.urlopen(url).read()\n",
    "    json_result=json.loads(response)\n",
    "    count=json_result['message']['total-results']"
   ]
  },
  {
   "cell_type": "code",
   "execution_count": 6,
   "metadata": {
    "collapsed": true
   },
   "outputs": [],
   "source": [
    "base_url=\"https://api.crossref.org/journals?rows=1000&offset=\""
   ]
  },
  {
   "cell_type": "code",
   "execution_count": 7,
   "metadata": {
    "collapsed": false
   },
   "outputs": [
    {
     "name": "stdout",
     "output_type": "stream",
     "text": [
      "0 1 2 3 4 5 6 7 8 9 10 11 12 13 14 15 16 17 18 19 20 21 22 23 24 25 26 27 28 29 30 31 32 33 34 35 36 37 38 39 40 41 42 43 44 45 46 47 48 49 50 51 52 53 54 55 56 57 58 59 60 61 62 63 64 65 66 67 68 69 70 71 72 73 74 75 76 77 78 79 80 81 82 83 84 85 86 87 88 89 90 91 92 93 94 95 96 97 98 99 100 101 102 103 104 105 106 107 108 109 110 111 112 113 114 115 116 117 118 119 120 121 122 123 124 125 126 127 128\n"
     ]
    }
   ],
   "source": [
    "#f=codecs.open('journals.csv','w','utf-8')\n",
    "dic=[]\n",
    "for it in range(count/1000): # change\n",
    "    print it,\n",
    "    offset = it * 1000\n",
    "    url=base_url+str(offset)\n",
    "    response = urllib.urlopen(url).read()\n",
    "    json_result=json.loads(response)\n",
    "    items=json_result['message']['items']\n",
    "    for item in items:\n",
    "        #if len(item['ISSN'])>0:            \n",
    "        journal={}\n",
    "        if 'title' in item: journal['e:title']=item['title'].strip()\n",
    "        if 'publisher' in item: journal['e:publisher']=item['publisher'] \n",
    "        journal['e:issn']=item['ISSN']\n",
    "        if len(item['ISSN'])>0: journal['@id']=item['ISSN'][0]\n",
    "        journal['e:subjects']=[]\n",
    "        for subject in item['subjects']:\n",
    "            journal['e:subjects'].append(subject['name'])\n",
    "        if journal not in dic:\n",
    "            dic.append(journal)"
   ]
  },
  {
   "cell_type": "code",
   "execution_count": 8,
   "metadata": {
    "collapsed": false
   },
   "outputs": [
    {
     "data": {
      "text/plain": [
       "(128522, 5)"
      ]
     },
     "execution_count": 8,
     "metadata": {},
     "output_type": "execute_result"
    }
   ],
   "source": [
    "df=pd.DataFrame(dic)\n",
    "df.shape"
   ]
  },
  {
   "cell_type": "code",
   "execution_count": 9,
   "metadata": {
    "collapsed": false
   },
   "outputs": [
    {
     "data": {
      "text/plain": [
       "(50545, 4)"
      ]
     },
     "execution_count": 9,
     "metadata": {},
     "output_type": "execute_result"
    }
   ],
   "source": [
    "df[df['e:issn'].str.len()>0].groupby('e:title').count().shape"
   ]
  },
  {
   "cell_type": "code",
   "execution_count": 10,
   "metadata": {
    "collapsed": false
   },
   "outputs": [
    {
     "data": {
      "text/plain": [
       "(21363, 4)"
      ]
     },
     "execution_count": 10,
     "metadata": {},
     "output_type": "execute_result"
    }
   ],
   "source": [
    "df[df['e:subjects'].str.len()>0].groupby('e:title').count().shape"
   ]
  },
  {
   "cell_type": "code",
   "execution_count": 11,
   "metadata": {
    "collapsed": false
   },
   "outputs": [],
   "source": [
    "for s in range(20):\n",
    "    dic_chunk=dic[10000*s:10000*(s+1)]\n",
    "    with open('jsonld/'+str(s)+'journals.jsonld', 'w') as outfile:\n",
    "        json.dump(dic_chunk, outfile)"
   ]
  },
  {
   "cell_type": "code",
   "execution_count": 30,
   "metadata": {
    "collapsed": false
   },
   "outputs": [],
   "source": [
    "df.to_csv('journals.csv',encoding='utf-8')"
   ]
  },
  {
   "cell_type": "code",
   "execution_count": 117,
   "metadata": {
    "collapsed": false
   },
   "outputs": [
    {
     "name": "stdout",
     "output_type": "stream",
     "text": [
      "330\n"
     ]
    }
   ],
   "source": [
    "unique_subjects=[]\n",
    "for ss in df['e:subjects'].values:\n",
    "    for s in ss:\n",
    "        if s not in unique_subjects: unique_subjects.append(s)\n",
    "print len(unique_subjects)"
   ]
  },
  {
   "cell_type": "code",
   "execution_count": 2,
   "metadata": {
    "collapsed": false
   },
   "outputs": [
    {
     "ename": "NameError",
     "evalue": "name 'unique_subjects' is not defined",
     "output_type": "error",
     "traceback": [
      "\u001b[1;31m\u001b[0m",
      "\u001b[1;31mNameError\u001b[0mTraceback (most recent call last)",
      "\u001b[1;32m<ipython-input-2-f7e5cb1a0e77>\u001b[0m in \u001b[0;36m<module>\u001b[1;34m()\u001b[0m\n\u001b[0;32m      1\u001b[0m \u001b[1;32mimport\u001b[0m \u001b[0mpandas\u001b[0m \u001b[1;32mas\u001b[0m \u001b[0mpd\u001b[0m\u001b[1;33m\u001b[0m\u001b[0m\n\u001b[1;32m----> 2\u001b[1;33m \u001b[0mpd\u001b[0m\u001b[1;33m.\u001b[0m\u001b[0mDataFrame\u001b[0m\u001b[1;33m(\u001b[0m\u001b[0munique_subjects\u001b[0m\u001b[1;33m)\u001b[0m\u001b[1;33m.\u001b[0m\u001b[0mto_csv\u001b[0m\u001b[1;33m(\u001b[0m\u001b[1;34m'subjects.csv'\u001b[0m\u001b[1;33m,\u001b[0m\u001b[0mindex\u001b[0m\u001b[1;33m=\u001b[0m\u001b[0mFalse\u001b[0m\u001b[1;33m,\u001b[0m\u001b[0mheader\u001b[0m\u001b[1;33m=\u001b[0m \u001b[0mFalse\u001b[0m\u001b[1;33m,\u001b[0m \u001b[0mencoding\u001b[0m\u001b[1;33m=\u001b[0m\u001b[1;34m'utf-8'\u001b[0m\u001b[1;33m)\u001b[0m\u001b[1;33m\u001b[0m\u001b[0m\n\u001b[0m",
      "\u001b[1;31mNameError\u001b[0m: name 'unique_subjects' is not defined"
     ]
    }
   ],
   "source": [
    "pd.DataFrame(unique_subjects).to_csv('subjects.csv',index=False,header= False, encoding='utf-8')"
   ]
  },
  {
   "cell_type": "code",
   "execution_count": 3,
   "metadata": {
    "collapsed": false
   },
   "outputs": [],
   "source": [
    "import pandas as pd\n",
    "\n",
    "subject_cats=pd.read_table('subjects.txt',delimiter=';')#from github\n",
    "subject_cats.shape \n",
    "subject_cats['Low']=subject_cats.Low.apply(lambda x: 'General '+x.replace('(all)','') if '(all)' in x else x)"
   ]
  },
  {
   "cell_type": "code",
   "execution_count": 135,
   "metadata": {
    "collapsed": false
   },
   "outputs": [
    {
     "name": "stdout",
     "output_type": "stream",
     "text": [
      "General\n",
      "Medical–Surgical\n",
      "Pathophysiology\n",
      "General veterinary\n",
      "veterinary (miscalleneous)\n",
      "Medical Terminology\n",
      "Respiratory Care\n"
     ]
    },
    {
     "name": "stderr",
     "output_type": "stream",
     "text": [
      "C:\\Users\\moqri\\AppData\\Local\\Continuum\\Anaconda2\\lib\\site-packages\\ipykernel\\__main__.py:2: UnicodeWarning: Unicode equal comparison failed to convert both arguments to Unicode - interpreting them as being unequal\n",
      "  from ipykernel import kernelapp as app\n"
     ]
    }
   ],
   "source": [
    "for i in subject_cats.Low.values:\n",
    "    if i not in unique_subjects:\n",
    "        print i"
   ]
  },
  {
   "cell_type": "code",
   "execution_count": 136,
   "metadata": {
    "collapsed": false
   },
   "outputs": [
    {
     "name": "stdout",
     "output_type": "stream",
     "text": [
      "General Veterinary\n",
      "Medical–Surgical\n",
      "Multidisciplinary\n",
      "Veterinary (miscalleneous)\n"
     ]
    },
    {
     "name": "stderr",
     "output_type": "stream",
     "text": [
      "C:\\Users\\moqri\\AppData\\Local\\Continuum\\Anaconda2\\lib\\site-packages\\ipykernel\\__main__.py:2: UnicodeWarning: Unicode equal comparison failed to convert both arguments to Unicode - interpreting them as being unequal\n",
      "  from ipykernel import kernelapp as app\n"
     ]
    }
   ],
   "source": [
    "for i in unique_subjects:\n",
    "    if i not in subject_cats.Low.values:\n",
    "        print i"
   ]
  },
  {
   "cell_type": "code",
   "execution_count": 7,
   "metadata": {
    "collapsed": false
   },
   "outputs": [],
   "source": [
    "cats={}\n",
    "for i, row in subject_cats.iterrows():\n",
    "    if row.Middle in cats:\n",
    "        cats[row.Middle]=cats[row.Middle]+','+'\"'+row.Low+'\"'\n",
    "    else:\n",
    "        cats[row.Middle]='\"'+row.Low+'\"'"
   ]
  },
  {
   "cell_type": "code",
   "execution_count": 5,
   "metadata": {
    "collapsed": false
   },
   "outputs": [],
   "source": [
    "Middles=cats.keys()\n",
    "Middles.sort()"
   ]
  },
  {
   "cell_type": "code",
   "execution_count": 139,
   "metadata": {
    "collapsed": false,
    "scrolled": true
   },
   "outputs": [
    {
     "name": "stdout",
     "output_type": "stream",
     "text": [
      "<option value=\"Agricultural and Biological Sciences\">Agricultural and Biological Sciences</option>\n",
      "<option value=\"Arts and Humanities\">Arts and Humanities</option>\n",
      "<option value=\"Biochemistry, Genetics and Molecular Biology\">Biochemistry, Genetics and Molecular Biology</option>\n",
      "<option value=\"Business, Management and Accounting\">Business, Management and Accounting</option>\n",
      "<option value=\"Chemical Engineering\">Chemical Engineering</option>\n",
      "<option value=\"Chemistry\">Chemistry</option>\n",
      "<option value=\"Computer Science\">Computer Science</option>\n",
      "<option value=\"Decision Sciences\">Decision Sciences</option>\n",
      "<option value=\"Dentistry\">Dentistry</option>\n",
      "<option value=\"Earth and Planetary Sciences\">Earth and Planetary Sciences</option>\n",
      "<option value=\"Economics, Econometrics and Finance\">Economics, Econometrics and Finance</option>\n",
      "<option value=\"Energy\">Energy</option>\n",
      "<option value=\"Engineering\">Engineering</option>\n",
      "<option value=\"Environmental Science\">Environmental Science</option>\n",
      "<option value=\"General\">General</option>\n",
      "<option value=\"Health Professions\">Health Professions</option>\n",
      "<option value=\"Immunology and Microbiology\">Immunology and Microbiology</option>\n",
      "<option value=\"Materials Science\">Materials Science</option>\n",
      "<option value=\"Mathematics\">Mathematics</option>\n",
      "<option value=\"Medicine\">Medicine</option>\n",
      "<option value=\"Neuroscience\">Neuroscience</option>\n",
      "<option value=\"Nursing\">Nursing</option>\n",
      "<option value=\"Pharmacology, Toxicology and Pharmaceutics\">Pharmacology, Toxicology and Pharmaceutics</option>\n",
      "<option value=\"Physics and Astronomy\">Physics and Astronomy</option>\n",
      "<option value=\"Psychology\">Psychology</option>\n",
      "<option value=\"Social Sciences\">Social Sciences</option>\n",
      "<option value=\"veterinary\">veterinary</option>\n"
     ]
    }
   ],
   "source": [
    "for key in Middles:\n",
    "    print '<option value=\"'+key+'\">'+key+'</option>'"
   ]
  },
  {
   "cell_type": "code",
   "execution_count": 140,
   "metadata": {
    "collapsed": false,
    "scrolled": false
   },
   "outputs": [
    {
     "name": "stdout",
     "output_type": "stream",
     "text": [
      "case \"Agricultural and Biological Sciences\":\n",
      "\tvals = data[\"Agricultural and Biological Sciences\"].split(\",\");\n",
      "\tbreak;\n",
      "case \"Arts and Humanities\":\n",
      "\tvals = data[\"Arts and Humanities\"].split(\",\");\n",
      "\tbreak;\n",
      "case \"Biochemistry, Genetics and Molecular Biology\":\n",
      "\tvals = data[\"Biochemistry, Genetics and Molecular Biology\"].split(\",\");\n",
      "\tbreak;\n",
      "case \"Business, Management and Accounting\":\n",
      "\tvals = data[\"Business, Management and Accounting\"].split(\",\");\n",
      "\tbreak;\n",
      "case \"Chemical Engineering\":\n",
      "\tvals = data[\"Chemical Engineering\"].split(\",\");\n",
      "\tbreak;\n",
      "case \"Chemistry\":\n",
      "\tvals = data[\"Chemistry\"].split(\",\");\n",
      "\tbreak;\n",
      "case \"Computer Science\":\n",
      "\tvals = data[\"Computer Science\"].split(\",\");\n",
      "\tbreak;\n",
      "case \"Decision Sciences\":\n",
      "\tvals = data[\"Decision Sciences\"].split(\",\");\n",
      "\tbreak;\n",
      "case \"Dentistry\":\n",
      "\tvals = data[\"Dentistry\"].split(\",\");\n",
      "\tbreak;\n",
      "case \"Earth and Planetary Sciences\":\n",
      "\tvals = data[\"Earth and Planetary Sciences\"].split(\",\");\n",
      "\tbreak;\n",
      "case \"Economics, Econometrics and Finance\":\n",
      "\tvals = data[\"Economics, Econometrics and Finance\"].split(\",\");\n",
      "\tbreak;\n",
      "case \"Energy\":\n",
      "\tvals = data[\"Energy\"].split(\",\");\n",
      "\tbreak;\n",
      "case \"Engineering\":\n",
      "\tvals = data[\"Engineering\"].split(\",\");\n",
      "\tbreak;\n",
      "case \"Environmental Science\":\n",
      "\tvals = data[\"Environmental Science\"].split(\",\");\n",
      "\tbreak;\n",
      "case \"General\":\n",
      "\tvals = data[\"General\"].split(\",\");\n",
      "\tbreak;\n",
      "case \"Health Professions\":\n",
      "\tvals = data[\"Health Professions\"].split(\",\");\n",
      "\tbreak;\n",
      "case \"Immunology and Microbiology\":\n",
      "\tvals = data[\"Immunology and Microbiology\"].split(\",\");\n",
      "\tbreak;\n",
      "case \"Materials Science\":\n",
      "\tvals = data[\"Materials Science\"].split(\",\");\n",
      "\tbreak;\n",
      "case \"Mathematics\":\n",
      "\tvals = data[\"Mathematics\"].split(\",\");\n",
      "\tbreak;\n",
      "case \"Medicine\":\n",
      "\tvals = data[\"Medicine\"].split(\",\");\n",
      "\tbreak;\n",
      "case \"Neuroscience\":\n",
      "\tvals = data[\"Neuroscience\"].split(\",\");\n",
      "\tbreak;\n",
      "case \"Nursing\":\n",
      "\tvals = data[\"Nursing\"].split(\",\");\n",
      "\tbreak;\n",
      "case \"Pharmacology, Toxicology and Pharmaceutics\":\n",
      "\tvals = data[\"Pharmacology, Toxicology and Pharmaceutics\"].split(\",\");\n",
      "\tbreak;\n",
      "case \"Physics and Astronomy\":\n",
      "\tvals = data[\"Physics and Astronomy\"].split(\",\");\n",
      "\tbreak;\n",
      "case \"Psychology\":\n",
      "\tvals = data[\"Psychology\"].split(\",\");\n",
      "\tbreak;\n",
      "case \"Social Sciences\":\n",
      "\tvals = data[\"Social Sciences\"].split(\",\");\n",
      "\tbreak;\n",
      "case \"veterinary\":\n",
      "\tvals = data[\"veterinary\"].split(\",\");\n",
      "\tbreak;\n"
     ]
    }
   ],
   "source": [
    "for key in Middles:\n",
    "\tprint 'case \"'+key +'\":'\n",
    "\tprint '\\tvals = data[\"'+key+'\"].split(\",\");'\n",
    "\tprint '\\tbreak;'"
   ]
  },
  {
   "cell_type": "code",
   "execution_count": 8,
   "metadata": {
    "collapsed": false
   },
   "outputs": [],
   "source": [
    "import json\n",
    "with open('cats.json', 'w') as outfile:\n",
    "    json.dump(cats, outfile)"
   ]
  },
  {
   "cell_type": "code",
   "execution_count": 9,
   "metadata": {
    "collapsed": false
   },
   "outputs": [
    {
     "data": {
      "text/plain": [
       "{'Agricultural and Biological Sciences': '\"General Agricultural and Biological Sciences\",\"Agricultural and Biological Sciences (miscellaneous)\",\"Agronomy and Crop Science\",\"Animal Science and Zoology\",\"Aquatic Science\",\"Ecology, Evolution, Behavior and Systematics\",\"Food Science\",\"Forestry\",\"Horticulture\",\"Insect Science\",\"Plant Science\",\"Soil Science\"',\n",
       " 'Arts and Humanities': '\"General Arts and Humanities\",\"Arts and Humanities (miscellaneous)\",\"History\",\"Language and Linguistics\",\"Archaeology\",\"Classics\",\"Conservation\",\"History and Philosophy of Science\",\"Literature and Literary Theory\",\"Museology\",\"Music\",\"Philosophy\",\"Religious studies\",\"Visual Arts and Performing Arts\"',\n",
       " 'Biochemistry, Genetics and Molecular Biology': '\"General Biochemistry, Genetics and Molecular Biology\",\"Biochemistry, Genetics and Molecular Biology (miscellaneous)\",\"Ageing\",\"Biochemistry\",\"Biophysics\",\"Biotechnology\",\"Cancer Research\",\"Cell Biology\",\"Clinical Biochemistry\",\"Developmental Biology\",\"Endocrinology\",\"Genetics\",\"Molecular Biology\",\"Molecular Medicine\",\"Physiology\",\"Structural Biology\"',\n",
       " 'Business, Management and Accounting': '\"General Business, Management and Accounting\",\"Business, Management and Accounting (miscellaneous)\",\"Accounting\",\"Business and International Management\",\"Management Information Systems\",\"Management of Technology and Innovation\",\"Marketing\",\"Organizational Behavior and Human Resource Management\",\"Strategy and Management\",\"Tourism, Leisure and Hospitality Management\",\"Industrial relations\"',\n",
       " 'Chemical Engineering': '\"General Chemical Engineering\",\"Chemical Engineering (miscellaneous)\",\"Bioengineering\",\"Catalysis\",\"Chemical Health and Safety\",\"Colloid and Surface Chemistry\",\"Filtration and Separation\",\"Fluid Flow and Transfer Processes\",\"Process Chemistry and Technology\"',\n",
       " 'Chemistry': '\"General Chemistry\",\"Chemistry (miscellaneous)\",\"Analytical Chemistry\",\"Electrochemistry\",\"Inorganic Chemistry\",\"Organic Chemistry\",\"Physical and Theoretical Chemistry\",\"Spectroscopy\"',\n",
       " 'Computer Science': '\"General Computer Science\",\"Computer Science (miscellaneous)\",\"Artificial Intelligence\",\"Computational Theory and Mathematics\",\"Computer Graphics and Computer-Aided Design\",\"Computer Networks and Communications\",\"Computer Science Applications\",\"Computer Vision and Pattern Recognition\",\"Hardware and Architecture\",\"Human-Computer Interaction\",\"Information Systems\",\"Signal Processing\",\"Software\"',\n",
       " 'Decision Sciences': '\"General Decision Sciences\",\"Decision Sciences (miscellaneous)\",\"Information Systems and Management\",\"Management Science and Operations Research\",\"Statistics, Probability and Uncertainty\"',\n",
       " 'Dentistry': '\"General Dentistry\",\"Dentistry (miscellaneous)\",\"Dental Assisting\",\"Dental Hygiene\",\"Oral Surgery\",\"Orthodontics\",\"Periodontics\"',\n",
       " 'Earth and Planetary Sciences': '\"General Earth and Planetary Sciences\",\"Earth and Planetary Sciences (miscellaneous)\",\"Atmospheric Science\",\"Computers in Earth Sciences\",\"Earth-Surface Processes\",\"Economic Geology\",\"Geochemistry and Petrology\",\"Geology\",\"Geophysics\",\"Geotechnical Engineering and Engineering Geology\",\"Oceanography\",\"Palaeontology\",\"Space and Planetary Science\",\"Stratigraphy\"',\n",
       " 'Economics, Econometrics and Finance': '\"General Economics, Econometrics and Finance\",\"Economics, Econometrics and Finance (miscellaneous)\",\"Economics and Econometrics\",\"Finance\"',\n",
       " 'Energy': '\"General Energy\",\"Energy (miscellaneous)\",\"Energy Engineering and Power Technology\",\"Fuel Technology\",\"Nuclear Energy and Engineering\",\"Renewable Energy, Sustainability and the Environment\"',\n",
       " 'Engineering': '\"General Engineering\",\"Engineering (miscellaneous)\",\"Aerospace Engineering\",\"Automotive Engineering\",\"Biomedical Engineering\",\"Civil and Structural Engineering\",\"Computational Mechanics\",\"Control and Systems Engineering\",\"Electrical and Electronic Engineering\",\"Industrial and Manufacturing Engineering\",\"Mechanical Engineering\",\"Mechanics of Materials\",\"Ocean Engineering\",\"Safety, Risk, Reliability and Quality\",\"Media Technology\",\"Building and Construction\",\"Architecture \"',\n",
       " 'Environmental Science': '\"General Environmental Science\",\"Environmental Science (miscellaneous)\",\"Ecological Modelling\",\"Ecology\",\"Environmental Chemistry\",\"Environmental Engineering\",\"Global and Planetary Change\",\"Health, Toxicology and Mutagenesis\",\"Management, Monitoring, Policy and Law\",\"Nature and Landscape Conservation\",\"Pollution\",\"Waste Management and Disposal\",\"Water Science and Technology\"',\n",
       " 'General': '\"General\"',\n",
       " 'Health Professions': '\"General Health Professions\",\"Health Professions (miscellaneous)\",\"Chiropractics\",\"Complementary and Manual Therapy\",\"Emergency Medical Services\",\"Health Information Management\",\"Medical Assisting and Transcription\",\"Medical Laboratory Technology\",\"Medical Terminology\",\"Occupational Therapy\",\"Optometry\",\"Pharmacy\",\"Physical Therapy, Sports Therapy and Rehabilitation\",\"Podiatry\",\"Radiological and Ultrasound Technology\",\"Respiratory Care\",\"Speech and Hearing\"',\n",
       " 'Immunology and Microbiology': '\"General Immunology and Microbiology\",\"Immunology and Microbiology (miscellaneous) \",\"Applied Microbiology and Biotechnology\",\"Immunology\",\"Microbiology\",\"Parasitology\",\"Virology\"',\n",
       " 'Materials Science': '\"General Materials Science\",\"Materials Science (miscellaneous)\",\"Biomaterials\",\"Ceramics and Composites\",\"Electronic, Optical and Magnetic Materials\",\"Materials Chemistry\",\"Metals and Alloys\",\"Polymers and Plastics\",\"Surfaces, Coatings and Films\"',\n",
       " 'Mathematics': '\"General Mathematics\",\"Mathematics (miscellaneous)\",\"Algebra and Number Theory\",\"Analysis\",\"Applied Mathematics\",\"Computational Mathematics\",\"Control and Optimization\",\"Discrete Mathematics and Combinatorics\",\"Geometry and Topology\",\"Logic\",\"Mathematical Physics\",\"Modelling and Simulation\",\"Numerical Analysis\",\"Statistics and Probability\",\"Theoretical Computer Science\"',\n",
       " 'Medicine': '\"General Medicine\",\"Medicine (miscellaneous)\",\"Anatomy\",\"Anesthesiology and Pain Medicine\",\"Biochemistry, medical\",\"Cardiology and Cardiovascular Medicine\",\"Critical Care and Intensive Care Medicine\",\"Complementary and alternative medicine\",\"Dermatology\",\"Drug guides\",\"Embryology\",\"Emergency Medicine\",\"Endocrinology, Diabetes and Metabolism\",\"Epidemiology\",\"Family Practice\",\"Gastroenterology\",\"Genetics(clinical)\",\"Geriatrics and Gerontology\",\"Health Informatics\",\"Health Policy\",\"Hematology\",\"Hepatology\",\"Histology\",\"Immunology and Allergy\",\"Internal Medicine\",\"Infectious Diseases\",\"Microbiology (medical)\",\"Nephrology\",\"Clinical Neurology\",\"Obstetrics and Gynaecology\",\"Oncology\",\"Ophthalmology\",\"Orthopedics and Sports Medicine\",\"Otorhinolaryngology\",\"Pathology and Forensic Medicine\",\"Pediatrics, Perinatology, and Child Health\",\"Pharmacology (medical)\",\"Physiology (medical)\",\"Psychiatry and Mental health\",\"Public Health, Environmental and Occupational Health\",\"Pulmonary and Respiratory Medicine\",\"Radiology Nuclear Medicine and imaging\",\"Rehabilitation\",\"Reproductive Medicine\",\"Reviews and References, Medical\",\"Rheumatology\",\"Surgery\",\"Transplantation\",\"Urology\"',\n",
       " 'Neuroscience': '\"General Neuroscience\",\"Neuroscience (miscellaneous)\",\"Behavioral Neuroscience\",\"Biological Psychiatry\",\"Cellular and Molecular Neuroscience\",\"Cognitive Neuroscience\",\"Developmental Neuroscience\",\"Endocrine and Autonomic Systems\",\"Neurology\",\"Sensory Systems\"',\n",
       " 'Nursing': '\"General Nursing\",\"Nursing (miscellaneous)\",\"Advanced and Specialised Nursing\",\"Assessment and Diagnosis\",\"Care Planning\",\"Community and Home Care\",\"Critical Care\",\"Emergency\",\"Fundamentals and skills\",\"Gerontology\",\"Issues, ethics and legal aspects\",\"Leadership and Management\",\"LPN and LVN\",\"Maternity and Midwifery\",\"Medical\\xe2\\x80\\x93Surgical\",\"Nurse Assisting\",\"Nutrition and Dietetics\",\"Oncology(nursing)\",\"Pathophysiology\",\"Pediatrics\",\"Pharmacology (nursing)\",\"Phychiatric Mental Health\",\"Research and Theory\",\"Review and Exam Preparation\"',\n",
       " 'Pharmacology, Toxicology and Pharmaceutics': '\"General Pharmacology, Toxicology and Pharmaceutics\",\"Pharmacology, Toxicology and Pharmaceutics (miscellaneous)\",\"Drug Discovery\",\"Pharmaceutical Science\",\"Pharmacology\",\"Toxicology\"',\n",
       " 'Physics and Astronomy': '\"General Physics and Astronomy\",\"Physics and Astronomy (miscellaneous)\",\"Acoustics and Ultrasonics\",\"Astronomy and Astrophysics\",\"Condensed Matter Physics\",\"Instrumentation\",\"Nuclear and High Energy Physics\",\"Atomic and Molecular Physics, and Optics\",\"Radiation\",\"Statistical and Nonlinear Physics\",\"Surfaces and Interfaces\"',\n",
       " 'Psychology': '\"General Psychology\",\"Psychology (miscellaneous)\",\"Applied Psychology\",\"Clinical Psychology\",\"Developmental and Educational Psychology\",\"Experimental and Cognitive Psychology\",\"Neuropsychology and Physiological Psychology\",\"Social Psychology\"',\n",
       " 'Social Sciences': '\"General Social Sciences\",\"Social Sciences (miscellaneous)\",\"Archaeology\",\"Development\",\"Education\",\"Geography, Planning and Development\",\"Health(social science)\",\"Human Factors and Ergonomics\",\"Law\",\"Library and Information Sciences\",\"Linguistics and Language\",\"Safety Research\",\"Sociology and Political Science\",\"Transportation\",\"Anthropology\",\"Communication\",\"Cultural Studies\",\"Demography\",\"Gender Studies\",\"Life-span and Life-course Studies\",\"Political Science and International Relations\",\"Public Administration\",\"Urban Studies\"',\n",
       " 'veterinary': '\"General veterinary\",\"veterinary (miscalleneous)\",\"Equine\",\"Food Animals\",\"Small Animals\"'}"
      ]
     },
     "execution_count": 9,
     "metadata": {},
     "output_type": "execute_result"
    }
   ],
   "source": [
    "cats"
   ]
  },
  {
   "cell_type": "code",
   "execution_count": null,
   "metadata": {
    "collapsed": true
   },
   "outputs": [],
   "source": []
  }
 ],
 "metadata": {
  "anaconda-cloud": {},
  "kernelspec": {
   "display_name": "Python [Root]",
   "language": "python",
   "name": "Python [Root]"
  },
  "language_info": {
   "codemirror_mode": {
    "name": "ipython",
    "version": 2
   },
   "file_extension": ".py",
   "mimetype": "text/x-python",
   "name": "python",
   "nbconvert_exporter": "python",
   "pygments_lexer": "ipython2",
   "version": "2.7.12"
  }
 },
 "nbformat": 4,
 "nbformat_minor": 0
}
