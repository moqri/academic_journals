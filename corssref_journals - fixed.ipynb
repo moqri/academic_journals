{
 "cells": [
  {
   "cell_type": "code",
   "execution_count": 175,
   "metadata": {
    "collapsed": true
   },
   "outputs": [],
   "source": [
    "import os, io, json, urllib, numpy as np, codecs\n",
    "import pandas as pd"
   ]
  },
  {
   "cell_type": "code",
   "execution_count": 176,
   "metadata": {
    "collapsed": true
   },
   "outputs": [],
   "source": [
    "    url=\"https://api.crossref.org/journals?rows=1\"\n",
    "    response = urllib.urlopen(url).read()\n",
    "    json_result=json.loads(response)\n",
    "    count=json_result['message']['total-results']"
   ]
  },
  {
   "cell_type": "code",
   "execution_count": 177,
   "metadata": {
    "collapsed": true
   },
   "outputs": [],
   "source": [
    "base_url=\"https://api.crossref.org/journals?rows=1000&offset=\""
   ]
  },
  {
   "cell_type": "code",
   "execution_count": 466,
   "metadata": {
    "collapsed": false
   },
   "outputs": [
    {
     "name": "stdout",
     "output_type": "stream",
     "text": [
      " 0 1 2 3 4 5 6 7 8 9 10 11 12 13 14 15 16 17 18 19 20 21 22 23 24 25 26 27 28 29 30 31 32 33 34 35 36 37 38 39 40 41 42 43 44 45 46 47 48 49 50 51 52 53 54 55 56 57 58 59 60 61 62 63 64 65 66 67 68 69 70 71 72 73 74 75 76 77 78 79 80 81 82 83 84 85 86 87 88 89 90 91 92 93 94 95 96 97 98 99 100 101 102 103 104 105 106 107 108 109 110 111 112 113 114 115 116 117 118 119 120 121 122 123 124 125 126 127 128\n"
     ]
    }
   ],
   "source": [
    "#f=codecs.open('journals.csv','w','utf-8')\n",
    "dic=[]\n",
    "for it in range(count/1000): # change\n",
    "    print it,\n",
    "    offset = it * 1000\n",
    "    url=base_url+str(offset)\n",
    "    response = urllib.urlopen(url).read()\n",
    "    json_result=json.loads(response)\n",
    "    items=json_result['message']['items']\n",
    "    for item in items:\n",
    "        if len(item['ISSN'])>0 and 'title' in item and 'publisher' in item: \n",
    "            journal={}\n",
    "            journal['e:title']=item['title'].strip()\n",
    "            journal['e:publisher']=item['publisher'] \n",
    "            journal['e:issn']=item['ISSN']\n",
    "            journal['e:subjects']=[]\n",
    "            for subject in item['subjects']:\n",
    "                journal['e:subjects'].append(subject['name'])\n",
    "            if journal not in dic:\n",
    "                dic.append(journal)\n",
    "dic_c=dic                "
   ]
  },
  {
   "cell_type": "code",
   "execution_count": 467,
   "metadata": {
    "collapsed": false
   },
   "outputs": [
    {
     "data": {
      "text/plain": [
       "76670"
      ]
     },
     "execution_count": 467,
     "metadata": {},
     "output_type": "execute_result"
    }
   ],
   "source": [
    "len(dic)"
   ]
  },
  {
   "cell_type": "code",
   "execution_count": 468,
   "metadata": {
    "collapsed": false
   },
   "outputs": [],
   "source": [
    "issn_count=pd.read_csv('issn_count.csv')\n",
    "issn_count_dic={}\n",
    "for index,row in issn_count.iterrows():\n",
    "    issn_count_dic[row['@id']]=row['count']"
   ]
  },
  {
   "cell_type": "code",
   "execution_count": 469,
   "metadata": {
    "collapsed": false,
    "scrolled": true
   },
   "outputs": [],
   "source": [
    "i=0\n",
    "issn_pairs_list=[]\n",
    "for journal in dic:\n",
    "    if len(journal['e:issn'])>1:\n",
    "        issn0=journal['e:issn'][0]; issn_pairs_list.append(issn0)\n",
    "        issn1=journal['e:issn'][1]; issn_pairs_list.append(issn1)\n",
    "        if issn0 in issn_count_dic and issn1 not in issn_count_dic:\n",
    "            journal['@id']=issn0\n",
    "        if issn1 in issn_count_dic and issn0 not in issn_count_dic:\n",
    "            journal['@id']=issn1\n",
    "        if issn0 in issn_count_dic and issn1 in issn_count_dic:\n",
    "            dif=issn_count_dic[issn1]-issn_count_dic[issn0]\n",
    "            if dif> 0: \n",
    "                journal['@id']=issn1\n",
    "            else:\n",
    "                journal['@id']=issn0\n",
    "    dic[i]=journal\n",
    "    i+=1"
   ]
  },
  {
   "cell_type": "code",
   "execution_count": 470,
   "metadata": {
    "collapsed": false
   },
   "outputs": [],
   "source": [
    "i=0\n",
    "for journal in dic:\n",
    "    if len(journal['e:issn'])==1:\n",
    "        issn=journal['e:issn'][0]\n",
    "        if issn not in issn_pairs_list:\n",
    "            journal['@id']=issn\n",
    "    dic[i]=journal\n",
    "    i+=1"
   ]
  },
  {
   "cell_type": "code",
   "execution_count": 471,
   "metadata": {
    "collapsed": false
   },
   "outputs": [
    {
     "data": {
      "text/plain": [
       "47615"
      ]
     },
     "execution_count": 471,
     "metadata": {},
     "output_type": "execute_result"
    }
   ],
   "source": [
    "dic_new=[]\n",
    "for j in dic:\n",
    "    if '@id' in j:\n",
    "        dic_new.append(j)\n",
    "len(dic_new)        "
   ]
  },
  {
   "cell_type": "code",
   "execution_count": 472,
   "metadata": {
    "collapsed": false
   },
   "outputs": [],
   "source": [
    "with open('queryResults.tsv') as f:\n",
    "    road_lines = f.read().splitlines()\n",
    "road_lines=road_lines[1:]"
   ]
  },
  {
   "cell_type": "code",
   "execution_count": 473,
   "metadata": {
    "collapsed": false
   },
   "outputs": [],
   "source": [
    "road_urls=[issn[1:-1] for issn in road_lines]\n",
    "road_issns=[url[-9:] for url in road_urls]"
   ]
  },
  {
   "cell_type": "code",
   "execution_count": 474,
   "metadata": {
    "collapsed": false
   },
   "outputs": [],
   "source": [
    "i=0\n",
    "for journal in dic_new:\n",
    "    issn=journal['@id']\n",
    "    if journal['@id'] in road_issns:\n",
    "        journal['e:open']=1\n",
    "        journal['e:road_url']=road_urls[road_issns.index(issn)]\n",
    "        dic_new[i]=journal\n",
    "    i+=1"
   ]
  },
  {
   "cell_type": "code",
   "execution_count": 475,
   "metadata": {
    "collapsed": false
   },
   "outputs": [
    {
     "data": {
      "text/plain": [
       "47615"
      ]
     },
     "execution_count": 475,
     "metadata": {},
     "output_type": "execute_result"
    }
   ],
   "source": [
    "len(dic_new)"
   ]
  },
  {
   "cell_type": "code",
   "execution_count": 476,
   "metadata": {
    "collapsed": true
   },
   "outputs": [],
   "source": [
    "batches=len(dic_new)/10000\n",
    "for s in range(batches+1):\n",
    "    dic_chunk=dic_new[10000*s:10000*(s+1)]\n",
    "    with open('jsonld/'+str(s)+'journals.jsonld', 'w') as outfile:\n",
    "        json.dump(dic_chunk, outfile)"
   ]
  },
  {
   "cell_type": "code",
   "execution_count": null,
   "metadata": {
    "collapsed": false
   },
   "outputs": [],
   "source": [
    "for j in dic:\n",
    "    if '1545-7885' in j['@id']: print j    \n",
    "    if '1362-4962' in j['@id']: print j"
   ]
  },
  {
   "cell_type": "code",
   "execution_count": 399,
   "metadata": {
    "collapsed": false
   },
   "outputs": [
    {
     "name": "stdout",
     "output_type": "stream",
     "text": [
      "76670\n",
      "50506\n",
      "21348\n"
     ]
    }
   ],
   "source": [
    "df=pd.DataFrame(dic)\n",
    "print df.shape[0]\n",
    "print df[df['e:issn'].str.len()>0].groupby('e:title').count().shape[0]\n",
    "print df[df['e:subjects'].str.len()>0].groupby('e:title').count().shape[0]\n"
   ]
  },
  {
   "cell_type": "code",
   "execution_count": 401,
   "metadata": {
    "collapsed": false
   },
   "outputs": [
    {
     "data": {
      "text/html": [
       "<div>\n",
       "<table border=\"1\" class=\"dataframe\">\n",
       "  <thead>\n",
       "    <tr style=\"text-align: right;\">\n",
       "      <th></th>\n",
       "      <th>@id</th>\n",
       "      <th>e:issn</th>\n",
       "      <th>e:open</th>\n",
       "      <th>e:publisher</th>\n",
       "      <th>e:road_url</th>\n",
       "      <th>e:subjects</th>\n",
       "      <th>e:title</th>\n",
       "    </tr>\n",
       "  </thead>\n",
       "  <tbody>\n",
       "    <tr>\n",
       "      <th>16820</th>\n",
       "      <td>1748-3387</td>\n",
       "      <td>[1748-3387]</td>\n",
       "      <td>NaN</td>\n",
       "      <td>Nature Publishing Group</td>\n",
       "      <td>NaN</td>\n",
       "      <td>[Bioengineering, Biomedical Engineering, Elect...</td>\n",
       "      <td>Nature Nanotechnology</td>\n",
       "    </tr>\n",
       "    <tr>\n",
       "      <th>61540</th>\n",
       "      <td>1748-3387</td>\n",
       "      <td>[1748-3387, 1748-3395]</td>\n",
       "      <td>NaN</td>\n",
       "      <td>Nature Publishing Group</td>\n",
       "      <td>NaN</td>\n",
       "      <td>[Bioengineering, Biomedical Engineering, Elect...</td>\n",
       "      <td>Nature Nanotechnology</td>\n",
       "    </tr>\n",
       "  </tbody>\n",
       "</table>\n",
       "</div>"
      ],
      "text/plain": [
       "             @id                  e:issn  e:open              e:publisher  \\\n",
       "16820  1748-3387             [1748-3387]     NaN  Nature Publishing Group   \n",
       "61540  1748-3387  [1748-3387, 1748-3395]     NaN  Nature Publishing Group   \n",
       "\n",
       "      e:road_url                                         e:subjects  \\\n",
       "16820        NaN  [Bioengineering, Biomedical Engineering, Elect...   \n",
       "61540        NaN  [Bioengineering, Biomedical Engineering, Elect...   \n",
       "\n",
       "                     e:title  \n",
       "16820  Nature Nanotechnology  \n",
       "61540  Nature Nanotechnology  "
      ]
     },
     "execution_count": 401,
     "metadata": {},
     "output_type": "execute_result"
    }
   ],
   "source": [
    "df[df['e:title']=='Nature Nanotechnology']"
   ]
  },
  {
   "cell_type": "code",
   "execution_count": null,
   "metadata": {
    "collapsed": true
   },
   "outputs": [],
   "source": []
  },
  {
   "cell_type": "code",
   "execution_count": 185,
   "metadata": {
    "collapsed": false
   },
   "outputs": [
    {
     "name": "stdout",
     "output_type": "stream",
     "text": [
      "330\n"
     ]
    }
   ],
   "source": [
    "unique_subjects=[]\n",
    "for ss in df['e:subjects'].values:\n",
    "    for s in ss:\n",
    "        if s not in unique_subjects: unique_subjects.append(s)\n",
    "print len(unique_subjects)"
   ]
  },
  {
   "cell_type": "code",
   "execution_count": 186,
   "metadata": {
    "collapsed": false
   },
   "outputs": [],
   "source": [
    "pd.DataFrame(unique_subjects).to_csv('subjects.csv',index=False,header= False, encoding='utf-8')"
   ]
  },
  {
   "cell_type": "code",
   "execution_count": 205,
   "metadata": {
    "collapsed": false
   },
   "outputs": [],
   "source": [
    "with open ('ASJC.txt','r') as myfile:\n",
    "    ASJC=myfile.read()"
   ]
  },
  {
   "cell_type": "code",
   "execution_count": 207,
   "metadata": {
    "collapsed": false
   },
   "outputs": [],
   "source": [
    "ASJC=ASJC.replace('General','Multidisciplinary')\n",
    "ASJC=ASJC.replace('veterinary','Veterinary')\n",
    "ASJC=ASJC.replace('General veterinary','General Veterinary')\n",
    "ASJC=ASJC.replace('veterinary (miscalleneous','Veterinary (miscalleneous)')"
   ]
  },
  {
   "cell_type": "code",
   "execution_count": 208,
   "metadata": {
    "collapsed": false
   },
   "outputs": [],
   "source": [
    "from StringIO import StringIO\n",
    "subject_cats=pd.read_table(StringIO(ASJC),delimiter=';')#from github\n",
    "subject_cats.shape \n",
    "subject_cats['Low']=subject_cats.Low.apply(lambda x: 'General '+x.replace('(all)','') if '(all)' in x else x)"
   ]
  },
  {
   "cell_type": "code",
   "execution_count": 213,
   "metadata": {
    "collapsed": false
   },
   "outputs": [
    {
     "name": "stdout",
     "output_type": "stream",
     "text": [
      "Medical–Surgical\n",
      "Pathophysiology\n",
      "Medical Terminology\n",
      "Respiratory Care\n"
     ]
    },
    {
     "name": "stderr",
     "output_type": "stream",
     "text": [
      "C:\\Users\\moqri\\AppData\\Local\\Continuum\\Anaconda2\\lib\\site-packages\\ipykernel\\__main__.py:2: UnicodeWarning: Unicode equal comparison failed to convert both arguments to Unicode - interpreting them as being unequal\n",
      "  from ipykernel import kernelapp as app\n"
     ]
    }
   ],
   "source": [
    "for i in subject_cats.Low.values:\n",
    "    if i not in unique_subjects:\n",
    "        print i"
   ]
  },
  {
   "cell_type": "code",
   "execution_count": 214,
   "metadata": {
    "collapsed": false
   },
   "outputs": [
    {
     "name": "stdout",
     "output_type": "stream",
     "text": [
      "Medical–Surgical\n"
     ]
    },
    {
     "name": "stderr",
     "output_type": "stream",
     "text": [
      "C:\\Users\\moqri\\AppData\\Local\\Continuum\\Anaconda2\\lib\\site-packages\\ipykernel\\__main__.py:2: UnicodeWarning: Unicode equal comparison failed to convert both arguments to Unicode - interpreting them as being unequal\n",
      "  from ipykernel import kernelapp as app\n"
     ]
    }
   ],
   "source": [
    "for i in unique_subjects:\n",
    "    if i not in subject_cats.Low.values:\n",
    "        print i"
   ]
  },
  {
   "cell_type": "code",
   "execution_count": 215,
   "metadata": {
    "collapsed": false
   },
   "outputs": [],
   "source": [
    "cats={}\n",
    "for i, row in subject_cats.iterrows():\n",
    "    cat=row.Middle.strip()\n",
    "    subject=(row.Low).strip()\n",
    "    if cat in cats:\n",
    "        cats[cat]=cats[cat]+';'+subject\n",
    "    else:\n",
    "        cats[cat]=subject"
   ]
  },
  {
   "cell_type": "code",
   "execution_count": 216,
   "metadata": {
    "collapsed": false
   },
   "outputs": [],
   "source": [
    "Middles=cats.keys()\n",
    "Middles.sort()"
   ]
  },
  {
   "cell_type": "code",
   "execution_count": 217,
   "metadata": {
    "collapsed": false,
    "scrolled": true
   },
   "outputs": [
    {
     "name": "stdout",
     "output_type": "stream",
     "text": [
      "<option value=\"Agricultural and Biological Sciences\">Agricultural and Biological Sciences</option>\n",
      "<option value=\"Arts and Humanities\">Arts and Humanities</option>\n",
      "<option value=\"Biochemistry, Genetics and Molecular Biology\">Biochemistry, Genetics and Molecular Biology</option>\n",
      "<option value=\"Business, Management and Accounting\">Business, Management and Accounting</option>\n",
      "<option value=\"Chemical Engineering\">Chemical Engineering</option>\n",
      "<option value=\"Chemistry\">Chemistry</option>\n",
      "<option value=\"Computer Science\">Computer Science</option>\n",
      "<option value=\"Decision Sciences\">Decision Sciences</option>\n",
      "<option value=\"Dentistry\">Dentistry</option>\n",
      "<option value=\"Earth and Planetary Sciences\">Earth and Planetary Sciences</option>\n",
      "<option value=\"Economics, Econometrics and Finance\">Economics, Econometrics and Finance</option>\n",
      "<option value=\"Energy\">Energy</option>\n",
      "<option value=\"Engineering\">Engineering</option>\n",
      "<option value=\"Environmental Science\">Environmental Science</option>\n",
      "<option value=\"Health Professions\">Health Professions</option>\n",
      "<option value=\"Immunology and Microbiology\">Immunology and Microbiology</option>\n",
      "<option value=\"Materials Science\">Materials Science</option>\n",
      "<option value=\"Mathematics\">Mathematics</option>\n",
      "<option value=\"Medicine\">Medicine</option>\n",
      "<option value=\"Multidisciplinary\">Multidisciplinary</option>\n",
      "<option value=\"Neuroscience\">Neuroscience</option>\n",
      "<option value=\"Nursing\">Nursing</option>\n",
      "<option value=\"Pharmacology, Toxicology and Pharmaceutics\">Pharmacology, Toxicology and Pharmaceutics</option>\n",
      "<option value=\"Physics and Astronomy\">Physics and Astronomy</option>\n",
      "<option value=\"Psychology\">Psychology</option>\n",
      "<option value=\"Social Sciences\">Social Sciences</option>\n",
      "<option value=\"Veterinary\">Veterinary</option>\n"
     ]
    }
   ],
   "source": [
    "for key in Middles:\n",
    "    print '<option value=\"'+key+'\">'+key+'</option>'"
   ]
  },
  {
   "cell_type": "code",
   "execution_count": 218,
   "metadata": {
    "collapsed": false,
    "scrolled": true
   },
   "outputs": [
    {
     "name": "stdout",
     "output_type": "stream",
     "text": [
      "case \"Agricultural and Biological Sciences\":\n",
      "\tvals = data[\"Agricultural and Biological Sciences\"].split(\";\");\n",
      "\tbreak;\n",
      "case \"Arts and Humanities\":\n",
      "\tvals = data[\"Arts and Humanities\"].split(\";\");\n",
      "\tbreak;\n",
      "case \"Biochemistry, Genetics and Molecular Biology\":\n",
      "\tvals = data[\"Biochemistry, Genetics and Molecular Biology\"].split(\";\");\n",
      "\tbreak;\n",
      "case \"Business, Management and Accounting\":\n",
      "\tvals = data[\"Business, Management and Accounting\"].split(\";\");\n",
      "\tbreak;\n",
      "case \"Chemical Engineering\":\n",
      "\tvals = data[\"Chemical Engineering\"].split(\";\");\n",
      "\tbreak;\n",
      "case \"Chemistry\":\n",
      "\tvals = data[\"Chemistry\"].split(\";\");\n",
      "\tbreak;\n",
      "case \"Computer Science\":\n",
      "\tvals = data[\"Computer Science\"].split(\";\");\n",
      "\tbreak;\n",
      "case \"Decision Sciences\":\n",
      "\tvals = data[\"Decision Sciences\"].split(\";\");\n",
      "\tbreak;\n",
      "case \"Dentistry\":\n",
      "\tvals = data[\"Dentistry\"].split(\";\");\n",
      "\tbreak;\n",
      "case \"Earth and Planetary Sciences\":\n",
      "\tvals = data[\"Earth and Planetary Sciences\"].split(\";\");\n",
      "\tbreak;\n",
      "case \"Economics, Econometrics and Finance\":\n",
      "\tvals = data[\"Economics, Econometrics and Finance\"].split(\";\");\n",
      "\tbreak;\n",
      "case \"Energy\":\n",
      "\tvals = data[\"Energy\"].split(\";\");\n",
      "\tbreak;\n",
      "case \"Engineering\":\n",
      "\tvals = data[\"Engineering\"].split(\";\");\n",
      "\tbreak;\n",
      "case \"Environmental Science\":\n",
      "\tvals = data[\"Environmental Science\"].split(\";\");\n",
      "\tbreak;\n",
      "case \"Health Professions\":\n",
      "\tvals = data[\"Health Professions\"].split(\";\");\n",
      "\tbreak;\n",
      "case \"Immunology and Microbiology\":\n",
      "\tvals = data[\"Immunology and Microbiology\"].split(\";\");\n",
      "\tbreak;\n",
      "case \"Materials Science\":\n",
      "\tvals = data[\"Materials Science\"].split(\";\");\n",
      "\tbreak;\n",
      "case \"Mathematics\":\n",
      "\tvals = data[\"Mathematics\"].split(\";\");\n",
      "\tbreak;\n",
      "case \"Medicine\":\n",
      "\tvals = data[\"Medicine\"].split(\";\");\n",
      "\tbreak;\n",
      "case \"Multidisciplinary\":\n",
      "\tvals = data[\"Multidisciplinary\"].split(\";\");\n",
      "\tbreak;\n",
      "case \"Neuroscience\":\n",
      "\tvals = data[\"Neuroscience\"].split(\";\");\n",
      "\tbreak;\n",
      "case \"Nursing\":\n",
      "\tvals = data[\"Nursing\"].split(\";\");\n",
      "\tbreak;\n",
      "case \"Pharmacology, Toxicology and Pharmaceutics\":\n",
      "\tvals = data[\"Pharmacology, Toxicology and Pharmaceutics\"].split(\";\");\n",
      "\tbreak;\n",
      "case \"Physics and Astronomy\":\n",
      "\tvals = data[\"Physics and Astronomy\"].split(\";\");\n",
      "\tbreak;\n",
      "case \"Psychology\":\n",
      "\tvals = data[\"Psychology\"].split(\";\");\n",
      "\tbreak;\n",
      "case \"Social Sciences\":\n",
      "\tvals = data[\"Social Sciences\"].split(\";\");\n",
      "\tbreak;\n",
      "case \"Veterinary\":\n",
      "\tvals = data[\"Veterinary\"].split(\";\");\n",
      "\tbreak;\n"
     ]
    }
   ],
   "source": [
    "for key in Middles:\n",
    "\tprint 'case \"'+key +'\":'\n",
    "\tprint '\\tvals = data[\"'+key+'\"].split(\";\");'\n",
    "\tprint '\\tbreak;'"
   ]
  },
  {
   "cell_type": "code",
   "execution_count": 219,
   "metadata": {
    "collapsed": false
   },
   "outputs": [],
   "source": [
    "import json\n",
    "with open('sjdb\\cats.json', 'w') as outfile:\n",
    "    json.dump(cats, outfile)"
   ]
  }
 ],
 "metadata": {
  "anaconda-cloud": {},
  "kernelspec": {
   "display_name": "Python [Root]",
   "language": "python",
   "name": "Python [Root]"
  },
  "language_info": {
   "codemirror_mode": {
    "name": "ipython",
    "version": 2
   },
   "file_extension": ".py",
   "mimetype": "text/x-python",
   "name": "python",
   "nbconvert_exporter": "python",
   "pygments_lexer": "ipython2",
   "version": "2.7.12"
  }
 },
 "nbformat": 4,
 "nbformat_minor": 0
}
